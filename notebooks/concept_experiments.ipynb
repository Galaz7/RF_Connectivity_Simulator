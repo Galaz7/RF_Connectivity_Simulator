{
 "cells": [
  {
   "cell_type": "code",
   "execution_count": 2,
   "metadata": {},
   "outputs": [],
   "source": [
    "\n",
    "%load_ext autoreload\n",
    "%autoreload 2\n",
    "\n",
    "import numpy as np\n",
    "from matplotlib import pyplot as plt\n",
    "\n",
    "from dataclasses import dataclass\n",
    "import numpy as np\n",
    "import plotly.graph_objects as go\n",
    "\n",
    "import rf_network as rn\n",
    "import notebook_tools as nt\n",
    "\n",
    "from tqdm import tqdm\n",
    "import cv2\n",
    "import os\n",
    "from network_simulator import NetworkSimulator"
   ]
  },
  {
   "cell_type": "code",
   "execution_count": 16,
   "metadata": {},
   "outputs": [
    {
     "data": {
      "image/png": "[encoded data removed]",
      "text/plain": [
       "<Figure size 640x480 with 1 Axes>"
      ]
     },
     "metadata": {},
     "output_type": "display_data"
    }
   ],
   "source": [
    "nodes = rn.create_nodes_samples(rn.NodesDistributionParams())\n",
    "fig=plt.figure()\n",
    "plt.subplot(111)\n",
    "#nt.figure_visualize_nodes(nodes)\n",
    "nt.visualize_nodes(nodes,fig,\"blue\",is_plotly=False)\n",
    "\n",
    "\n",
    "\n"
   ]
  },
  {
   "cell_type": "code",
   "execution_count": 6,
   "metadata": {},
   "outputs": [
    {
     "data": {
      "application/vnd.plotly.v1+json": {
       "config": {
        "plotlyServerURL": "https://plot.ly"
       },
       "data": [
        {
         "marker": {
          "color": "blue"
         },
         "mode": "markers",
         "name": "Nodes",
         "text": [
          "index:0",
          "index:1",
          "index:2",
          "index:3",
          "index:4",
          "index:5",
          "index:6",
          "index:7",
          "index:8",
          "index:9",
          "index:10",
          "index:11",
          "index:12",
          "index:13",
          "index:14",
          "index:15",
          "index:16",
          "index:17",
          "index:18",
          "index:19",
          "index:20",
          "index:21",
          "index:22",
          "index:23",
          "index:24",
          "index:25",
          "index:26",
          "index:27",
          "index:28",
          "index:29",
          "index:30",
          "index:31",
          "index:32",
          "index:33",
          "index:34",
          "index:35",
          "index:36",
          "index:37",
          "index:38",
          "index:39",
          "index:40",
          "index:41",
          "index:42",
          "index:43",
          "index:44",
          "index:45",
          "index:46",
          "index:47",
          "index:48",
          "index:49",
          "index:50",
          "index:51",
          "index:52",
          "index:53",
          "index:54",
          "index:55",
          "index:56",
          "index:57",
          "index:58",
          "index:59",
          "index:60",
          "index:61",
          "index:62",
          "index:63",
          "index:64",
          "index:65",
          "index:66",
          "index:67",
          "index:68",
          "index:69",
          "index:70",
          "index:71",
          "index:72",
          "index:73",
          "index:74",
          "index:75",
          "index:76",
          "index:77",
          "index:78",
          "index:79",
          "index:80",
          "index:81",
          "index:82",
          "index:83",
          "index:84",
          "index:85",
          "index:86",
          "index:87",
          "index:88",
          "index:89",
          "index:90",
          "index:91",
          "index:92",
          "index:93",
          "index:94",
          "index:95",
          "index:96",
          "index:97",
          "index:98",
          "index:99"
         ],
         "type": "scatter",
         "x": [
          14.80820123346007,
          28.18238863755222,
          26.87129308326135,
          10.880396426238333,
          17.274589110430938,
          2.117803552666606,
          12.58124163245527,
          27.2438242146343,
          11.110474600641579,
          21.635586328710414,
          6.108038138403945,
          14.112198812941937,
          12.82653174388791,
          8.492834304037277,
          16.546949161688335,
          6.33683420488237,
          19.382353273929233,
          13.344987092556819,
          19.17126439120979,
          2.9939308038551724,
          21.633386969655525,
          2.7122370551710038,
          11.836268878380473,
          4.588085999356323,
          10.462308517988863,
          24.66648162729082,
          14.671977369613801,
          27.01655257903733,
          22.98903758451937,
          4.3681018417851565,
          3.0832077253231094,
          29.07399716118411,
          15.035343612162457,
          21.060206418360462,
          21.02468843501875,
          20.95085974406645,
          24.89724194143545,
          28.3478599963103,
          7.3086528805402216,
          10.868369003749063,
          22.054540203785596,
          25.909064087901925,
          7.397624784491211,
          6.860363747743296,
          27.595811714326825,
          12.654746602759126,
          5.676293158583433,
          25.26859717107015,
          17.925940636497266,
          15.443902131965112,
          23.281226337863572,
          19.56878756422136,
          0.7304686182441089,
          15.54026695838278,
          27.464770338293096,
          19.95494359878832,
          5.3411302569144095,
          26.212809511190088,
          4.926852548350493,
          22.64032433992959,
          5.3521362644403485,
          6.783394774602497,
          14.125971099342532,
          20.318553308905546,
          6.133865818860611,
          17.775543641074453,
          22.806160191760817,
          2.146843414043935,
          21.039915796004355,
          24.861847640873297,
          23.504856956766833,
          24.175644269474798,
          7.697347925191709,
          5.434873387355045,
          9.855913331197572,
          18.428358596512474,
          3.8032347293577318,
          23.140982562672836,
          3.1787654566432333,
          20.933317507527498,
          10.414452669963218,
          9.199007752590132,
          14.421472677569183,
          16.912113181901866,
          10.369777870580085,
          4.306928543084368,
          15.495842526851748,
          0.02986409209479346,
          2.3348966997076026,
          14.597305899708129,
          14.566490438860987,
          28.311337258396048,
          16.918395482476466,
          29.77906896026113,
          29.913468784718425,
          1.8007084944759888,
          4.732820724902508,
          28.69433418830461,
          13.748484055154117,
          1.025564051223945
         ],
         "y": [
          9.954422822571399,
          19.899424391148084,
          19.713589711412858,
          11.449109078909393,
          27.06320328126771,
          13.428782591877589,
          15.64869169029434,
          10.2916300294753,
          29.02952567236147,
          7.772740138135596,
          23.221493803536738,
          0.5266885393909415,
          3.634913416925376,
          28.64087730719288,
          5.910407390193242,
          24.954512386591336,
          23.138594258981545,
          6.84462078560067,
          5.762314366126239,
          3.3430803858110556,
          28.044897995494598,
          1.7361881139222846,
          23.868938836608095,
          12.312598223843352,
          2.859486603531484,
          26.709466021252943,
          0.7579477967115344,
          2.82693939097486,
          25.84942355976381,
          26.564497575368165,
          28.428157543723863,
          6.0635381622063935,
          25.2252739835346,
          24.466459674631576,
          6.545917725354805,
          28.348406009781712,
          15.720854341815354,
          6.537189367029307,
          13.735875549998738,
          15.031584043079778,
          12.939603284188738,
          7.117879822492976,
          21.026500309514827,
          5.618652790367382,
          8.753595792952423,
          21.159690383423303,
          0.6089852533335849,
          6.936853859397196,
          25.183085116498578,
          9.031353532509689,
          9.921768843255087,
          14.42446292199966,
          24.940474485759886,
          11.318141873927758,
          0.48364528706129173,
          19.66385710955042,
          23.221392329994696,
          15.328442065419264,
          27.18701302988264,
          11.916437374180207,
          25.230383848905646,
          1.1950957704011445,
          13.703276593183663,
          14.292908817936311,
          18.901173231123874,
          18.784800433094208,
          11.397791427142652,
          11.583543904027524,
          7.364772756440992,
          16.509164850501993,
          11.506034237510768,
          12.48654387635084,
          7.1771780791680175,
          10.479307957501915,
          22.39858503687489,
          13.98965455642333,
          6.9021871898001095,
          16.62247435649216,
          10.809538778938526,
          17.24988084470617,
          6.285867898815373,
          13.8233808301754,
          26.64244762626985,
          2.8136357042282514,
          28.27636951734392,
          15.220488368218355,
          17.07579400371926,
          7.916223444580482,
          4.638921450296181,
          15.670924012017274,
          23.37123083237706,
          10.518566712339773,
          12.663325539938175,
          27.326623731605732,
          9.40182436807964,
          2.3679498472295126,
          19.744254732988928,
          29.592148667861416,
          3.9355274655385997,
          26.248759098072597
         ]
        },
        {
         "line": {
          "color": "black"
         },
         "mode": "lines",
         "showlegend": false,
         "type": "scatter",
         "x": [
          14.80820123346007,
          15.443902131965112
         ],
         "y": [
          9.954422822571399,
          9.031353532509689
         ]
        },
        {
         "line": {
          "color": "black"
         },
         "mode": "lines",
         "showlegend": false,
         "type": "scatter",
         "x": [
          14.80820123346007,
          15.54026695838278
         ],
         "y": [
          9.954422822571399,
          11.318141873927758
         ]
        },
        {
         "line": {
          "color": "black"
         },
         "mode": "lines",
         "showlegend": false,
         "type": "scatter",
         "x": [
          28.18238863755222,
          26.87129308326135
         ],
         "y": [
          19.899424391148084,
          19.713589711412858
         ]
        },
        {
         "line": {
          "color": "black"
         },
         "mode": "lines",
         "showlegend": false,
         "type": "scatter",
         "x": [
          26.87129308326135,
          28.18238863755222
         ],
         "y": [
          19.713589711412858,
          19.899424391148084
         ]
        },
        {
         "line": {
          "color": "black"
         },
         "mode": "lines",
         "showlegend": false,
         "type": "scatter",
         "x": [
          10.880396426238333,
          9.199007752590132
         ],
         "y": [
          11.449109078909393,
          13.8233808301754
         ]
        },
        {
         "line": {
          "color": "black"
         },
         "mode": "lines",
         "showlegend": false,
         "type": "scatter",
         "x": [
          17.274589110430938,
          15.035343612162457
         ],
         "y": [
          27.06320328126771,
          25.2252739835346
         ]
        },
        {
         "line": {
          "color": "black"
         },
         "mode": "lines",
         "showlegend": false,
         "type": "scatter",
         "x": [
          17.274589110430938,
          17.925940636497266
         ],
         "y": [
          27.06320328126771,
          25.183085116498578
         ]
        },
        {
         "line": {
          "color": "black"
         },
         "mode": "lines",
         "showlegend": false,
         "type": "scatter",
         "x": [
          17.274589110430938,
          14.421472677569183
         ],
         "y": [
          27.06320328126771,
          26.64244762626985
         ]
        },
        {
         "line": {
          "color": "black"
         },
         "mode": "lines",
         "showlegend": false,
         "type": "scatter",
         "x": [
          2.117803552666606,
          4.588085999356323
         ],
         "y": [
          13.428782591877589,
          12.312598223843352
         ]
        },
        {
         "line": {
          "color": "black"
         },
         "mode": "lines",
         "showlegend": false,
         "type": "scatter",
         "x": [
          2.117803552666606,
          2.146843414043935
         ],
         "y": [
          13.428782591877589,
          11.583543904027524
         ]
        },
        {
         "line": {
          "color": "black"
         },
         "mode": "lines",
         "showlegend": false,
         "type": "scatter",
         "x": [
          2.117803552666606,
          3.1787654566432333
         ],
         "y": [
          13.428782591877589,
          10.809538778938526
         ]
        },
        {
         "line": {
          "color": "black"
         },
         "mode": "lines",
         "showlegend": false,
         "type": "scatter",
         "x": [
          2.117803552666606,
          4.306928543084368
         ],
         "y": [
          13.428782591877589,
          15.220488368218355
         ]
        },
        {
         "line": {
          "color": "black"
         },
         "mode": "lines",
         "showlegend": false,
         "type": "scatter",
         "x": [
          12.58124163245527,
          10.868369003749063
         ],
         "y": [
          15.64869169029434,
          15.031584043079778
         ]
        },
        {
         "line": {
          "color": "black"
         },
         "mode": "lines",
         "showlegend": false,
         "type": "scatter",
         "x": [
          12.58124163245527,
          14.125971099342532
         ],
         "y": [
          15.64869169029434,
          13.703276593183663
         ]
        },
        {
         "line": {
          "color": "black"
         },
         "mode": "lines",
         "showlegend": false,
         "type": "scatter",
         "x": [
          12.58124163245527,
          14.597305899708129
         ],
         "y": [
          15.64869169029434,
          15.670924012017274
         ]
        },
        {
         "line": {
          "color": "black"
         },
         "mode": "lines",
         "showlegend": false,
         "type": "scatter",
         "x": [
          27.2438242146343,
          27.595811714326825
         ],
         "y": [
          10.2916300294753,
          8.753595792952423
         ]
        },
        {
         "line": {
          "color": "black"
         },
         "mode": "lines",
         "showlegend": false,
         "type": "scatter",
         "x": [
          27.2438242146343,
          28.311337258396048
         ],
         "y": [
          10.2916300294753,
          10.518566712339773
         ]
        },
        {
         "line": {
          "color": "black"
         },
         "mode": "lines",
         "showlegend": false,
         "type": "scatter",
         "x": [
          27.2438242146343,
          29.913468784718425
         ],
         "y": [
          10.2916300294753,
          9.40182436807964
         ]
        },
        {
         "line": {
          "color": "black"
         },
         "mode": "lines",
         "showlegend": false,
         "type": "scatter",
         "x": [
          11.110474600641579,
          8.492834304037277
         ],
         "y": [
          29.02952567236147,
          28.64087730719288
         ]
        },
        {
         "line": {
          "color": "black"
         },
         "mode": "lines",
         "showlegend": false,
         "type": "scatter",
         "x": [
          11.110474600641579,
          10.369777870580085
         ],
         "y": [
          29.02952567236147,
          28.27636951734392
         ]
        },
        {
         "line": {
          "color": "black"
         },
         "mode": "lines",
         "showlegend": false,
         "type": "scatter",
         "x": [
          21.635586328710414,
          21.02468843501875
         ],
         "y": [
          7.772740138135596,
          6.545917725354805
         ]
        },
        {
         "line": {
          "color": "black"
         },
         "mode": "lines",
         "showlegend": false,
         "type": "scatter",
         "x": [
          21.635586328710414,
          23.281226337863572
         ],
         "y": [
          7.772740138135596,
          9.921768843255087
         ]
        },
        {
         "line": {
          "color": "black"
         },
         "mode": "lines",
         "showlegend": false,
         "type": "scatter",
         "x": [
          21.635586328710414,
          21.039915796004355
         ],
         "y": [
          7.772740138135596,
          7.364772756440992
         ]
        },
        {
         "line": {
          "color": "black"
         },
         "mode": "lines",
         "showlegend": false,
         "type": "scatter",
         "x": [
          6.108038138403945,
          6.33683420488237
         ],
         "y": [
          23.221493803536738,
          24.954512386591336
         ]
        },
        {
         "line": {
          "color": "black"
         },
         "mode": "lines",
         "showlegend": false,
         "type": "scatter",
         "x": [
          6.108038138403945,
          7.397624784491211
         ],
         "y": [
          23.221493803536738,
          21.026500309514827
         ]
        },
        {
         "line": {
          "color": "black"
         },
         "mode": "lines",
         "showlegend": false,
         "type": "scatter",
         "x": [
          6.108038138403945,
          5.3411302569144095
         ],
         "y": [
          23.221493803536738,
          23.221392329994696
         ]
        },
        {
         "line": {
          "color": "black"
         },
         "mode": "lines",
         "showlegend": false,
         "type": "scatter",
         "x": [
          6.108038138403945,
          5.3521362644403485
         ],
         "y": [
          23.221493803536738,
          25.230383848905646
         ]
        },
        {
         "line": {
          "color": "black"
         },
         "mode": "lines",
         "showlegend": false,
         "type": "scatter",
         "x": [
          14.112198812941937,
          14.671977369613801
         ],
         "y": [
          0.5266885393909415,
          0.7579477967115344
         ]
        },
        {
         "line": {
          "color": "black"
         },
         "mode": "lines",
         "showlegend": false,
         "type": "scatter",
         "x": [
          12.82653174388791,
          10.462308517988863
         ],
         "y": [
          3.634913416925376,
          2.859486603531484
         ]
        },
        {
         "line": {
          "color": "black"
         },
         "mode": "lines",
         "showlegend": false,
         "type": "scatter",
         "x": [
          12.82653174388791,
          13.748484055154117
         ],
         "y": [
          3.634913416925376,
          3.9355274655385997
         ]
        },
        {
         "line": {
          "color": "black"
         },
         "mode": "lines",
         "showlegend": false,
         "type": "scatter",
         "x": [
          8.492834304037277,
          11.110474600641579
         ],
         "y": [
          28.64087730719288,
          29.02952567236147
         ]
        },
        {
         "line": {
          "color": "black"
         },
         "mode": "lines",
         "showlegend": false,
         "type": "scatter",
         "x": [
          8.492834304037277,
          10.369777870580085
         ],
         "y": [
          28.64087730719288,
          28.27636951734392
         ]
        },
        {
         "line": {
          "color": "black"
         },
         "mode": "lines",
         "showlegend": false,
         "type": "scatter",
         "x": [
          16.546949161688335,
          19.17126439120979
         ],
         "y": [
          5.910407390193242,
          5.762314366126239
         ]
        },
        {
         "line": {
          "color": "black"
         },
         "mode": "lines",
         "showlegend": false,
         "type": "scatter",
         "x": [
          6.33683420488237,
          6.108038138403945
         ],
         "y": [
          24.954512386591336,
          23.221493803536738
         ]
        },
        {
         "line": {
          "color": "black"
         },
         "mode": "lines",
         "showlegend": false,
         "type": "scatter",
         "x": [
          6.33683420488237,
          4.3681018417851565
         ],
         "y": [
          24.954512386591336,
          26.564497575368165
         ]
        },
        {
         "line": {
          "color": "black"
         },
         "mode": "lines",
         "showlegend": false,
         "type": "scatter",
         "x": [
          6.33683420488237,
          5.3411302569144095
         ],
         "y": [
          24.954512386591336,
          23.221392329994696
         ]
        },
        {
         "line": {
          "color": "black"
         },
         "mode": "lines",
         "showlegend": false,
         "type": "scatter",
         "x": [
          6.33683420488237,
          4.926852548350493
         ],
         "y": [
          24.954512386591336,
          27.18701302988264
         ]
        },
        {
         "line": {
          "color": "black"
         },
         "mode": "lines",
         "showlegend": false,
         "type": "scatter",
         "x": [
          6.33683420488237,
          5.3521362644403485
         ],
         "y": [
          24.954512386591336,
          25.230383848905646
         ]
        },
        {
         "line": {
          "color": "black"
         },
         "mode": "lines",
         "showlegend": false,
         "type": "scatter",
         "x": [
          19.382353273929233,
          21.060206418360462
         ],
         "y": [
          23.138594258981545,
          24.466459674631576
         ]
        },
        {
         "line": {
          "color": "black"
         },
         "mode": "lines",
         "showlegend": false,
         "type": "scatter",
         "x": [
          19.382353273929233,
          17.925940636497266
         ],
         "y": [
          23.138594258981545,
          25.183085116498578
         ]
        },
        {
         "line": {
          "color": "black"
         },
         "mode": "lines",
         "showlegend": false,
         "type": "scatter",
         "x": [
          13.344987092556819,
          10.414452669963218
         ],
         "y": [
          6.84462078560067,
          6.285867898815373
         ]
        },
        {
         "line": {
          "color": "black"
         },
         "mode": "lines",
         "showlegend": false,
         "type": "scatter",
         "x": [
          13.344987092556819,
          13.748484055154117
         ],
         "y": [
          6.84462078560067,
          3.9355274655385997
         ]
        },
        {
         "line": {
          "color": "black"
         },
         "mode": "lines",
         "showlegend": false,
         "type": "scatter",
         "x": [
          19.17126439120979,
          16.546949161688335
         ],
         "y": [
          5.762314366126239,
          5.910407390193242
         ]
        },
        {
         "line": {
          "color": "black"
         },
         "mode": "lines",
         "showlegend": false,
         "type": "scatter",
         "x": [
          19.17126439120979,
          21.02468843501875
         ],
         "y": [
          5.762314366126239,
          6.545917725354805
         ]
        },
        {
         "line": {
          "color": "black"
         },
         "mode": "lines",
         "showlegend": false,
         "type": "scatter",
         "x": [
          19.17126439120979,
          21.039915796004355
         ],
         "y": [
          5.762314366126239,
          7.364772756440992
         ]
        },
        {
         "line": {
          "color": "black"
         },
         "mode": "lines",
         "showlegend": false,
         "type": "scatter",
         "x": [
          2.9939308038551724,
          2.7122370551710038
         ],
         "y": [
          3.3430803858110556,
          1.7361881139222846
         ]
        },
        {
         "line": {
          "color": "black"
         },
         "mode": "lines",
         "showlegend": false,
         "type": "scatter",
         "x": [
          2.9939308038551724,
          2.3348966997076026
         ],
         "y": [
          3.3430803858110556,
          4.638921450296181
         ]
        },
        {
         "line": {
          "color": "black"
         },
         "mode": "lines",
         "showlegend": false,
         "type": "scatter",
         "x": [
          2.9939308038551724,
          1.8007084944759888
         ],
         "y": [
          3.3430803858110556,
          2.3679498472295126
         ]
        },
        {
         "line": {
          "color": "black"
         },
         "mode": "lines",
         "showlegend": false,
         "type": "scatter",
         "x": [
          21.633386969655525,
          22.98903758451937
         ],
         "y": [
          28.044897995494598,
          25.84942355976381
         ]
        },
        {
         "line": {
          "color": "black"
         },
         "mode": "lines",
         "showlegend": false,
         "type": "scatter",
         "x": [
          21.633386969655525,
          20.95085974406645
         ],
         "y": [
          28.044897995494598,
          28.348406009781712
         ]
        },
        {
         "line": {
          "color": "black"
         },
         "mode": "lines",
         "showlegend": false,
         "type": "scatter",
         "x": [
          2.7122370551710038,
          2.9939308038551724
         ],
         "y": [
          1.7361881139222846,
          3.3430803858110556
         ]
        },
        {
         "line": {
          "color": "black"
         },
         "mode": "lines",
         "showlegend": false,
         "type": "scatter",
         "x": [
          2.7122370551710038,
          2.3348966997076026
         ],
         "y": [
          1.7361881139222846,
          4.638921450296181
         ]
        },
        {
         "line": {
          "color": "black"
         },
         "mode": "lines",
         "showlegend": false,
         "type": "scatter",
         "x": [
          2.7122370551710038,
          1.8007084944759888
         ],
         "y": [
          1.7361881139222846,
          2.3679498472295126
         ]
        },
        {
         "line": {
          "color": "black"
         },
         "mode": "lines",
         "showlegend": false,
         "type": "scatter",
         "x": [
          11.836268878380473,
          12.654746602759126
         ],
         "y": [
          23.868938836608095,
          21.159690383423303
         ]
        },
        {
         "line": {
          "color": "black"
         },
         "mode": "lines",
         "showlegend": false,
         "type": "scatter",
         "x": [
          11.836268878380473,
          9.855913331197572
         ],
         "y": [
          23.868938836608095,
          22.39858503687489
         ]
        },
        {
         "line": {
          "color": "black"
         },
         "mode": "lines",
         "showlegend": false,
         "type": "scatter",
         "x": [
          11.836268878380473,
          14.566490438860987
         ],
         "y": [
          23.868938836608095,
          23.37123083237706
         ]
        },
        {
         "line": {
          "color": "black"
         },
         "mode": "lines",
         "showlegend": false,
         "type": "scatter",
         "x": [
          4.588085999356323,
          2.117803552666606
         ],
         "y": [
          12.312598223843352,
          13.428782591877589
         ]
        },
        {
         "line": {
          "color": "black"
         },
         "mode": "lines",
         "showlegend": false,
         "type": "scatter",
         "x": [
          4.588085999356323,
          2.146843414043935
         ],
         "y": [
          12.312598223843352,
          11.583543904027524
         ]
        },
        {
         "line": {
          "color": "black"
         },
         "mode": "lines",
         "showlegend": false,
         "type": "scatter",
         "x": [
          4.588085999356323,
          5.434873387355045
         ],
         "y": [
          12.312598223843352,
          10.479307957501915
         ]
        },
        {
         "line": {
          "color": "black"
         },
         "mode": "lines",
         "showlegend": false,
         "type": "scatter",
         "x": [
          4.588085999356323,
          3.1787654566432333
         ],
         "y": [
          12.312598223843352,
          10.809538778938526
         ]
        },
        {
         "line": {
          "color": "black"
         },
         "mode": "lines",
         "showlegend": false,
         "type": "scatter",
         "x": [
          4.588085999356323,
          4.306928543084368
         ],
         "y": [
          12.312598223843352,
          15.220488368218355
         ]
        },
        {
         "line": {
          "color": "black"
         },
         "mode": "lines",
         "showlegend": false,
         "type": "scatter",
         "x": [
          10.462308517988863,
          12.82653174388791
         ],
         "y": [
          2.859486603531484,
          3.634913416925376
         ]
        },
        {
         "line": {
          "color": "black"
         },
         "mode": "lines",
         "showlegend": false,
         "type": "scatter",
         "x": [
          24.66648162729082,
          22.98903758451937
         ],
         "y": [
          26.709466021252943,
          25.84942355976381
         ]
        },
        {
         "line": {
          "color": "black"
         },
         "mode": "lines",
         "showlegend": false,
         "type": "scatter",
         "x": [
          14.671977369613801,
          14.112198812941937
         ],
         "y": [
          0.7579477967115344,
          0.5266885393909415
         ]
        },
        {
         "line": {
          "color": "black"
         },
         "mode": "lines",
         "showlegend": false,
         "type": "scatter",
         "x": [
          27.01655257903733,
          27.464770338293096
         ],
         "y": [
          2.82693939097486,
          0.48364528706129173
         ]
        },
        {
         "line": {
          "color": "black"
         },
         "mode": "lines",
         "showlegend": false,
         "type": "scatter",
         "x": [
          22.98903758451937,
          21.633386969655525
         ],
         "y": [
          25.84942355976381,
          28.044897995494598
         ]
        },
        {
         "line": {
          "color": "black"
         },
         "mode": "lines",
         "showlegend": false,
         "type": "scatter",
         "x": [
          22.98903758451937,
          24.66648162729082
         ],
         "y": [
          25.84942355976381,
          26.709466021252943
         ]
        },
        {
         "line": {
          "color": "black"
         },
         "mode": "lines",
         "showlegend": false,
         "type": "scatter",
         "x": [
          22.98903758451937,
          21.060206418360462
         ],
         "y": [
          25.84942355976381,
          24.466459674631576
         ]
        },
        {
         "line": {
          "color": "black"
         },
         "mode": "lines",
         "showlegend": false,
         "type": "scatter",
         "x": [
          4.3681018417851565,
          6.33683420488237
         ],
         "y": [
          26.564497575368165,
          24.954512386591336
         ]
        },
        {
         "line": {
          "color": "black"
         },
         "mode": "lines",
         "showlegend": false,
         "type": "scatter",
         "x": [
          4.3681018417851565,
          3.0832077253231094
         ],
         "y": [
          26.564497575368165,
          28.428157543723863
         ]
        },
        {
         "line": {
          "color": "black"
         },
         "mode": "lines",
         "showlegend": false,
         "type": "scatter",
         "x": [
          4.3681018417851565,
          4.926852548350493
         ],
         "y": [
          26.564497575368165,
          27.18701302988264
         ]
        },
        {
         "line": {
          "color": "black"
         },
         "mode": "lines",
         "showlegend": false,
         "type": "scatter",
         "x": [
          4.3681018417851565,
          5.3521362644403485
         ],
         "y": [
          26.564497575368165,
          25.230383848905646
         ]
        },
        {
         "line": {
          "color": "black"
         },
         "mode": "lines",
         "showlegend": false,
         "type": "scatter",
         "x": [
          3.0832077253231094,
          4.3681018417851565
         ],
         "y": [
          28.428157543723863,
          26.564497575368165
         ]
        },
        {
         "line": {
          "color": "black"
         },
         "mode": "lines",
         "showlegend": false,
         "type": "scatter",
         "x": [
          3.0832077253231094,
          4.926852548350493
         ],
         "y": [
          28.428157543723863,
          27.18701302988264
         ]
        },
        {
         "line": {
          "color": "black"
         },
         "mode": "lines",
         "showlegend": false,
         "type": "scatter",
         "x": [
          3.0832077253231094,
          1.025564051223945
         ],
         "y": [
          28.428157543723863,
          26.248759098072597
         ]
        },
        {
         "line": {
          "color": "black"
         },
         "mode": "lines",
         "showlegend": false,
         "type": "scatter",
         "x": [
          29.07399716118411,
          28.3478599963103
         ],
         "y": [
          6.0635381622063935,
          6.537189367029307
         ]
        },
        {
         "line": {
          "color": "black"
         },
         "mode": "lines",
         "showlegend": false,
         "type": "scatter",
         "x": [
          15.035343612162457,
          17.274589110430938
         ],
         "y": [
          25.2252739835346,
          27.06320328126771
         ]
        },
        {
         "line": {
          "color": "black"
         },
         "mode": "lines",
         "showlegend": false,
         "type": "scatter",
         "x": [
          15.035343612162457,
          17.925940636497266
         ],
         "y": [
          25.2252739835346,
          25.183085116498578
         ]
        },
        {
         "line": {
          "color": "black"
         },
         "mode": "lines",
         "showlegend": false,
         "type": "scatter",
         "x": [
          15.035343612162457,
          14.421472677569183
         ],
         "y": [
          25.2252739835346,
          26.64244762626985
         ]
        },
        {
         "line": {
          "color": "black"
         },
         "mode": "lines",
         "showlegend": false,
         "type": "scatter",
         "x": [
          15.035343612162457,
          14.566490438860987
         ],
         "y": [
          25.2252739835346,
          23.37123083237706
         ]
        },
        {
         "line": {
          "color": "black"
         },
         "mode": "lines",
         "showlegend": false,
         "type": "scatter",
         "x": [
          21.060206418360462,
          19.382353273929233
         ],
         "y": [
          24.466459674631576,
          23.138594258981545
         ]
        },
        {
         "line": {
          "color": "black"
         },
         "mode": "lines",
         "showlegend": false,
         "type": "scatter",
         "x": [
          21.060206418360462,
          22.98903758451937
         ],
         "y": [
          24.466459674631576,
          25.84942355976381
         ]
        },
        {
         "line": {
          "color": "black"
         },
         "mode": "lines",
         "showlegend": false,
         "type": "scatter",
         "x": [
          21.02468843501875,
          21.635586328710414
         ],
         "y": [
          6.545917725354805,
          7.772740138135596
         ]
        },
        {
         "line": {
          "color": "black"
         },
         "mode": "lines",
         "showlegend": false,
         "type": "scatter",
         "x": [
          21.02468843501875,
          19.17126439120979
         ],
         "y": [
          6.545917725354805,
          5.762314366126239
         ]
        },
        {
         "line": {
          "color": "black"
         },
         "mode": "lines",
         "showlegend": false,
         "type": "scatter",
         "x": [
          21.02468843501875,
          21.039915796004355
         ],
         "y": [
          6.545917725354805,
          7.364772756440992
         ]
        },
        {
         "line": {
          "color": "black"
         },
         "mode": "lines",
         "showlegend": false,
         "type": "scatter",
         "x": [
          20.95085974406645,
          21.633386969655525
         ],
         "y": [
          28.348406009781712,
          28.044897995494598
         ]
        },
        {
         "line": {
          "color": "black"
         },
         "mode": "lines",
         "showlegend": false,
         "type": "scatter",
         "x": [
          24.89724194143545,
          26.212809511190088
         ],
         "y": [
          15.720854341815354,
          15.328442065419264
         ]
        },
        {
         "line": {
          "color": "black"
         },
         "mode": "lines",
         "showlegend": false,
         "type": "scatter",
         "x": [
          24.89724194143545,
          24.861847640873297
         ],
         "y": [
          15.720854341815354,
          16.509164850501993
         ]
        },
        {
         "line": {
          "color": "black"
         },
         "mode": "lines",
         "showlegend": false,
         "type": "scatter",
         "x": [
          24.89724194143545,
          23.140982562672836
         ],
         "y": [
          15.720854341815354,
          16.62247435649216
         ]
        },
        {
         "line": {
          "color": "black"
         },
         "mode": "lines",
         "showlegend": false,
         "type": "scatter",
         "x": [
          28.3478599963103,
          29.07399716118411
         ],
         "y": [
          6.537189367029307,
          6.0635381622063935
         ]
        },
        {
         "line": {
          "color": "black"
         },
         "mode": "lines",
         "showlegend": false,
         "type": "scatter",
         "x": [
          28.3478599963103,
          25.909064087901925
         ],
         "y": [
          6.537189367029307,
          7.117879822492976
         ]
        },
        {
         "line": {
          "color": "black"
         },
         "mode": "lines",
         "showlegend": false,
         "type": "scatter",
         "x": [
          28.3478599963103,
          27.595811714326825
         ],
         "y": [
          6.537189367029307,
          8.753595792952423
         ]
        },
        {
         "line": {
          "color": "black"
         },
         "mode": "lines",
         "showlegend": false,
         "type": "scatter",
         "x": [
          7.3086528805402216,
          9.199007752590132
         ],
         "y": [
          13.735875549998738,
          13.8233808301754
         ]
        },
        {
         "line": {
          "color": "black"
         },
         "mode": "lines",
         "showlegend": false,
         "type": "scatter",
         "x": [
          10.868369003749063,
          12.58124163245527
         ],
         "y": [
          15.031584043079778,
          15.64869169029434
         ]
        },
        {
         "line": {
          "color": "black"
         },
         "mode": "lines",
         "showlegend": false,
         "type": "scatter",
         "x": [
          10.868369003749063,
          9.199007752590132
         ],
         "y": [
          15.031584043079778,
          13.8233808301754
         ]
        },
        {
         "line": {
          "color": "black"
         },
         "mode": "lines",
         "showlegend": false,
         "type": "scatter",
         "x": [
          22.054540203785596,
          19.56878756422136
         ],
         "y": [
          12.939603284188738,
          14.42446292199966
         ]
        },
        {
         "line": {
          "color": "black"
         },
         "mode": "lines",
         "showlegend": false,
         "type": "scatter",
         "x": [
          22.054540203785596,
          22.64032433992959
         ],
         "y": [
          12.939603284188738,
          11.916437374180207
         ]
        },
        {
         "line": {
          "color": "black"
         },
         "mode": "lines",
         "showlegend": false,
         "type": "scatter",
         "x": [
          22.054540203785596,
          20.318553308905546
         ],
         "y": [
          12.939603284188738,
          14.292908817936311
         ]
        },
        {
         "line": {
          "color": "black"
         },
         "mode": "lines",
         "showlegend": false,
         "type": "scatter",
         "x": [
          22.054540203785596,
          22.806160191760817
         ],
         "y": [
          12.939603284188738,
          11.397791427142652
         ]
        },
        {
         "line": {
          "color": "black"
         },
         "mode": "lines",
         "showlegend": false,
         "type": "scatter",
         "x": [
          22.054540203785596,
          23.504856956766833
         ],
         "y": [
          12.939603284188738,
          11.506034237510768
         ]
        },
        {
         "line": {
          "color": "black"
         },
         "mode": "lines",
         "showlegend": false,
         "type": "scatter",
         "x": [
          22.054540203785596,
          24.175644269474798
         ],
         "y": [
          12.939603284188738,
          12.48654387635084
         ]
        },
        {
         "line": {
          "color": "black"
         },
         "mode": "lines",
         "showlegend": false,
         "type": "scatter",
         "x": [
          25.909064087901925,
          28.3478599963103
         ],
         "y": [
          7.117879822492976,
          6.537189367029307
         ]
        },
        {
         "line": {
          "color": "black"
         },
         "mode": "lines",
         "showlegend": false,
         "type": "scatter",
         "x": [
          25.909064087901925,
          27.595811714326825
         ],
         "y": [
          7.117879822492976,
          8.753595792952423
         ]
        },
        {
         "line": {
          "color": "black"
         },
         "mode": "lines",
         "showlegend": false,
         "type": "scatter",
         "x": [
          25.909064087901925,
          25.26859717107015
         ],
         "y": [
          7.117879822492976,
          6.936853859397196
         ]
        },
        {
         "line": {
          "color": "black"
         },
         "mode": "lines",
         "showlegend": false,
         "type": "scatter",
         "x": [
          7.397624784491211,
          6.108038138403945
         ],
         "y": [
          21.026500309514827,
          23.221493803536738
         ]
        },
        {
         "line": {
          "color": "black"
         },
         "mode": "lines",
         "showlegend": false,
         "type": "scatter",
         "x": [
          7.397624784491211,
          6.133865818860611
         ],
         "y": [
          21.026500309514827,
          18.901173231123874
         ]
        },
        {
         "line": {
          "color": "black"
         },
         "mode": "lines",
         "showlegend": false,
         "type": "scatter",
         "x": [
          7.397624784491211,
          9.855913331197572
         ],
         "y": [
          21.026500309514827,
          22.39858503687489
         ]
        },
        {
         "line": {
          "color": "black"
         },
         "mode": "lines",
         "showlegend": false,
         "type": "scatter",
         "x": [
          7.397624784491211,
          4.732820724902508
         ],
         "y": [
          21.026500309514827,
          19.744254732988928
         ]
        },
        {
         "line": {
          "color": "black"
         },
         "mode": "lines",
         "showlegend": false,
         "type": "scatter",
         "x": [
          6.860363747743296,
          7.697347925191709
         ],
         "y": [
          5.618652790367382,
          7.1771780791680175
         ]
        },
        {
         "line": {
          "color": "black"
         },
         "mode": "lines",
         "showlegend": false,
         "type": "scatter",
         "x": [
          27.595811714326825,
          27.2438242146343
         ],
         "y": [
          8.753595792952423,
          10.2916300294753
         ]
        },
        {
         "line": {
          "color": "black"
         },
         "mode": "lines",
         "showlegend": false,
         "type": "scatter",
         "x": [
          27.595811714326825,
          28.3478599963103
         ],
         "y": [
          8.753595792952423,
          6.537189367029307
         ]
        },
        {
         "line": {
          "color": "black"
         },
         "mode": "lines",
         "showlegend": false,
         "type": "scatter",
         "x": [
          27.595811714326825,
          25.909064087901925
         ],
         "y": [
          8.753595792952423,
          7.117879822492976
         ]
        },
        {
         "line": {
          "color": "black"
         },
         "mode": "lines",
         "showlegend": false,
         "type": "scatter",
         "x": [
          27.595811714326825,
          25.26859717107015
         ],
         "y": [
          8.753595792952423,
          6.936853859397196
         ]
        },
        {
         "line": {
          "color": "black"
         },
         "mode": "lines",
         "showlegend": false,
         "type": "scatter",
         "x": [
          27.595811714326825,
          28.311337258396048
         ],
         "y": [
          8.753595792952423,
          10.518566712339773
         ]
        },
        {
         "line": {
          "color": "black"
         },
         "mode": "lines",
         "showlegend": false,
         "type": "scatter",
         "x": [
          27.595811714326825,
          29.913468784718425
         ],
         "y": [
          8.753595792952423,
          9.40182436807964
         ]
        },
        {
         "line": {
          "color": "black"
         },
         "mode": "lines",
         "showlegend": false,
         "type": "scatter",
         "x": [
          12.654746602759126,
          11.836268878380473
         ],
         "y": [
          21.159690383423303,
          23.868938836608095
         ]
        },
        {
         "line": {
          "color": "black"
         },
         "mode": "lines",
         "showlegend": false,
         "type": "scatter",
         "x": [
          12.654746602759126,
          14.566490438860987
         ],
         "y": [
          21.159690383423303,
          23.37123083237706
         ]
        },
        {
         "line": {
          "color": "black"
         },
         "mode": "lines",
         "showlegend": false,
         "type": "scatter",
         "x": [
          5.676293158583433,
          6.783394774602497
         ],
         "y": [
          0.6089852533335849,
          1.1950957704011445
         ]
        },
        {
         "line": {
          "color": "black"
         },
         "mode": "lines",
         "showlegend": false,
         "type": "scatter",
         "x": [
          25.26859717107015,
          25.909064087901925
         ],
         "y": [
          6.936853859397196,
          7.117879822492976
         ]
        },
        {
         "line": {
          "color": "black"
         },
         "mode": "lines",
         "showlegend": false,
         "type": "scatter",
         "x": [
          25.26859717107015,
          27.595811714326825
         ],
         "y": [
          6.936853859397196,
          8.753595792952423
         ]
        },
        {
         "line": {
          "color": "black"
         },
         "mode": "lines",
         "showlegend": false,
         "type": "scatter",
         "x": [
          17.925940636497266,
          17.274589110430938
         ],
         "y": [
          25.183085116498578,
          27.06320328126771
         ]
        },
        {
         "line": {
          "color": "black"
         },
         "mode": "lines",
         "showlegend": false,
         "type": "scatter",
         "x": [
          17.925940636497266,
          19.382353273929233
         ],
         "y": [
          25.183085116498578,
          23.138594258981545
         ]
        },
        {
         "line": {
          "color": "black"
         },
         "mode": "lines",
         "showlegend": false,
         "type": "scatter",
         "x": [
          17.925940636497266,
          15.035343612162457
         ],
         "y": [
          25.183085116498578,
          25.2252739835346
         ]
        },
        {
         "line": {
          "color": "black"
         },
         "mode": "lines",
         "showlegend": false,
         "type": "scatter",
         "x": [
          15.443902131965112,
          14.80820123346007
         ],
         "y": [
          9.031353532509689,
          9.954422822571399
         ]
        },
        {
         "line": {
          "color": "black"
         },
         "mode": "lines",
         "showlegend": false,
         "type": "scatter",
         "x": [
          15.443902131965112,
          15.54026695838278
         ],
         "y": [
          9.031353532509689,
          11.318141873927758
         ]
        },
        {
         "line": {
          "color": "black"
         },
         "mode": "lines",
         "showlegend": false,
         "type": "scatter",
         "x": [
          23.281226337863572,
          21.635586328710414
         ],
         "y": [
          9.921768843255087,
          7.772740138135596
         ]
        },
        {
         "line": {
          "color": "black"
         },
         "mode": "lines",
         "showlegend": false,
         "type": "scatter",
         "x": [
          23.281226337863572,
          22.64032433992959
         ],
         "y": [
          9.921768843255087,
          11.916437374180207
         ]
        },
        {
         "line": {
          "color": "black"
         },
         "mode": "lines",
         "showlegend": false,
         "type": "scatter",
         "x": [
          23.281226337863572,
          22.806160191760817
         ],
         "y": [
          9.921768843255087,
          11.397791427142652
         ]
        },
        {
         "line": {
          "color": "black"
         },
         "mode": "lines",
         "showlegend": false,
         "type": "scatter",
         "x": [
          23.281226337863572,
          23.504856956766833
         ],
         "y": [
          9.921768843255087,
          11.506034237510768
         ]
        },
        {
         "line": {
          "color": "black"
         },
         "mode": "lines",
         "showlegend": false,
         "type": "scatter",
         "x": [
          23.281226337863572,
          24.175644269474798
         ],
         "y": [
          9.921768843255087,
          12.48654387635084
         ]
        },
        {
         "line": {
          "color": "black"
         },
         "mode": "lines",
         "showlegend": false,
         "type": "scatter",
         "x": [
          19.56878756422136,
          22.054540203785596
         ],
         "y": [
          14.42446292199966,
          12.939603284188738
         ]
        },
        {
         "line": {
          "color": "black"
         },
         "mode": "lines",
         "showlegend": false,
         "type": "scatter",
         "x": [
          19.56878756422136,
          20.318553308905546
         ],
         "y": [
          14.42446292199966,
          14.292908817936311
         ]
        },
        {
         "line": {
          "color": "black"
         },
         "mode": "lines",
         "showlegend": false,
         "type": "scatter",
         "x": [
          19.56878756422136,
          18.428358596512474
         ],
         "y": [
          14.42446292199966,
          13.98965455642333
         ]
        },
        {
         "line": {
          "color": "black"
         },
         "mode": "lines",
         "showlegend": false,
         "type": "scatter",
         "x": [
          0.7304686182441089,
          1.025564051223945
         ],
         "y": [
          24.940474485759886,
          26.248759098072597
         ]
        },
        {
         "line": {
          "color": "black"
         },
         "mode": "lines",
         "showlegend": false,
         "type": "scatter",
         "x": [
          15.54026695838278,
          14.80820123346007
         ],
         "y": [
          11.318141873927758,
          9.954422822571399
         ]
        },
        {
         "line": {
          "color": "black"
         },
         "mode": "lines",
         "showlegend": false,
         "type": "scatter",
         "x": [
          15.54026695838278,
          15.443902131965112
         ],
         "y": [
          11.318141873927758,
          9.031353532509689
         ]
        },
        {
         "line": {
          "color": "black"
         },
         "mode": "lines",
         "showlegend": false,
         "type": "scatter",
         "x": [
          15.54026695838278,
          14.125971099342532
         ],
         "y": [
          11.318141873927758,
          13.703276593183663
         ]
        },
        {
         "line": {
          "color": "black"
         },
         "mode": "lines",
         "showlegend": false,
         "type": "scatter",
         "x": [
          15.54026695838278,
          16.918395482476466
         ],
         "y": [
          11.318141873927758,
          12.663325539938175
         ]
        },
        {
         "line": {
          "color": "black"
         },
         "mode": "lines",
         "showlegend": false,
         "type": "scatter",
         "x": [
          27.464770338293096,
          27.01655257903733
         ],
         "y": [
          0.48364528706129173,
          2.82693939097486
         ]
        },
        {
         "line": {
          "color": "black"
         },
         "mode": "lines",
         "showlegend": false,
         "type": "scatter",
         "x": [
          19.95494359878832,
          17.775543641074453
         ],
         "y": [
          19.66385710955042,
          18.784800433094208
         ]
        },
        {
         "line": {
          "color": "black"
         },
         "mode": "lines",
         "showlegend": false,
         "type": "scatter",
         "x": [
          19.95494359878832,
          20.933317507527498
         ],
         "y": [
          19.66385710955042,
          17.24988084470617
         ]
        },
        {
         "line": {
          "color": "black"
         },
         "mode": "lines",
         "showlegend": false,
         "type": "scatter",
         "x": [
          5.3411302569144095,
          6.108038138403945
         ],
         "y": [
          23.221392329994696,
          23.221493803536738
         ]
        },
        {
         "line": {
          "color": "black"
         },
         "mode": "lines",
         "showlegend": false,
         "type": "scatter",
         "x": [
          5.3411302569144095,
          6.33683420488237
         ],
         "y": [
          23.221392329994696,
          24.954512386591336
         ]
        },
        {
         "line": {
          "color": "black"
         },
         "mode": "lines",
         "showlegend": false,
         "type": "scatter",
         "x": [
          5.3411302569144095,
          5.3521362644403485
         ],
         "y": [
          23.221392329994696,
          25.230383848905646
         ]
        },
        {
         "line": {
          "color": "black"
         },
         "mode": "lines",
         "showlegend": false,
         "type": "scatter",
         "x": [
          26.212809511190088,
          24.89724194143545
         ],
         "y": [
          15.328442065419264,
          15.720854341815354
         ]
        },
        {
         "line": {
          "color": "black"
         },
         "mode": "lines",
         "showlegend": false,
         "type": "scatter",
         "x": [
          26.212809511190088,
          24.861847640873297
         ],
         "y": [
          15.328442065419264,
          16.509164850501993
         ]
        },
        {
         "line": {
          "color": "black"
         },
         "mode": "lines",
         "showlegend": false,
         "type": "scatter",
         "x": [
          4.926852548350493,
          6.33683420488237
         ],
         "y": [
          27.18701302988264,
          24.954512386591336
         ]
        },
        {
         "line": {
          "color": "black"
         },
         "mode": "lines",
         "showlegend": false,
         "type": "scatter",
         "x": [
          4.926852548350493,
          4.3681018417851565
         ],
         "y": [
          27.18701302988264,
          26.564497575368165
         ]
        },
        {
         "line": {
          "color": "black"
         },
         "mode": "lines",
         "showlegend": false,
         "type": "scatter",
         "x": [
          4.926852548350493,
          3.0832077253231094
         ],
         "y": [
          27.18701302988264,
          28.428157543723863
         ]
        },
        {
         "line": {
          "color": "black"
         },
         "mode": "lines",
         "showlegend": false,
         "type": "scatter",
         "x": [
          4.926852548350493,
          5.3521362644403485
         ],
         "y": [
          27.18701302988264,
          25.230383848905646
         ]
        },
        {
         "line": {
          "color": "black"
         },
         "mode": "lines",
         "showlegend": false,
         "type": "scatter",
         "x": [
          22.64032433992959,
          22.054540203785596
         ],
         "y": [
          11.916437374180207,
          12.939603284188738
         ]
        },
        {
         "line": {
          "color": "black"
         },
         "mode": "lines",
         "showlegend": false,
         "type": "scatter",
         "x": [
          22.64032433992959,
          23.281226337863572
         ],
         "y": [
          11.916437374180207,
          9.921768843255087
         ]
        },
        {
         "line": {
          "color": "black"
         },
         "mode": "lines",
         "showlegend": false,
         "type": "scatter",
         "x": [
          22.64032433992959,
          22.806160191760817
         ],
         "y": [
          11.916437374180207,
          11.397791427142652
         ]
        },
        {
         "line": {
          "color": "black"
         },
         "mode": "lines",
         "showlegend": false,
         "type": "scatter",
         "x": [
          22.64032433992959,
          23.504856956766833
         ],
         "y": [
          11.916437374180207,
          11.506034237510768
         ]
        },
        {
         "line": {
          "color": "black"
         },
         "mode": "lines",
         "showlegend": false,
         "type": "scatter",
         "x": [
          22.64032433992959,
          24.175644269474798
         ],
         "y": [
          11.916437374180207,
          12.48654387635084
         ]
        },
        {
         "line": {
          "color": "black"
         },
         "mode": "lines",
         "showlegend": false,
         "type": "scatter",
         "x": [
          5.3521362644403485,
          6.108038138403945
         ],
         "y": [
          25.230383848905646,
          23.221493803536738
         ]
        },
        {
         "line": {
          "color": "black"
         },
         "mode": "lines",
         "showlegend": false,
         "type": "scatter",
         "x": [
          5.3521362644403485,
          6.33683420488237
         ],
         "y": [
          25.230383848905646,
          24.954512386591336
         ]
        },
        {
         "line": {
          "color": "black"
         },
         "mode": "lines",
         "showlegend": false,
         "type": "scatter",
         "x": [
          5.3521362644403485,
          4.3681018417851565
         ],
         "y": [
          25.230383848905646,
          26.564497575368165
         ]
        },
        {
         "line": {
          "color": "black"
         },
         "mode": "lines",
         "showlegend": false,
         "type": "scatter",
         "x": [
          5.3521362644403485,
          5.3411302569144095
         ],
         "y": [
          25.230383848905646,
          23.221392329994696
         ]
        },
        {
         "line": {
          "color": "black"
         },
         "mode": "lines",
         "showlegend": false,
         "type": "scatter",
         "x": [
          5.3521362644403485,
          4.926852548350493
         ],
         "y": [
          25.230383848905646,
          27.18701302988264
         ]
        },
        {
         "line": {
          "color": "black"
         },
         "mode": "lines",
         "showlegend": false,
         "type": "scatter",
         "x": [
          6.783394774602497,
          5.676293158583433
         ],
         "y": [
          1.1950957704011445,
          0.6089852533335849
         ]
        },
        {
         "line": {
          "color": "black"
         },
         "mode": "lines",
         "showlegend": false,
         "type": "scatter",
         "x": [
          14.125971099342532,
          12.58124163245527
         ],
         "y": [
          13.703276593183663,
          15.64869169029434
         ]
        },
        {
         "line": {
          "color": "black"
         },
         "mode": "lines",
         "showlegend": false,
         "type": "scatter",
         "x": [
          14.125971099342532,
          15.54026695838278
         ],
         "y": [
          13.703276593183663,
          11.318141873927758
         ]
        },
        {
         "line": {
          "color": "black"
         },
         "mode": "lines",
         "showlegend": false,
         "type": "scatter",
         "x": [
          14.125971099342532,
          14.597305899708129
         ],
         "y": [
          13.703276593183663,
          15.670924012017274
         ]
        },
        {
         "line": {
          "color": "black"
         },
         "mode": "lines",
         "showlegend": false,
         "type": "scatter",
         "x": [
          14.125971099342532,
          16.918395482476466
         ],
         "y": [
          13.703276593183663,
          12.663325539938175
         ]
        },
        {
         "line": {
          "color": "black"
         },
         "mode": "lines",
         "showlegend": false,
         "type": "scatter",
         "x": [
          20.318553308905546,
          22.054540203785596
         ],
         "y": [
          14.292908817936311,
          12.939603284188738
         ]
        },
        {
         "line": {
          "color": "black"
         },
         "mode": "lines",
         "showlegend": false,
         "type": "scatter",
         "x": [
          20.318553308905546,
          19.56878756422136
         ],
         "y": [
          14.292908817936311,
          14.42446292199966
         ]
        },
        {
         "line": {
          "color": "black"
         },
         "mode": "lines",
         "showlegend": false,
         "type": "scatter",
         "x": [
          20.318553308905546,
          18.428358596512474
         ],
         "y": [
          14.292908817936311,
          13.98965455642333
         ]
        },
        {
         "line": {
          "color": "black"
         },
         "mode": "lines",
         "showlegend": false,
         "type": "scatter",
         "x": [
          6.133865818860611,
          7.397624784491211
         ],
         "y": [
          18.901173231123874,
          21.026500309514827
         ]
        },
        {
         "line": {
          "color": "black"
         },
         "mode": "lines",
         "showlegend": false,
         "type": "scatter",
         "x": [
          6.133865818860611,
          4.732820724902508
         ],
         "y": [
          18.901173231123874,
          19.744254732988928
         ]
        },
        {
         "line": {
          "color": "black"
         },
         "mode": "lines",
         "showlegend": false,
         "type": "scatter",
         "x": [
          17.775543641074453,
          19.95494359878832
         ],
         "y": [
          18.784800433094208,
          19.66385710955042
         ]
        },
        {
         "line": {
          "color": "black"
         },
         "mode": "lines",
         "showlegend": false,
         "type": "scatter",
         "x": [
          17.775543641074453,
          15.495842526851748
         ],
         "y": [
          18.784800433094208,
          17.07579400371926
         ]
        },
        {
         "line": {
          "color": "black"
         },
         "mode": "lines",
         "showlegend": false,
         "type": "scatter",
         "x": [
          22.806160191760817,
          22.054540203785596
         ],
         "y": [
          11.397791427142652,
          12.939603284188738
         ]
        },
        {
         "line": {
          "color": "black"
         },
         "mode": "lines",
         "showlegend": false,
         "type": "scatter",
         "x": [
          22.806160191760817,
          23.281226337863572
         ],
         "y": [
          11.397791427142652,
          9.921768843255087
         ]
        },
        {
         "line": {
          "color": "black"
         },
         "mode": "lines",
         "showlegend": false,
         "type": "scatter",
         "x": [
          22.806160191760817,
          22.64032433992959
         ],
         "y": [
          11.397791427142652,
          11.916437374180207
         ]
        },
        {
         "line": {
          "color": "black"
         },
         "mode": "lines",
         "showlegend": false,
         "type": "scatter",
         "x": [
          22.806160191760817,
          23.504856956766833
         ],
         "y": [
          11.397791427142652,
          11.506034237510768
         ]
        },
        {
         "line": {
          "color": "black"
         },
         "mode": "lines",
         "showlegend": false,
         "type": "scatter",
         "x": [
          22.806160191760817,
          24.175644269474798
         ],
         "y": [
          11.397791427142652,
          12.48654387635084
         ]
        },
        {
         "line": {
          "color": "black"
         },
         "mode": "lines",
         "showlegend": false,
         "type": "scatter",
         "x": [
          2.146843414043935,
          2.117803552666606
         ],
         "y": [
          11.583543904027524,
          13.428782591877589
         ]
        },
        {
         "line": {
          "color": "black"
         },
         "mode": "lines",
         "showlegend": false,
         "type": "scatter",
         "x": [
          2.146843414043935,
          4.588085999356323
         ],
         "y": [
          11.583543904027524,
          12.312598223843352
         ]
        },
        {
         "line": {
          "color": "black"
         },
         "mode": "lines",
         "showlegend": false,
         "type": "scatter",
         "x": [
          2.146843414043935,
          3.1787654566432333
         ],
         "y": [
          11.583543904027524,
          10.809538778938526
         ]
        },
        {
         "line": {
          "color": "black"
         },
         "mode": "lines",
         "showlegend": false,
         "type": "scatter",
         "x": [
          21.039915796004355,
          21.635586328710414
         ],
         "y": [
          7.364772756440992,
          7.772740138135596
         ]
        },
        {
         "line": {
          "color": "black"
         },
         "mode": "lines",
         "showlegend": false,
         "type": "scatter",
         "x": [
          21.039915796004355,
          19.17126439120979
         ],
         "y": [
          7.364772756440992,
          5.762314366126239
         ]
        },
        {
         "line": {
          "color": "black"
         },
         "mode": "lines",
         "showlegend": false,
         "type": "scatter",
         "x": [
          21.039915796004355,
          21.02468843501875
         ],
         "y": [
          7.364772756440992,
          6.545917725354805
         ]
        },
        {
         "line": {
          "color": "black"
         },
         "mode": "lines",
         "showlegend": false,
         "type": "scatter",
         "x": [
          24.861847640873297,
          24.89724194143545
         ],
         "y": [
          16.509164850501993,
          15.720854341815354
         ]
        },
        {
         "line": {
          "color": "black"
         },
         "mode": "lines",
         "showlegend": false,
         "type": "scatter",
         "x": [
          24.861847640873297,
          26.212809511190088
         ],
         "y": [
          16.509164850501993,
          15.328442065419264
         ]
        },
        {
         "line": {
          "color": "black"
         },
         "mode": "lines",
         "showlegend": false,
         "type": "scatter",
         "x": [
          24.861847640873297,
          23.140982562672836
         ],
         "y": [
          16.509164850501993,
          16.62247435649216
         ]
        },
        {
         "line": {
          "color": "black"
         },
         "mode": "lines",
         "showlegend": false,
         "type": "scatter",
         "x": [
          23.504856956766833,
          22.054540203785596
         ],
         "y": [
          11.506034237510768,
          12.939603284188738
         ]
        },
        {
         "line": {
          "color": "black"
         },
         "mode": "lines",
         "showlegend": false,
         "type": "scatter",
         "x": [
          23.504856956766833,
          23.281226337863572
         ],
         "y": [
          11.506034237510768,
          9.921768843255087
         ]
        },
        {
         "line": {
          "color": "black"
         },
         "mode": "lines",
         "showlegend": false,
         "type": "scatter",
         "x": [
          23.504856956766833,
          22.64032433992959
         ],
         "y": [
          11.506034237510768,
          11.916437374180207
         ]
        },
        {
         "line": {
          "color": "black"
         },
         "mode": "lines",
         "showlegend": false,
         "type": "scatter",
         "x": [
          23.504856956766833,
          22.806160191760817
         ],
         "y": [
          11.506034237510768,
          11.397791427142652
         ]
        },
        {
         "line": {
          "color": "black"
         },
         "mode": "lines",
         "showlegend": false,
         "type": "scatter",
         "x": [
          23.504856956766833,
          24.175644269474798
         ],
         "y": [
          11.506034237510768,
          12.48654387635084
         ]
        },
        {
         "line": {
          "color": "black"
         },
         "mode": "lines",
         "showlegend": false,
         "type": "scatter",
         "x": [
          24.175644269474798,
          22.054540203785596
         ],
         "y": [
          12.48654387635084,
          12.939603284188738
         ]
        },
        {
         "line": {
          "color": "black"
         },
         "mode": "lines",
         "showlegend": false,
         "type": "scatter",
         "x": [
          24.175644269474798,
          23.281226337863572
         ],
         "y": [
          12.48654387635084,
          9.921768843255087
         ]
        },
        {
         "line": {
          "color": "black"
         },
         "mode": "lines",
         "showlegend": false,
         "type": "scatter",
         "x": [
          24.175644269474798,
          22.64032433992959
         ],
         "y": [
          12.48654387635084,
          11.916437374180207
         ]
        },
        {
         "line": {
          "color": "black"
         },
         "mode": "lines",
         "showlegend": false,
         "type": "scatter",
         "x": [
          24.175644269474798,
          22.806160191760817
         ],
         "y": [
          12.48654387635084,
          11.397791427142652
         ]
        },
        {
         "line": {
          "color": "black"
         },
         "mode": "lines",
         "showlegend": false,
         "type": "scatter",
         "x": [
          24.175644269474798,
          23.504856956766833
         ],
         "y": [
          12.48654387635084,
          11.506034237510768
         ]
        },
        {
         "line": {
          "color": "black"
         },
         "mode": "lines",
         "showlegend": false,
         "type": "scatter",
         "x": [
          7.697347925191709,
          6.860363747743296
         ],
         "y": [
          7.1771780791680175,
          5.618652790367382
         ]
        },
        {
         "line": {
          "color": "black"
         },
         "mode": "lines",
         "showlegend": false,
         "type": "scatter",
         "x": [
          7.697347925191709,
          10.414452669963218
         ],
         "y": [
          7.1771780791680175,
          6.285867898815373
         ]
        },
        {
         "line": {
          "color": "black"
         },
         "mode": "lines",
         "showlegend": false,
         "type": "scatter",
         "x": [
          5.434873387355045,
          4.588085999356323
         ],
         "y": [
          10.479307957501915,
          12.312598223843352
         ]
        },
        {
         "line": {
          "color": "black"
         },
         "mode": "lines",
         "showlegend": false,
         "type": "scatter",
         "x": [
          5.434873387355045,
          3.1787654566432333
         ],
         "y": [
          10.479307957501915,
          10.809538778938526
         ]
        },
        {
         "line": {
          "color": "black"
         },
         "mode": "lines",
         "showlegend": false,
         "type": "scatter",
         "x": [
          9.855913331197572,
          11.836268878380473
         ],
         "y": [
          22.39858503687489,
          23.868938836608095
         ]
        },
        {
         "line": {
          "color": "black"
         },
         "mode": "lines",
         "showlegend": false,
         "type": "scatter",
         "x": [
          9.855913331197572,
          7.397624784491211
         ],
         "y": [
          22.39858503687489,
          21.026500309514827
         ]
        },
        {
         "line": {
          "color": "black"
         },
         "mode": "lines",
         "showlegend": false,
         "type": "scatter",
         "x": [
          18.428358596512474,
          19.56878756422136
         ],
         "y": [
          13.98965455642333,
          14.42446292199966
         ]
        },
        {
         "line": {
          "color": "black"
         },
         "mode": "lines",
         "showlegend": false,
         "type": "scatter",
         "x": [
          18.428358596512474,
          20.318553308905546
         ],
         "y": [
          13.98965455642333,
          14.292908817936311
         ]
        },
        {
         "line": {
          "color": "black"
         },
         "mode": "lines",
         "showlegend": false,
         "type": "scatter",
         "x": [
          18.428358596512474,
          16.918395482476466
         ],
         "y": [
          13.98965455642333,
          12.663325539938175
         ]
        },
        {
         "line": {
          "color": "black"
         },
         "mode": "lines",
         "showlegend": false,
         "type": "scatter",
         "x": [
          3.8032347293577318,
          2.3348966997076026
         ],
         "y": [
          6.9021871898001095,
          4.638921450296181
         ]
        },
        {
         "line": {
          "color": "black"
         },
         "mode": "lines",
         "showlegend": false,
         "type": "scatter",
         "x": [
          23.140982562672836,
          24.89724194143545
         ],
         "y": [
          16.62247435649216,
          15.720854341815354
         ]
        },
        {
         "line": {
          "color": "black"
         },
         "mode": "lines",
         "showlegend": false,
         "type": "scatter",
         "x": [
          23.140982562672836,
          24.861847640873297
         ],
         "y": [
          16.62247435649216,
          16.509164850501993
         ]
        },
        {
         "line": {
          "color": "black"
         },
         "mode": "lines",
         "showlegend": false,
         "type": "scatter",
         "x": [
          23.140982562672836,
          20.933317507527498
         ],
         "y": [
          16.62247435649216,
          17.24988084470617
         ]
        },
        {
         "line": {
          "color": "black"
         },
         "mode": "lines",
         "showlegend": false,
         "type": "scatter",
         "x": [
          3.1787654566432333,
          2.117803552666606
         ],
         "y": [
          10.809538778938526,
          13.428782591877589
         ]
        },
        {
         "line": {
          "color": "black"
         },
         "mode": "lines",
         "showlegend": false,
         "type": "scatter",
         "x": [
          3.1787654566432333,
          4.588085999356323
         ],
         "y": [
          10.809538778938526,
          12.312598223843352
         ]
        },
        {
         "line": {
          "color": "black"
         },
         "mode": "lines",
         "showlegend": false,
         "type": "scatter",
         "x": [
          3.1787654566432333,
          2.146843414043935
         ],
         "y": [
          10.809538778938526,
          11.583543904027524
         ]
        },
        {
         "line": {
          "color": "black"
         },
         "mode": "lines",
         "showlegend": false,
         "type": "scatter",
         "x": [
          3.1787654566432333,
          5.434873387355045
         ],
         "y": [
          10.809538778938526,
          10.479307957501915
         ]
        },
        {
         "line": {
          "color": "black"
         },
         "mode": "lines",
         "showlegend": false,
         "type": "scatter",
         "x": [
          20.933317507527498,
          19.95494359878832
         ],
         "y": [
          17.24988084470617,
          19.66385710955042
         ]
        },
        {
         "line": {
          "color": "black"
         },
         "mode": "lines",
         "showlegend": false,
         "type": "scatter",
         "x": [
          20.933317507527498,
          23.140982562672836
         ],
         "y": [
          17.24988084470617,
          16.62247435649216
         ]
        },
        {
         "line": {
          "color": "black"
         },
         "mode": "lines",
         "showlegend": false,
         "type": "scatter",
         "x": [
          10.414452669963218,
          13.344987092556819
         ],
         "y": [
          6.285867898815373,
          6.84462078560067
         ]
        },
        {
         "line": {
          "color": "black"
         },
         "mode": "lines",
         "showlegend": false,
         "type": "scatter",
         "x": [
          10.414452669963218,
          7.697347925191709
         ],
         "y": [
          6.285867898815373,
          7.1771780791680175
         ]
        },
        {
         "line": {
          "color": "black"
         },
         "mode": "lines",
         "showlegend": false,
         "type": "scatter",
         "x": [
          9.199007752590132,
          10.880396426238333
         ],
         "y": [
          13.8233808301754,
          11.449109078909393
         ]
        },
        {
         "line": {
          "color": "black"
         },
         "mode": "lines",
         "showlegend": false,
         "type": "scatter",
         "x": [
          9.199007752590132,
          7.3086528805402216
         ],
         "y": [
          13.8233808301754,
          13.735875549998738
         ]
        },
        {
         "line": {
          "color": "black"
         },
         "mode": "lines",
         "showlegend": false,
         "type": "scatter",
         "x": [
          9.199007752590132,
          10.868369003749063
         ],
         "y": [
          13.8233808301754,
          15.031584043079778
         ]
        },
        {
         "line": {
          "color": "black"
         },
         "mode": "lines",
         "showlegend": false,
         "type": "scatter",
         "x": [
          14.421472677569183,
          17.274589110430938
         ],
         "y": [
          26.64244762626985,
          27.06320328126771
         ]
        },
        {
         "line": {
          "color": "black"
         },
         "mode": "lines",
         "showlegend": false,
         "type": "scatter",
         "x": [
          14.421472677569183,
          15.035343612162457
         ],
         "y": [
          26.64244762626985,
          25.2252739835346
         ]
        },
        {
         "line": {
          "color": "black"
         },
         "mode": "lines",
         "showlegend": false,
         "type": "scatter",
         "x": [
          10.369777870580085,
          11.110474600641579
         ],
         "y": [
          28.27636951734392,
          29.02952567236147
         ]
        },
        {
         "line": {
          "color": "black"
         },
         "mode": "lines",
         "showlegend": false,
         "type": "scatter",
         "x": [
          10.369777870580085,
          8.492834304037277
         ],
         "y": [
          28.27636951734392,
          28.64087730719288
         ]
        },
        {
         "line": {
          "color": "black"
         },
         "mode": "lines",
         "showlegend": false,
         "type": "scatter",
         "x": [
          4.306928543084368,
          2.117803552666606
         ],
         "y": [
          15.220488368218355,
          13.428782591877589
         ]
        },
        {
         "line": {
          "color": "black"
         },
         "mode": "lines",
         "showlegend": false,
         "type": "scatter",
         "x": [
          4.306928543084368,
          4.588085999356323
         ],
         "y": [
          15.220488368218355,
          12.312598223843352
         ]
        },
        {
         "line": {
          "color": "black"
         },
         "mode": "lines",
         "showlegend": false,
         "type": "scatter",
         "x": [
          15.495842526851748,
          17.775543641074453
         ],
         "y": [
          17.07579400371926,
          18.784800433094208
         ]
        },
        {
         "line": {
          "color": "black"
         },
         "mode": "lines",
         "showlegend": false,
         "type": "scatter",
         "x": [
          15.495842526851748,
          14.597305899708129
         ],
         "y": [
          17.07579400371926,
          15.670924012017274
         ]
        },
        {
         "line": {
          "color": "black"
         },
         "mode": "lines",
         "showlegend": false,
         "type": "scatter",
         "x": [
          2.3348966997076026,
          2.9939308038551724
         ],
         "y": [
          4.638921450296181,
          3.3430803858110556
         ]
        },
        {
         "line": {
          "color": "black"
         },
         "mode": "lines",
         "showlegend": false,
         "type": "scatter",
         "x": [
          2.3348966997076026,
          2.7122370551710038
         ],
         "y": [
          4.638921450296181,
          1.7361881139222846
         ]
        },
        {
         "line": {
          "color": "black"
         },
         "mode": "lines",
         "showlegend": false,
         "type": "scatter",
         "x": [
          2.3348966997076026,
          3.8032347293577318
         ],
         "y": [
          4.638921450296181,
          6.9021871898001095
         ]
        },
        {
         "line": {
          "color": "black"
         },
         "mode": "lines",
         "showlegend": false,
         "type": "scatter",
         "x": [
          2.3348966997076026,
          1.8007084944759888
         ],
         "y": [
          4.638921450296181,
          2.3679498472295126
         ]
        },
        {
         "line": {
          "color": "black"
         },
         "mode": "lines",
         "showlegend": false,
         "type": "scatter",
         "x": [
          14.597305899708129,
          12.58124163245527
         ],
         "y": [
          15.670924012017274,
          15.64869169029434
         ]
        },
        {
         "line": {
          "color": "black"
         },
         "mode": "lines",
         "showlegend": false,
         "type": "scatter",
         "x": [
          14.597305899708129,
          14.125971099342532
         ],
         "y": [
          15.670924012017274,
          13.703276593183663
         ]
        },
        {
         "line": {
          "color": "black"
         },
         "mode": "lines",
         "showlegend": false,
         "type": "scatter",
         "x": [
          14.597305899708129,
          15.495842526851748
         ],
         "y": [
          15.670924012017274,
          17.07579400371926
         ]
        },
        {
         "line": {
          "color": "black"
         },
         "mode": "lines",
         "showlegend": false,
         "type": "scatter",
         "x": [
          14.566490438860987,
          11.836268878380473
         ],
         "y": [
          23.37123083237706,
          23.868938836608095
         ]
        },
        {
         "line": {
          "color": "black"
         },
         "mode": "lines",
         "showlegend": false,
         "type": "scatter",
         "x": [
          14.566490438860987,
          15.035343612162457
         ],
         "y": [
          23.37123083237706,
          25.2252739835346
         ]
        },
        {
         "line": {
          "color": "black"
         },
         "mode": "lines",
         "showlegend": false,
         "type": "scatter",
         "x": [
          14.566490438860987,
          12.654746602759126
         ],
         "y": [
          23.37123083237706,
          21.159690383423303
         ]
        },
        {
         "line": {
          "color": "black"
         },
         "mode": "lines",
         "showlegend": false,
         "type": "scatter",
         "x": [
          28.311337258396048,
          27.2438242146343
         ],
         "y": [
          10.518566712339773,
          10.2916300294753
         ]
        },
        {
         "line": {
          "color": "black"
         },
         "mode": "lines",
         "showlegend": false,
         "type": "scatter",
         "x": [
          28.311337258396048,
          27.595811714326825
         ],
         "y": [
          10.518566712339773,
          8.753595792952423
         ]
        },
        {
         "line": {
          "color": "black"
         },
         "mode": "lines",
         "showlegend": false,
         "type": "scatter",
         "x": [
          28.311337258396048,
          29.913468784718425
         ],
         "y": [
          10.518566712339773,
          9.40182436807964
         ]
        },
        {
         "line": {
          "color": "black"
         },
         "mode": "lines",
         "showlegend": false,
         "type": "scatter",
         "x": [
          16.918395482476466,
          15.54026695838278
         ],
         "y": [
          12.663325539938175,
          11.318141873927758
         ]
        },
        {
         "line": {
          "color": "black"
         },
         "mode": "lines",
         "showlegend": false,
         "type": "scatter",
         "x": [
          16.918395482476466,
          14.125971099342532
         ],
         "y": [
          12.663325539938175,
          13.703276593183663
         ]
        },
        {
         "line": {
          "color": "black"
         },
         "mode": "lines",
         "showlegend": false,
         "type": "scatter",
         "x": [
          16.918395482476466,
          18.428358596512474
         ],
         "y": [
          12.663325539938175,
          13.98965455642333
         ]
        },
        {
         "line": {
          "color": "black"
         },
         "mode": "lines",
         "showlegend": false,
         "type": "scatter",
         "x": [
          29.77906896026113,
          28.69433418830461
         ],
         "y": [
          27.326623731605732,
          29.592148667861416
         ]
        },
        {
         "line": {
          "color": "black"
         },
         "mode": "lines",
         "showlegend": false,
         "type": "scatter",
         "x": [
          29.913468784718425,
          27.2438242146343
         ],
         "y": [
          9.40182436807964,
          10.2916300294753
         ]
        },
        {
         "line": {
          "color": "black"
         },
         "mode": "lines",
         "showlegend": false,
         "type": "scatter",
         "x": [
          29.913468784718425,
          27.595811714326825
         ],
         "y": [
          9.40182436807964,
          8.753595792952423
         ]
        },
        {
         "line": {
          "color": "black"
         },
         "mode": "lines",
         "showlegend": false,
         "type": "scatter",
         "x": [
          29.913468784718425,
          28.311337258396048
         ],
         "y": [
          9.40182436807964,
          10.518566712339773
         ]
        },
        {
         "line": {
          "color": "black"
         },
         "mode": "lines",
         "showlegend": false,
         "type": "scatter",
         "x": [
          1.8007084944759888,
          2.9939308038551724
         ],
         "y": [
          2.3679498472295126,
          3.3430803858110556
         ]
        },
        {
         "line": {
          "color": "black"
         },
         "mode": "lines",
         "showlegend": false,
         "type": "scatter",
         "x": [
          1.8007084944759888,
          2.7122370551710038
         ],
         "y": [
          2.3679498472295126,
          1.7361881139222846
         ]
        },
        {
         "line": {
          "color": "black"
         },
         "mode": "lines",
         "showlegend": false,
         "type": "scatter",
         "x": [
          1.8007084944759888,
          2.3348966997076026
         ],
         "y": [
          2.3679498472295126,
          4.638921450296181
         ]
        },
        {
         "line": {
          "color": "black"
         },
         "mode": "lines",
         "showlegend": false,
         "type": "scatter",
         "x": [
          4.732820724902508,
          7.397624784491211
         ],
         "y": [
          19.744254732988928,
          21.026500309514827
         ]
        },
        {
         "line": {
          "color": "black"
         },
         "mode": "lines",
         "showlegend": false,
         "type": "scatter",
         "x": [
          4.732820724902508,
          6.133865818860611
         ],
         "y": [
          19.744254732988928,
          18.901173231123874
         ]
        },
        {
         "line": {
          "color": "black"
         },
         "mode": "lines",
         "showlegend": false,
         "type": "scatter",
         "x": [
          28.69433418830461,
          29.77906896026113
         ],
         "y": [
          29.592148667861416,
          27.326623731605732
         ]
        },
        {
         "line": {
          "color": "black"
         },
         "mode": "lines",
         "showlegend": false,
         "type": "scatter",
         "x": [
          13.748484055154117,
          12.82653174388791
         ],
         "y": [
          3.9355274655385997,
          3.634913416925376
         ]
        },
        {
         "line": {
          "color": "black"
         },
         "mode": "lines",
         "showlegend": false,
         "type": "scatter",
         "x": [
          13.748484055154117,
          13.344987092556819
         ],
         "y": [
          3.9355274655385997,
          6.84462078560067
         ]
        },
        {
         "line": {
          "color": "black"
         },
         "mode": "lines",
         "showlegend": false,
         "type": "scatter",
         "x": [
          1.025564051223945,
          3.0832077253231094
         ],
         "y": [
          26.248759098072597,
          28.428157543723863
         ]
        },
        {
         "line": {
          "color": "black"
         },
         "mode": "lines",
         "showlegend": false,
         "type": "scatter",
         "x": [
          1.025564051223945,
          0.7304686182441089
         ],
         "y": [
          26.248759098072597,
          24.940474485759886
         ]
        },
        {
         "marker": {
          "color": "red"
         },
         "mode": "markers",
         "name": "Nodes",
         "text": [
          "index:0",
          "index:1",
          "index:2",
          "index:3",
          "index:4",
          "index:5",
          "index:6",
          "index:7",
          "index:8",
          "index:9",
          "index:10",
          "index:11",
          "index:12",
          "index:13",
          "index:14",
          "index:15",
          "index:16",
          "index:17",
          "index:18",
          "index:19",
          "index:20",
          "index:21",
          "index:22",
          "index:23",
          "index:24",
          "index:25",
          "index:26",
          "index:27",
          "index:28",
          "index:29",
          "index:30",
          "index:31",
          "index:32",
          "index:33",
          "index:34",
          "index:35",
          "index:36",
          "index:37",
          "index:38",
          "index:39",
          "index:40",
          "index:41",
          "index:42",
          "index:43",
          "index:44",
          "index:45",
          "index:46",
          "index:47",
          "index:48",
          "index:49",
          "index:50",
          "index:51",
          "index:52",
          "index:53",
          "index:54",
          "index:55",
          "index:56",
          "index:57",
          "index:58",
          "index:59",
          "index:60",
          "index:61",
          "index:62",
          "index:63",
          "index:64",
          "index:65",
          "index:66",
          "index:67",
          "index:68",
          "index:69",
          "index:70",
          "index:71",
          "index:72",
          "index:73",
          "index:74",
          "index:75",
          "index:76",
          "index:77",
          "index:78",
          "index:79",
          "index:80",
          "index:81",
          "index:82",
          "index:83",
          "index:84",
          "index:85",
          "index:86",
          "index:87",
          "index:88",
          "index:89",
          "index:90",
          "index:91",
          "index:92",
          "index:93",
          "index:94",
          "index:95",
          "index:96",
          "index:97",
          "index:98",
          "index:99"
         ],
         "type": "scatter",
         "x": [
          14.80820123346007,
          27.816492298910816,
          26.833494944379318,
          10.792902214998424,
          17.30934381207426,
          2.4915824185370705,
          12.992099441204216,
          27.374523885533794,
          11.129622502817224,
          21.55865491551542,
          5.624096115453365,
          13.628320077678017,
          12.768638618092062,
          8.384270410551935,
          16.237220319038926,
          6.1786318266949145,
          19.533627192724037,
          13.173662246972356,
          18.82776176081499,
          2.874378344177783,
          21.769232347204007,
          2.418993901000713,
          11.533223790148183,
          4.5469103911239666,
          10.432592108791146,
          24.69293133178057,
          14.916675071694362,
          27.01630868071632,
          22.951327567091543,
          4.3745823155980865,
          3.147535129700448,
          29.48440453580352,
          14.943737169765939,
          21.145246664703325,
          20.95909406251713,
          20.43076075181724,
          24.76684358259515,
          28.369557722415294,
          7.321666300784226,
          10.640124320155762,
          21.692045822980038,
          25.70512605176678,
          7.252826139525404,
          6.403198493990608,
          27.13291007832018,
          12.66966084415404,
          5.158583333777979,
          25.26009889205791,
          17.814589772550534,
          14.968902504115839,
          23.38145449361834,
          20.08661924711923,
          0.8259127489638038,
          15.687362983698366,
          27.525968354243673,
          19.976316184063275,
          4.7527275764139745,
          25.8985988652078,
          4.89082309388205,
          22.20315907830713,
          5.142519797921453,
          6.7944548698686615,
          14.471788742388707,
          20.39852307136623,
          6.101124471371327,
          17.688876849338726,
          23.09901994174476,
          2.0471158765644204,
          21.02022055536947,
          24.924894908620463,
          23.539980945761467,
          24.07068491061722,
          7.821465667981889,
          5.360050617268476,
          9.840593494370722,
          18.21141126053858,
          3.833863948415833,
          23.25539473995469,
          3.179628633547526,
          20.808746235883895,
          9.952038231359689,
          8.9259516721309,
          14.436552739956422,
          17.005477776057937,
          10.611706850508888,
          4.1887885516997985,
          15.26908628878125,
          -0.21847990183585617,
          2.1648949572908402,
          14.580239619178139,
          14.379664684067661,
          28.108217279442318,
          17.0657797244459,
          29.77450000954318,
          30.23891167331243,
          1.8513219928722735,
          4.73947180727706,
          28.211406077716212,
          14.028635770236438,
          1.2108054620079782
         ],
         "y": [
          9.954422822571399,
          20.1406675806143,
          19.41321024558204,
          11.409237887653225,
          27.129720992728533,
          13.579832415320627,
          15.385132028962438,
          10.237870044404648,
          29.13707618889531,
          7.704435368716618,
          23.077725201029338,
          0.5839637526894441,
          3.5737776381174045,
          28.267479382651093,
          5.6211403558093656,
          25.45387662139747,
          22.916340049746477,
          6.333688952602983,
          5.443132779471171,
          3.0402226649890736,
          27.990901408842706,
          1.7564356214305998,
          23.431778465799777,
          12.317870491333464,
          2.8844297058941692,
          26.967742209483326,
          0.2598503408975674,
          2.8359949758494314,
          25.484010687512125,
          26.570307140777185,
          28.93539460095572,
          6.341399501217983,
          25.1912903423155,
          24.27997733183591,
          7.05117982294302,
          28.197661589461195,
          15.801164844958274,
          6.460163309822475,
          13.724900121102984,
          15.099437549953247,
          12.691618253412305,
          7.143198519908253,
          20.88761813751059,
          5.680772855280801,
          9.079269836029955,
          21.629031645204144,
          0.33836863336264145,
          6.986836623898698,
          25.170403256316384,
          8.806875729979318,
          10.091747809282841,
          14.535815866368086,
          24.85410248928073,
          10.92436229552978,
          0.20551949517033907,
          19.67111413082799,
          23.285423204650076,
          15.428629974381945,
          27.62049306189229,
          11.701750722307684,
          24.690210539898164,
          1.275167317371782,
          14.178340058446564,
          14.484785242897543,
          18.851991273401197,
          18.75191459300094,
          11.150516264092623,
          12.111208562554884,
          7.359547605404084,
          16.20006948766453,
          11.545906968163006,
          12.041621191687453,
          6.618849931100182,
          10.375470812615049,
          22.37604077456853,
          14.373040461296597,
          6.919573185134243,
          16.301780314054973,
          10.804984971972004,
          17.320922422738423,
          6.204793088240034,
          13.840436258055329,
          26.63689935649538,
          2.7290639318697503,
          28.273140889807408,
          15.248357592105881,
          17.516370703733447,
          8.134583145794245,
          4.105724186745088,
          15.898699355174157,
          23.704225881511704,
          10.425826176207782,
          12.878508923215874,
          27.639656583257203,
          8.982073555385213,
          2.2447018634607394,
          19.729100237922605,
          29.849456781318843,
          3.4551469359868268,
          26.18012178188739
         ]
        },
        {
         "line": {
          "color": "red"
         },
         "mode": "lines",
         "showlegend": false,
         "type": "scatter",
         "x": [
          14.80820123346007,
          14.968902504115839
         ],
         "y": [
          9.954422822571399,
          8.806875729979318
         ]
        },
        {
         "line": {
          "color": "red"
         },
         "mode": "lines",
         "showlegend": false,
         "type": "scatter",
         "x": [
          14.80820123346007,
          15.687362983698366
         ],
         "y": [
          9.954422822571399,
          10.92436229552978
         ]
        },
        {
         "line": {
          "color": "red"
         },
         "mode": "lines",
         "showlegend": false,
         "type": "scatter",
         "x": [
          27.816492298910816,
          26.833494944379318
         ],
         "y": [
          20.1406675806143,
          19.41321024558204
         ]
        },
        {
         "line": {
          "color": "red"
         },
         "mode": "lines",
         "showlegend": false,
         "type": "scatter",
         "x": [
          26.833494944379318,
          27.816492298910816
         ],
         "y": [
          19.41321024558204,
          20.1406675806143
         ]
        },
        {
         "line": {
          "color": "red"
         },
         "mode": "lines",
         "showlegend": false,
         "type": "scatter",
         "x": [
          17.30934381207426,
          17.814589772550534
         ],
         "y": [
          27.129720992728533,
          25.170403256316384
         ]
        },
        {
         "line": {
          "color": "red"
         },
         "mode": "lines",
         "showlegend": false,
         "type": "scatter",
         "x": [
          17.30934381207426,
          14.436552739956422
         ],
         "y": [
          27.129720992728533,
          26.63689935649538
         ]
        },
        {
         "line": {
          "color": "red"
         },
         "mode": "lines",
         "showlegend": false,
         "type": "scatter",
         "x": [
          2.4915824185370705,
          4.5469103911239666
         ],
         "y": [
          13.579832415320627,
          12.317870491333464
         ]
        },
        {
         "line": {
          "color": "red"
         },
         "mode": "lines",
         "showlegend": false,
         "type": "scatter",
         "x": [
          2.4915824185370705,
          2.0471158765644204
         ],
         "y": [
          13.579832415320627,
          12.111208562554884
         ]
        },
        {
         "line": {
          "color": "red"
         },
         "mode": "lines",
         "showlegend": false,
         "type": "scatter",
         "x": [
          2.4915824185370705,
          3.179628633547526
         ],
         "y": [
          13.579832415320627,
          10.804984971972004
         ]
        },
        {
         "line": {
          "color": "red"
         },
         "mode": "lines",
         "showlegend": false,
         "type": "scatter",
         "x": [
          2.4915824185370705,
          4.1887885516997985
         ],
         "y": [
          13.579832415320627,
          15.248357592105881
         ]
        },
        {
         "line": {
          "color": "red"
         },
         "mode": "lines",
         "showlegend": false,
         "type": "scatter",
         "x": [
          12.992099441204216,
          10.640124320155762
         ],
         "y": [
          15.385132028962438,
          15.099437549953247
         ]
        },
        {
         "line": {
          "color": "red"
         },
         "mode": "lines",
         "showlegend": false,
         "type": "scatter",
         "x": [
          12.992099441204216,
          14.471788742388707
         ],
         "y": [
          15.385132028962438,
          14.178340058446564
         ]
        },
        {
         "line": {
          "color": "red"
         },
         "mode": "lines",
         "showlegend": false,
         "type": "scatter",
         "x": [
          12.992099441204216,
          14.580239619178139
         ],
         "y": [
          15.385132028962438,
          15.898699355174157
         ]
        },
        {
         "line": {
          "color": "red"
         },
         "mode": "lines",
         "showlegend": false,
         "type": "scatter",
         "x": [
          27.374523885533794,
          27.13291007832018
         ],
         "y": [
          10.237870044404648,
          9.079269836029955
         ]
        },
        {
         "line": {
          "color": "red"
         },
         "mode": "lines",
         "showlegend": false,
         "type": "scatter",
         "x": [
          27.374523885533794,
          28.108217279442318
         ],
         "y": [
          10.237870044404648,
          10.425826176207782
         ]
        },
        {
         "line": {
          "color": "red"
         },
         "mode": "lines",
         "showlegend": false,
         "type": "scatter",
         "x": [
          11.129622502817224,
          8.384270410551935
         ],
         "y": [
          29.13707618889531,
          28.267479382651093
         ]
        },
        {
         "line": {
          "color": "red"
         },
         "mode": "lines",
         "showlegend": false,
         "type": "scatter",
         "x": [
          11.129622502817224,
          10.611706850508888
         ],
         "y": [
          29.13707618889531,
          28.273140889807408
         ]
        },
        {
         "line": {
          "color": "red"
         },
         "mode": "lines",
         "showlegend": false,
         "type": "scatter",
         "x": [
          21.55865491551542,
          20.95909406251713
         ],
         "y": [
          7.704435368716618,
          7.05117982294302
         ]
        },
        {
         "line": {
          "color": "red"
         },
         "mode": "lines",
         "showlegend": false,
         "type": "scatter",
         "x": [
          21.55865491551542,
          23.38145449361834
         ],
         "y": [
          7.704435368716618,
          10.091747809282841
         ]
        },
        {
         "line": {
          "color": "red"
         },
         "mode": "lines",
         "showlegend": false,
         "type": "scatter",
         "x": [
          21.55865491551542,
          21.02022055536947
         ],
         "y": [
          7.704435368716618,
          7.359547605404084
         ]
        },
        {
         "line": {
          "color": "red"
         },
         "mode": "lines",
         "showlegend": false,
         "type": "scatter",
         "x": [
          5.624096115453365,
          6.1786318266949145
         ],
         "y": [
          23.077725201029338,
          25.45387662139747
         ]
        },
        {
         "line": {
          "color": "red"
         },
         "mode": "lines",
         "showlegend": false,
         "type": "scatter",
         "x": [
          5.624096115453365,
          7.252826139525404
         ],
         "y": [
          23.077725201029338,
          20.88761813751059
         ]
        },
        {
         "line": {
          "color": "red"
         },
         "mode": "lines",
         "showlegend": false,
         "type": "scatter",
         "x": [
          5.624096115453365,
          4.7527275764139745
         ],
         "y": [
          23.077725201029338,
          23.285423204650076
         ]
        },
        {
         "line": {
          "color": "red"
         },
         "mode": "lines",
         "showlegend": false,
         "type": "scatter",
         "x": [
          5.624096115453365,
          5.142519797921453
         ],
         "y": [
          23.077725201029338,
          24.690210539898164
         ]
        },
        {
         "line": {
          "color": "red"
         },
         "mode": "lines",
         "showlegend": false,
         "type": "scatter",
         "x": [
          13.628320077678017,
          14.916675071694362
         ],
         "y": [
          0.5839637526894441,
          0.2598503408975674
         ]
        },
        {
         "line": {
          "color": "red"
         },
         "mode": "lines",
         "showlegend": false,
         "type": "scatter",
         "x": [
          13.628320077678017,
          14.028635770236438
         ],
         "y": [
          0.5839637526894441,
          3.4551469359868268
         ]
        },
        {
         "line": {
          "color": "red"
         },
         "mode": "lines",
         "showlegend": false,
         "type": "scatter",
         "x": [
          12.768638618092062,
          13.173662246972356
         ],
         "y": [
          3.5737776381174045,
          6.333688952602983
         ]
        },
        {
         "line": {
          "color": "red"
         },
         "mode": "lines",
         "showlegend": false,
         "type": "scatter",
         "x": [
          12.768638618092062,
          10.432592108791146
         ],
         "y": [
          3.5737776381174045,
          2.8844297058941692
         ]
        },
        {
         "line": {
          "color": "red"
         },
         "mode": "lines",
         "showlegend": false,
         "type": "scatter",
         "x": [
          12.768638618092062,
          14.028635770236438
         ],
         "y": [
          3.5737776381174045,
          3.4551469359868268
         ]
        },
        {
         "line": {
          "color": "red"
         },
         "mode": "lines",
         "showlegend": false,
         "type": "scatter",
         "x": [
          8.384270410551935,
          11.129622502817224
         ],
         "y": [
          28.267479382651093,
          29.13707618889531
         ]
        },
        {
         "line": {
          "color": "red"
         },
         "mode": "lines",
         "showlegend": false,
         "type": "scatter",
         "x": [
          8.384270410551935,
          10.611706850508888
         ],
         "y": [
          28.267479382651093,
          28.273140889807408
         ]
        },
        {
         "line": {
          "color": "red"
         },
         "mode": "lines",
         "showlegend": false,
         "type": "scatter",
         "x": [
          16.237220319038926,
          18.82776176081499
         ],
         "y": [
          5.6211403558093656,
          5.443132779471171
         ]
        },
        {
         "line": {
          "color": "red"
         },
         "mode": "lines",
         "showlegend": false,
         "type": "scatter",
         "x": [
          16.237220319038926,
          17.005477776057937
         ],
         "y": [
          5.6211403558093656,
          2.7290639318697503
         ]
        },
        {
         "line": {
          "color": "red"
         },
         "mode": "lines",
         "showlegend": false,
         "type": "scatter",
         "x": [
          6.1786318266949145,
          5.624096115453365
         ],
         "y": [
          25.45387662139747,
          23.077725201029338
         ]
        },
        {
         "line": {
          "color": "red"
         },
         "mode": "lines",
         "showlegend": false,
         "type": "scatter",
         "x": [
          6.1786318266949145,
          4.3745823155980865
         ],
         "y": [
          25.45387662139747,
          26.570307140777185
         ]
        },
        {
         "line": {
          "color": "red"
         },
         "mode": "lines",
         "showlegend": false,
         "type": "scatter",
         "x": [
          6.1786318266949145,
          4.7527275764139745
         ],
         "y": [
          25.45387662139747,
          23.285423204650076
         ]
        },
        {
         "line": {
          "color": "red"
         },
         "mode": "lines",
         "showlegend": false,
         "type": "scatter",
         "x": [
          6.1786318266949145,
          4.89082309388205
         ],
         "y": [
          25.45387662139747,
          27.62049306189229
         ]
        },
        {
         "line": {
          "color": "red"
         },
         "mode": "lines",
         "showlegend": false,
         "type": "scatter",
         "x": [
          6.1786318266949145,
          5.142519797921453
         ],
         "y": [
          25.45387662139747,
          24.690210539898164
         ]
        },
        {
         "line": {
          "color": "red"
         },
         "mode": "lines",
         "showlegend": false,
         "type": "scatter",
         "x": [
          19.533627192724037,
          21.145246664703325
         ],
         "y": [
          22.916340049746477,
          24.27997733183591
         ]
        },
        {
         "line": {
          "color": "red"
         },
         "mode": "lines",
         "showlegend": false,
         "type": "scatter",
         "x": [
          19.533627192724037,
          17.814589772550534
         ],
         "y": [
          22.916340049746477,
          25.170403256316384
         ]
        },
        {
         "line": {
          "color": "red"
         },
         "mode": "lines",
         "showlegend": false,
         "type": "scatter",
         "x": [
          13.173662246972356,
          12.768638618092062
         ],
         "y": [
          6.333688952602983,
          3.5737776381174045
         ]
        },
        {
         "line": {
          "color": "red"
         },
         "mode": "lines",
         "showlegend": false,
         "type": "scatter",
         "x": [
          13.173662246972356,
          14.028635770236438
         ],
         "y": [
          6.333688952602983,
          3.4551469359868268
         ]
        },
        {
         "line": {
          "color": "red"
         },
         "mode": "lines",
         "showlegend": false,
         "type": "scatter",
         "x": [
          18.82776176081499,
          16.237220319038926
         ],
         "y": [
          5.443132779471171,
          5.6211403558093656
         ]
        },
        {
         "line": {
          "color": "red"
         },
         "mode": "lines",
         "showlegend": false,
         "type": "scatter",
         "x": [
          18.82776176081499,
          20.95909406251713
         ],
         "y": [
          5.443132779471171,
          7.05117982294302
         ]
        },
        {
         "line": {
          "color": "red"
         },
         "mode": "lines",
         "showlegend": false,
         "type": "scatter",
         "x": [
          18.82776176081499,
          21.02022055536947
         ],
         "y": [
          5.443132779471171,
          7.359547605404084
         ]
        },
        {
         "line": {
          "color": "red"
         },
         "mode": "lines",
         "showlegend": false,
         "type": "scatter",
         "x": [
          2.874378344177783,
          2.418993901000713
         ],
         "y": [
          3.0402226649890736,
          1.7564356214305998
         ]
        },
        {
         "line": {
          "color": "red"
         },
         "mode": "lines",
         "showlegend": false,
         "type": "scatter",
         "x": [
          2.874378344177783,
          2.1648949572908402
         ],
         "y": [
          3.0402226649890736,
          4.105724186745088
         ]
        },
        {
         "line": {
          "color": "red"
         },
         "mode": "lines",
         "showlegend": false,
         "type": "scatter",
         "x": [
          2.874378344177783,
          1.8513219928722735
         ],
         "y": [
          3.0402226649890736,
          2.2447018634607394
         ]
        },
        {
         "line": {
          "color": "red"
         },
         "mode": "lines",
         "showlegend": false,
         "type": "scatter",
         "x": [
          21.769232347204007,
          22.951327567091543
         ],
         "y": [
          27.990901408842706,
          25.484010687512125
         ]
        },
        {
         "line": {
          "color": "red"
         },
         "mode": "lines",
         "showlegend": false,
         "type": "scatter",
         "x": [
          21.769232347204007,
          20.43076075181724
         ],
         "y": [
          27.990901408842706,
          28.197661589461195
         ]
        },
        {
         "line": {
          "color": "red"
         },
         "mode": "lines",
         "showlegend": false,
         "type": "scatter",
         "x": [
          2.418993901000713,
          2.874378344177783
         ],
         "y": [
          1.7564356214305998,
          3.0402226649890736
         ]
        },
        {
         "line": {
          "color": "red"
         },
         "mode": "lines",
         "showlegend": false,
         "type": "scatter",
         "x": [
          2.418993901000713,
          2.1648949572908402
         ],
         "y": [
          1.7564356214305998,
          4.105724186745088
         ]
        },
        {
         "line": {
          "color": "red"
         },
         "mode": "lines",
         "showlegend": false,
         "type": "scatter",
         "x": [
          2.418993901000713,
          1.8513219928722735
         ],
         "y": [
          1.7564356214305998,
          2.2447018634607394
         ]
        },
        {
         "line": {
          "color": "red"
         },
         "mode": "lines",
         "showlegend": false,
         "type": "scatter",
         "x": [
          11.533223790148183,
          12.66966084415404
         ],
         "y": [
          23.431778465799777,
          21.629031645204144
         ]
        },
        {
         "line": {
          "color": "red"
         },
         "mode": "lines",
         "showlegend": false,
         "type": "scatter",
         "x": [
          11.533223790148183,
          9.840593494370722
         ],
         "y": [
          23.431778465799777,
          22.37604077456853
         ]
        },
        {
         "line": {
          "color": "red"
         },
         "mode": "lines",
         "showlegend": false,
         "type": "scatter",
         "x": [
          11.533223790148183,
          14.379664684067661
         ],
         "y": [
          23.431778465799777,
          23.704225881511704
         ]
        },
        {
         "line": {
          "color": "red"
         },
         "mode": "lines",
         "showlegend": false,
         "type": "scatter",
         "x": [
          4.5469103911239666,
          2.4915824185370705
         ],
         "y": [
          12.317870491333464,
          13.579832415320627
         ]
        },
        {
         "line": {
          "color": "red"
         },
         "mode": "lines",
         "showlegend": false,
         "type": "scatter",
         "x": [
          4.5469103911239666,
          2.0471158765644204
         ],
         "y": [
          12.317870491333464,
          12.111208562554884
         ]
        },
        {
         "line": {
          "color": "red"
         },
         "mode": "lines",
         "showlegend": false,
         "type": "scatter",
         "x": [
          4.5469103911239666,
          5.360050617268476
         ],
         "y": [
          12.317870491333464,
          10.375470812615049
         ]
        },
        {
         "line": {
          "color": "red"
         },
         "mode": "lines",
         "showlegend": false,
         "type": "scatter",
         "x": [
          4.5469103911239666,
          3.179628633547526
         ],
         "y": [
          12.317870491333464,
          10.804984971972004
         ]
        },
        {
         "line": {
          "color": "red"
         },
         "mode": "lines",
         "showlegend": false,
         "type": "scatter",
         "x": [
          4.5469103911239666,
          4.1887885516997985
         ],
         "y": [
          12.317870491333464,
          15.248357592105881
         ]
        },
        {
         "line": {
          "color": "red"
         },
         "mode": "lines",
         "showlegend": false,
         "type": "scatter",
         "x": [
          10.432592108791146,
          12.768638618092062
         ],
         "y": [
          2.8844297058941692,
          3.5737776381174045
         ]
        },
        {
         "line": {
          "color": "red"
         },
         "mode": "lines",
         "showlegend": false,
         "type": "scatter",
         "x": [
          24.69293133178057,
          22.951327567091543
         ],
         "y": [
          26.967742209483326,
          25.484010687512125
         ]
        },
        {
         "line": {
          "color": "red"
         },
         "mode": "lines",
         "showlegend": false,
         "type": "scatter",
         "x": [
          14.916675071694362,
          13.628320077678017
         ],
         "y": [
          0.2598503408975674,
          0.5839637526894441
         ]
        },
        {
         "line": {
          "color": "red"
         },
         "mode": "lines",
         "showlegend": false,
         "type": "scatter",
         "x": [
          27.01630868071632,
          27.525968354243673
         ],
         "y": [
          2.8359949758494314,
          0.20551949517033907
         ]
        },
        {
         "line": {
          "color": "red"
         },
         "mode": "lines",
         "showlegend": false,
         "type": "scatter",
         "x": [
          22.951327567091543,
          21.769232347204007
         ],
         "y": [
          25.484010687512125,
          27.990901408842706
         ]
        },
        {
         "line": {
          "color": "red"
         },
         "mode": "lines",
         "showlegend": false,
         "type": "scatter",
         "x": [
          22.951327567091543,
          24.69293133178057
         ],
         "y": [
          25.484010687512125,
          26.967742209483326
         ]
        },
        {
         "line": {
          "color": "red"
         },
         "mode": "lines",
         "showlegend": false,
         "type": "scatter",
         "x": [
          22.951327567091543,
          21.145246664703325
         ],
         "y": [
          25.484010687512125,
          24.27997733183591
         ]
        },
        {
         "line": {
          "color": "red"
         },
         "mode": "lines",
         "showlegend": false,
         "type": "scatter",
         "x": [
          4.3745823155980865,
          6.1786318266949145
         ],
         "y": [
          26.570307140777185,
          25.45387662139747
         ]
        },
        {
         "line": {
          "color": "red"
         },
         "mode": "lines",
         "showlegend": false,
         "type": "scatter",
         "x": [
          4.3745823155980865,
          3.147535129700448
         ],
         "y": [
          26.570307140777185,
          28.93539460095572
         ]
        },
        {
         "line": {
          "color": "red"
         },
         "mode": "lines",
         "showlegend": false,
         "type": "scatter",
         "x": [
          4.3745823155980865,
          4.89082309388205
         ],
         "y": [
          26.570307140777185,
          27.62049306189229
         ]
        },
        {
         "line": {
          "color": "red"
         },
         "mode": "lines",
         "showlegend": false,
         "type": "scatter",
         "x": [
          4.3745823155980865,
          5.142519797921453
         ],
         "y": [
          26.570307140777185,
          24.690210539898164
         ]
        },
        {
         "line": {
          "color": "red"
         },
         "mode": "lines",
         "showlegend": false,
         "type": "scatter",
         "x": [
          3.147535129700448,
          4.3745823155980865
         ],
         "y": [
          28.93539460095572,
          26.570307140777185
         ]
        },
        {
         "line": {
          "color": "red"
         },
         "mode": "lines",
         "showlegend": false,
         "type": "scatter",
         "x": [
          3.147535129700448,
          4.89082309388205
         ],
         "y": [
          28.93539460095572,
          27.62049306189229
         ]
        },
        {
         "line": {
          "color": "red"
         },
         "mode": "lines",
         "showlegend": false,
         "type": "scatter",
         "x": [
          29.48440453580352,
          28.369557722415294
         ],
         "y": [
          6.341399501217983,
          6.460163309822475
         ]
        },
        {
         "line": {
          "color": "red"
         },
         "mode": "lines",
         "showlegend": false,
         "type": "scatter",
         "x": [
          29.48440453580352,
          30.23891167331243
         ],
         "y": [
          6.341399501217983,
          8.982073555385213
         ]
        },
        {
         "line": {
          "color": "red"
         },
         "mode": "lines",
         "showlegend": false,
         "type": "scatter",
         "x": [
          14.943737169765939,
          17.814589772550534
         ],
         "y": [
          25.1912903423155,
          25.170403256316384
         ]
        },
        {
         "line": {
          "color": "red"
         },
         "mode": "lines",
         "showlegend": false,
         "type": "scatter",
         "x": [
          14.943737169765939,
          14.436552739956422
         ],
         "y": [
          25.1912903423155,
          26.63689935649538
         ]
        },
        {
         "line": {
          "color": "red"
         },
         "mode": "lines",
         "showlegend": false,
         "type": "scatter",
         "x": [
          14.943737169765939,
          14.379664684067661
         ],
         "y": [
          25.1912903423155,
          23.704225881511704
         ]
        },
        {
         "line": {
          "color": "red"
         },
         "mode": "lines",
         "showlegend": false,
         "type": "scatter",
         "x": [
          21.145246664703325,
          19.533627192724037
         ],
         "y": [
          24.27997733183591,
          22.916340049746477
         ]
        },
        {
         "line": {
          "color": "red"
         },
         "mode": "lines",
         "showlegend": false,
         "type": "scatter",
         "x": [
          21.145246664703325,
          22.951327567091543
         ],
         "y": [
          24.27997733183591,
          25.484010687512125
         ]
        },
        {
         "line": {
          "color": "red"
         },
         "mode": "lines",
         "showlegend": false,
         "type": "scatter",
         "x": [
          20.95909406251713,
          21.55865491551542
         ],
         "y": [
          7.05117982294302,
          7.704435368716618
         ]
        },
        {
         "line": {
          "color": "red"
         },
         "mode": "lines",
         "showlegend": false,
         "type": "scatter",
         "x": [
          20.95909406251713,
          18.82776176081499
         ],
         "y": [
          7.05117982294302,
          5.443132779471171
         ]
        },
        {
         "line": {
          "color": "red"
         },
         "mode": "lines",
         "showlegend": false,
         "type": "scatter",
         "x": [
          20.95909406251713,
          21.02022055536947
         ],
         "y": [
          7.05117982294302,
          7.359547605404084
         ]
        },
        {
         "line": {
          "color": "red"
         },
         "mode": "lines",
         "showlegend": false,
         "type": "scatter",
         "x": [
          20.43076075181724,
          21.769232347204007
         ],
         "y": [
          28.197661589461195,
          27.990901408842706
         ]
        },
        {
         "line": {
          "color": "red"
         },
         "mode": "lines",
         "showlegend": false,
         "type": "scatter",
         "x": [
          24.76684358259515,
          25.8985988652078
         ],
         "y": [
          15.801164844958274,
          15.428629974381945
         ]
        },
        {
         "line": {
          "color": "red"
         },
         "mode": "lines",
         "showlegend": false,
         "type": "scatter",
         "x": [
          24.76684358259515,
          24.924894908620463
         ],
         "y": [
          15.801164844958274,
          16.20006948766453
         ]
        },
        {
         "line": {
          "color": "red"
         },
         "mode": "lines",
         "showlegend": false,
         "type": "scatter",
         "x": [
          24.76684358259515,
          23.25539473995469
         ],
         "y": [
          15.801164844958274,
          16.301780314054973
         ]
        },
        {
         "line": {
          "color": "red"
         },
         "mode": "lines",
         "showlegend": false,
         "type": "scatter",
         "x": [
          28.369557722415294,
          29.48440453580352
         ],
         "y": [
          6.460163309822475,
          6.341399501217983
         ]
        },
        {
         "line": {
          "color": "red"
         },
         "mode": "lines",
         "showlegend": false,
         "type": "scatter",
         "x": [
          28.369557722415294,
          25.70512605176678
         ],
         "y": [
          6.460163309822475,
          7.143198519908253
         ]
        },
        {
         "line": {
          "color": "red"
         },
         "mode": "lines",
         "showlegend": false,
         "type": "scatter",
         "x": [
          28.369557722415294,
          27.13291007832018
         ],
         "y": [
          6.460163309822475,
          9.079269836029955
         ]
        },
        {
         "line": {
          "color": "red"
         },
         "mode": "lines",
         "showlegend": false,
         "type": "scatter",
         "x": [
          7.321666300784226,
          8.9259516721309
         ],
         "y": [
          13.724900121102984,
          13.840436258055329
         ]
        },
        {
         "line": {
          "color": "red"
         },
         "mode": "lines",
         "showlegend": false,
         "type": "scatter",
         "x": [
          10.640124320155762,
          12.992099441204216
         ],
         "y": [
          15.099437549953247,
          15.385132028962438
         ]
        },
        {
         "line": {
          "color": "red"
         },
         "mode": "lines",
         "showlegend": false,
         "type": "scatter",
         "x": [
          10.640124320155762,
          8.9259516721309
         ],
         "y": [
          15.099437549953247,
          13.840436258055329
         ]
        },
        {
         "line": {
          "color": "red"
         },
         "mode": "lines",
         "showlegend": false,
         "type": "scatter",
         "x": [
          21.692045822980038,
          20.08661924711923
         ],
         "y": [
          12.691618253412305,
          14.535815866368086
         ]
        },
        {
         "line": {
          "color": "red"
         },
         "mode": "lines",
         "showlegend": false,
         "type": "scatter",
         "x": [
          21.692045822980038,
          22.20315907830713
         ],
         "y": [
          12.691618253412305,
          11.701750722307684
         ]
        },
        {
         "line": {
          "color": "red"
         },
         "mode": "lines",
         "showlegend": false,
         "type": "scatter",
         "x": [
          21.692045822980038,
          20.39852307136623
         ],
         "y": [
          12.691618253412305,
          14.484785242897543
         ]
        },
        {
         "line": {
          "color": "red"
         },
         "mode": "lines",
         "showlegend": false,
         "type": "scatter",
         "x": [
          21.692045822980038,
          23.09901994174476
         ],
         "y": [
          12.691618253412305,
          11.150516264092623
         ]
        },
        {
         "line": {
          "color": "red"
         },
         "mode": "lines",
         "showlegend": false,
         "type": "scatter",
         "x": [
          21.692045822980038,
          23.539980945761467
         ],
         "y": [
          12.691618253412305,
          11.545906968163006
         ]
        },
        {
         "line": {
          "color": "red"
         },
         "mode": "lines",
         "showlegend": false,
         "type": "scatter",
         "x": [
          21.692045822980038,
          24.07068491061722
         ],
         "y": [
          12.691618253412305,
          12.041621191687453
         ]
        },
        {
         "line": {
          "color": "red"
         },
         "mode": "lines",
         "showlegend": false,
         "type": "scatter",
         "x": [
          25.70512605176678,
          28.369557722415294
         ],
         "y": [
          7.143198519908253,
          6.460163309822475
         ]
        },
        {
         "line": {
          "color": "red"
         },
         "mode": "lines",
         "showlegend": false,
         "type": "scatter",
         "x": [
          25.70512605176678,
          27.13291007832018
         ],
         "y": [
          7.143198519908253,
          9.079269836029955
         ]
        },
        {
         "line": {
          "color": "red"
         },
         "mode": "lines",
         "showlegend": false,
         "type": "scatter",
         "x": [
          25.70512605176678,
          25.26009889205791
         ],
         "y": [
          7.143198519908253,
          6.986836623898698
         ]
        },
        {
         "line": {
          "color": "red"
         },
         "mode": "lines",
         "showlegend": false,
         "type": "scatter",
         "x": [
          7.252826139525404,
          5.624096115453365
         ],
         "y": [
          20.88761813751059,
          23.077725201029338
         ]
        },
        {
         "line": {
          "color": "red"
         },
         "mode": "lines",
         "showlegend": false,
         "type": "scatter",
         "x": [
          7.252826139525404,
          6.101124471371327
         ],
         "y": [
          20.88761813751059,
          18.851991273401197
         ]
        },
        {
         "line": {
          "color": "red"
         },
         "mode": "lines",
         "showlegend": false,
         "type": "scatter",
         "x": [
          7.252826139525404,
          9.840593494370722
         ],
         "y": [
          20.88761813751059,
          22.37604077456853
         ]
        },
        {
         "line": {
          "color": "red"
         },
         "mode": "lines",
         "showlegend": false,
         "type": "scatter",
         "x": [
          7.252826139525404,
          4.73947180727706
         ],
         "y": [
          20.88761813751059,
          19.729100237922605
         ]
        },
        {
         "line": {
          "color": "red"
         },
         "mode": "lines",
         "showlegend": false,
         "type": "scatter",
         "x": [
          6.403198493990608,
          7.821465667981889
         ],
         "y": [
          5.680772855280801,
          6.618849931100182
         ]
        },
        {
         "line": {
          "color": "red"
         },
         "mode": "lines",
         "showlegend": false,
         "type": "scatter",
         "x": [
          6.403198493990608,
          3.833863948415833
         ],
         "y": [
          5.680772855280801,
          6.919573185134243
         ]
        },
        {
         "line": {
          "color": "red"
         },
         "mode": "lines",
         "showlegend": false,
         "type": "scatter",
         "x": [
          27.13291007832018,
          27.374523885533794
         ],
         "y": [
          9.079269836029955,
          10.237870044404648
         ]
        },
        {
         "line": {
          "color": "red"
         },
         "mode": "lines",
         "showlegend": false,
         "type": "scatter",
         "x": [
          27.13291007832018,
          28.369557722415294
         ],
         "y": [
          9.079269836029955,
          6.460163309822475
         ]
        },
        {
         "line": {
          "color": "red"
         },
         "mode": "lines",
         "showlegend": false,
         "type": "scatter",
         "x": [
          27.13291007832018,
          25.70512605176678
         ],
         "y": [
          9.079269836029955,
          7.143198519908253
         ]
        },
        {
         "line": {
          "color": "red"
         },
         "mode": "lines",
         "showlegend": false,
         "type": "scatter",
         "x": [
          27.13291007832018,
          25.26009889205791
         ],
         "y": [
          9.079269836029955,
          6.986836623898698
         ]
        },
        {
         "line": {
          "color": "red"
         },
         "mode": "lines",
         "showlegend": false,
         "type": "scatter",
         "x": [
          27.13291007832018,
          28.108217279442318
         ],
         "y": [
          9.079269836029955,
          10.425826176207782
         ]
        },
        {
         "line": {
          "color": "red"
         },
         "mode": "lines",
         "showlegend": false,
         "type": "scatter",
         "x": [
          12.66966084415404,
          11.533223790148183
         ],
         "y": [
          21.629031645204144,
          23.431778465799777
         ]
        },
        {
         "line": {
          "color": "red"
         },
         "mode": "lines",
         "showlegend": false,
         "type": "scatter",
         "x": [
          12.66966084415404,
          9.840593494370722
         ],
         "y": [
          21.629031645204144,
          22.37604077456853
         ]
        },
        {
         "line": {
          "color": "red"
         },
         "mode": "lines",
         "showlegend": false,
         "type": "scatter",
         "x": [
          12.66966084415404,
          14.379664684067661
         ],
         "y": [
          21.629031645204144,
          23.704225881511704
         ]
        },
        {
         "line": {
          "color": "red"
         },
         "mode": "lines",
         "showlegend": false,
         "type": "scatter",
         "x": [
          5.158583333777979,
          6.7944548698686615
         ],
         "y": [
          0.33836863336264145,
          1.275167317371782
         ]
        },
        {
         "line": {
          "color": "red"
         },
         "mode": "lines",
         "showlegend": false,
         "type": "scatter",
         "x": [
          25.26009889205791,
          25.70512605176678
         ],
         "y": [
          6.986836623898698,
          7.143198519908253
         ]
        },
        {
         "line": {
          "color": "red"
         },
         "mode": "lines",
         "showlegend": false,
         "type": "scatter",
         "x": [
          25.26009889205791,
          27.13291007832018
         ],
         "y": [
          6.986836623898698,
          9.079269836029955
         ]
        },
        {
         "line": {
          "color": "red"
         },
         "mode": "lines",
         "showlegend": false,
         "type": "scatter",
         "x": [
          17.814589772550534,
          17.30934381207426
         ],
         "y": [
          25.170403256316384,
          27.129720992728533
         ]
        },
        {
         "line": {
          "color": "red"
         },
         "mode": "lines",
         "showlegend": false,
         "type": "scatter",
         "x": [
          17.814589772550534,
          19.533627192724037
         ],
         "y": [
          25.170403256316384,
          22.916340049746477
         ]
        },
        {
         "line": {
          "color": "red"
         },
         "mode": "lines",
         "showlegend": false,
         "type": "scatter",
         "x": [
          17.814589772550534,
          14.943737169765939
         ],
         "y": [
          25.170403256316384,
          25.1912903423155
         ]
        },
        {
         "line": {
          "color": "red"
         },
         "mode": "lines",
         "showlegend": false,
         "type": "scatter",
         "x": [
          14.968902504115839,
          14.80820123346007
         ],
         "y": [
          8.806875729979318,
          9.954422822571399
         ]
        },
        {
         "line": {
          "color": "red"
         },
         "mode": "lines",
         "showlegend": false,
         "type": "scatter",
         "x": [
          14.968902504115839,
          15.687362983698366
         ],
         "y": [
          8.806875729979318,
          10.92436229552978
         ]
        },
        {
         "line": {
          "color": "red"
         },
         "mode": "lines",
         "showlegend": false,
         "type": "scatter",
         "x": [
          23.38145449361834,
          21.55865491551542
         ],
         "y": [
          10.091747809282841,
          7.704435368716618
         ]
        },
        {
         "line": {
          "color": "red"
         },
         "mode": "lines",
         "showlegend": false,
         "type": "scatter",
         "x": [
          23.38145449361834,
          22.20315907830713
         ],
         "y": [
          10.091747809282841,
          11.701750722307684
         ]
        },
        {
         "line": {
          "color": "red"
         },
         "mode": "lines",
         "showlegend": false,
         "type": "scatter",
         "x": [
          23.38145449361834,
          23.09901994174476
         ],
         "y": [
          10.091747809282841,
          11.150516264092623
         ]
        },
        {
         "line": {
          "color": "red"
         },
         "mode": "lines",
         "showlegend": false,
         "type": "scatter",
         "x": [
          23.38145449361834,
          23.539980945761467
         ],
         "y": [
          10.091747809282841,
          11.545906968163006
         ]
        },
        {
         "line": {
          "color": "red"
         },
         "mode": "lines",
         "showlegend": false,
         "type": "scatter",
         "x": [
          23.38145449361834,
          24.07068491061722
         ],
         "y": [
          10.091747809282841,
          12.041621191687453
         ]
        },
        {
         "line": {
          "color": "red"
         },
         "mode": "lines",
         "showlegend": false,
         "type": "scatter",
         "x": [
          20.08661924711923,
          21.692045822980038
         ],
         "y": [
          14.535815866368086,
          12.691618253412305
         ]
        },
        {
         "line": {
          "color": "red"
         },
         "mode": "lines",
         "showlegend": false,
         "type": "scatter",
         "x": [
          20.08661924711923,
          20.39852307136623
         ],
         "y": [
          14.535815866368086,
          14.484785242897543
         ]
        },
        {
         "line": {
          "color": "red"
         },
         "mode": "lines",
         "showlegend": false,
         "type": "scatter",
         "x": [
          20.08661924711923,
          18.21141126053858
         ],
         "y": [
          14.535815866368086,
          14.373040461296597
         ]
        },
        {
         "line": {
          "color": "red"
         },
         "mode": "lines",
         "showlegend": false,
         "type": "scatter",
         "x": [
          20.08661924711923,
          20.808746235883895
         ],
         "y": [
          14.535815866368086,
          17.320922422738423
         ]
        },
        {
         "line": {
          "color": "red"
         },
         "mode": "lines",
         "showlegend": false,
         "type": "scatter",
         "x": [
          0.8259127489638038,
          1.2108054620079782
         ],
         "y": [
          24.85410248928073,
          26.18012178188739
         ]
        },
        {
         "line": {
          "color": "red"
         },
         "mode": "lines",
         "showlegend": false,
         "type": "scatter",
         "x": [
          15.687362983698366,
          14.80820123346007
         ],
         "y": [
          10.92436229552978,
          9.954422822571399
         ]
        },
        {
         "line": {
          "color": "red"
         },
         "mode": "lines",
         "showlegend": false,
         "type": "scatter",
         "x": [
          15.687362983698366,
          14.968902504115839
         ],
         "y": [
          10.92436229552978,
          8.806875729979318
         ]
        },
        {
         "line": {
          "color": "red"
         },
         "mode": "lines",
         "showlegend": false,
         "type": "scatter",
         "x": [
          15.687362983698366,
          17.0657797244459
         ],
         "y": [
          10.92436229552978,
          12.878508923215874
         ]
        },
        {
         "line": {
          "color": "red"
         },
         "mode": "lines",
         "showlegend": false,
         "type": "scatter",
         "x": [
          27.525968354243673,
          27.01630868071632
         ],
         "y": [
          0.20551949517033907,
          2.8359949758494314
         ]
        },
        {
         "line": {
          "color": "red"
         },
         "mode": "lines",
         "showlegend": false,
         "type": "scatter",
         "x": [
          19.976316184063275,
          17.688876849338726
         ],
         "y": [
          19.67111413082799,
          18.75191459300094
         ]
        },
        {
         "line": {
          "color": "red"
         },
         "mode": "lines",
         "showlegend": false,
         "type": "scatter",
         "x": [
          19.976316184063275,
          20.808746235883895
         ],
         "y": [
          19.67111413082799,
          17.320922422738423
         ]
        },
        {
         "line": {
          "color": "red"
         },
         "mode": "lines",
         "showlegend": false,
         "type": "scatter",
         "x": [
          4.7527275764139745,
          5.624096115453365
         ],
         "y": [
          23.285423204650076,
          23.077725201029338
         ]
        },
        {
         "line": {
          "color": "red"
         },
         "mode": "lines",
         "showlegend": false,
         "type": "scatter",
         "x": [
          4.7527275764139745,
          6.1786318266949145
         ],
         "y": [
          23.285423204650076,
          25.45387662139747
         ]
        },
        {
         "line": {
          "color": "red"
         },
         "mode": "lines",
         "showlegend": false,
         "type": "scatter",
         "x": [
          4.7527275764139745,
          5.142519797921453
         ],
         "y": [
          23.285423204650076,
          24.690210539898164
         ]
        },
        {
         "line": {
          "color": "red"
         },
         "mode": "lines",
         "showlegend": false,
         "type": "scatter",
         "x": [
          25.8985988652078,
          24.76684358259515
         ],
         "y": [
          15.428629974381945,
          15.801164844958274
         ]
        },
        {
         "line": {
          "color": "red"
         },
         "mode": "lines",
         "showlegend": false,
         "type": "scatter",
         "x": [
          25.8985988652078,
          24.924894908620463
         ],
         "y": [
          15.428629974381945,
          16.20006948766453
         ]
        },
        {
         "line": {
          "color": "red"
         },
         "mode": "lines",
         "showlegend": false,
         "type": "scatter",
         "x": [
          25.8985988652078,
          23.25539473995469
         ],
         "y": [
          15.428629974381945,
          16.301780314054973
         ]
        },
        {
         "line": {
          "color": "red"
         },
         "mode": "lines",
         "showlegend": false,
         "type": "scatter",
         "x": [
          4.89082309388205,
          6.1786318266949145
         ],
         "y": [
          27.62049306189229,
          25.45387662139747
         ]
        },
        {
         "line": {
          "color": "red"
         },
         "mode": "lines",
         "showlegend": false,
         "type": "scatter",
         "x": [
          4.89082309388205,
          4.3745823155980865
         ],
         "y": [
          27.62049306189229,
          26.570307140777185
         ]
        },
        {
         "line": {
          "color": "red"
         },
         "mode": "lines",
         "showlegend": false,
         "type": "scatter",
         "x": [
          4.89082309388205,
          3.147535129700448
         ],
         "y": [
          27.62049306189229,
          28.93539460095572
         ]
        },
        {
         "line": {
          "color": "red"
         },
         "mode": "lines",
         "showlegend": false,
         "type": "scatter",
         "x": [
          4.89082309388205,
          5.142519797921453
         ],
         "y": [
          27.62049306189229,
          24.690210539898164
         ]
        },
        {
         "line": {
          "color": "red"
         },
         "mode": "lines",
         "showlegend": false,
         "type": "scatter",
         "x": [
          22.20315907830713,
          21.692045822980038
         ],
         "y": [
          11.701750722307684,
          12.691618253412305
         ]
        },
        {
         "line": {
          "color": "red"
         },
         "mode": "lines",
         "showlegend": false,
         "type": "scatter",
         "x": [
          22.20315907830713,
          23.38145449361834
         ],
         "y": [
          11.701750722307684,
          10.091747809282841
         ]
        },
        {
         "line": {
          "color": "red"
         },
         "mode": "lines",
         "showlegend": false,
         "type": "scatter",
         "x": [
          22.20315907830713,
          23.09901994174476
         ],
         "y": [
          11.701750722307684,
          11.150516264092623
         ]
        },
        {
         "line": {
          "color": "red"
         },
         "mode": "lines",
         "showlegend": false,
         "type": "scatter",
         "x": [
          22.20315907830713,
          23.539980945761467
         ],
         "y": [
          11.701750722307684,
          11.545906968163006
         ]
        },
        {
         "line": {
          "color": "red"
         },
         "mode": "lines",
         "showlegend": false,
         "type": "scatter",
         "x": [
          22.20315907830713,
          24.07068491061722
         ],
         "y": [
          11.701750722307684,
          12.041621191687453
         ]
        },
        {
         "line": {
          "color": "red"
         },
         "mode": "lines",
         "showlegend": false,
         "type": "scatter",
         "x": [
          5.142519797921453,
          5.624096115453365
         ],
         "y": [
          24.690210539898164,
          23.077725201029338
         ]
        },
        {
         "line": {
          "color": "red"
         },
         "mode": "lines",
         "showlegend": false,
         "type": "scatter",
         "x": [
          5.142519797921453,
          6.1786318266949145
         ],
         "y": [
          24.690210539898164,
          25.45387662139747
         ]
        },
        {
         "line": {
          "color": "red"
         },
         "mode": "lines",
         "showlegend": false,
         "type": "scatter",
         "x": [
          5.142519797921453,
          4.3745823155980865
         ],
         "y": [
          24.690210539898164,
          26.570307140777185
         ]
        },
        {
         "line": {
          "color": "red"
         },
         "mode": "lines",
         "showlegend": false,
         "type": "scatter",
         "x": [
          5.142519797921453,
          4.7527275764139745
         ],
         "y": [
          24.690210539898164,
          23.285423204650076
         ]
        },
        {
         "line": {
          "color": "red"
         },
         "mode": "lines",
         "showlegend": false,
         "type": "scatter",
         "x": [
          5.142519797921453,
          4.89082309388205
         ],
         "y": [
          24.690210539898164,
          27.62049306189229
         ]
        },
        {
         "line": {
          "color": "red"
         },
         "mode": "lines",
         "showlegend": false,
         "type": "scatter",
         "x": [
          6.7944548698686615,
          5.158583333777979
         ],
         "y": [
          1.275167317371782,
          0.33836863336264145
         ]
        },
        {
         "line": {
          "color": "red"
         },
         "mode": "lines",
         "showlegend": false,
         "type": "scatter",
         "x": [
          14.471788742388707,
          12.992099441204216
         ],
         "y": [
          14.178340058446564,
          15.385132028962438
         ]
        },
        {
         "line": {
          "color": "red"
         },
         "mode": "lines",
         "showlegend": false,
         "type": "scatter",
         "x": [
          14.471788742388707,
          14.580239619178139
         ],
         "y": [
          14.178340058446564,
          15.898699355174157
         ]
        },
        {
         "line": {
          "color": "red"
         },
         "mode": "lines",
         "showlegend": false,
         "type": "scatter",
         "x": [
          14.471788742388707,
          17.0657797244459
         ],
         "y": [
          14.178340058446564,
          12.878508923215874
         ]
        },
        {
         "line": {
          "color": "red"
         },
         "mode": "lines",
         "showlegend": false,
         "type": "scatter",
         "x": [
          20.39852307136623,
          21.692045822980038
         ],
         "y": [
          14.484785242897543,
          12.691618253412305
         ]
        },
        {
         "line": {
          "color": "red"
         },
         "mode": "lines",
         "showlegend": false,
         "type": "scatter",
         "x": [
          20.39852307136623,
          20.08661924711923
         ],
         "y": [
          14.484785242897543,
          14.535815866368086
         ]
        },
        {
         "line": {
          "color": "red"
         },
         "mode": "lines",
         "showlegend": false,
         "type": "scatter",
         "x": [
          20.39852307136623,
          18.21141126053858
         ],
         "y": [
          14.484785242897543,
          14.373040461296597
         ]
        },
        {
         "line": {
          "color": "red"
         },
         "mode": "lines",
         "showlegend": false,
         "type": "scatter",
         "x": [
          20.39852307136623,
          20.808746235883895
         ],
         "y": [
          14.484785242897543,
          17.320922422738423
         ]
        },
        {
         "line": {
          "color": "red"
         },
         "mode": "lines",
         "showlegend": false,
         "type": "scatter",
         "x": [
          6.101124471371327,
          7.252826139525404
         ],
         "y": [
          18.851991273401197,
          20.88761813751059
         ]
        },
        {
         "line": {
          "color": "red"
         },
         "mode": "lines",
         "showlegend": false,
         "type": "scatter",
         "x": [
          6.101124471371327,
          4.73947180727706
         ],
         "y": [
          18.851991273401197,
          19.729100237922605
         ]
        },
        {
         "line": {
          "color": "red"
         },
         "mode": "lines",
         "showlegend": false,
         "type": "scatter",
         "x": [
          17.688876849338726,
          19.976316184063275
         ],
         "y": [
          18.75191459300094,
          19.67111413082799
         ]
        },
        {
         "line": {
          "color": "red"
         },
         "mode": "lines",
         "showlegend": false,
         "type": "scatter",
         "x": [
          17.688876849338726,
          15.26908628878125
         ],
         "y": [
          18.75191459300094,
          17.516370703733447
         ]
        },
        {
         "line": {
          "color": "red"
         },
         "mode": "lines",
         "showlegend": false,
         "type": "scatter",
         "x": [
          23.09901994174476,
          21.692045822980038
         ],
         "y": [
          11.150516264092623,
          12.691618253412305
         ]
        },
        {
         "line": {
          "color": "red"
         },
         "mode": "lines",
         "showlegend": false,
         "type": "scatter",
         "x": [
          23.09901994174476,
          23.38145449361834
         ],
         "y": [
          11.150516264092623,
          10.091747809282841
         ]
        },
        {
         "line": {
          "color": "red"
         },
         "mode": "lines",
         "showlegend": false,
         "type": "scatter",
         "x": [
          23.09901994174476,
          22.20315907830713
         ],
         "y": [
          11.150516264092623,
          11.701750722307684
         ]
        },
        {
         "line": {
          "color": "red"
         },
         "mode": "lines",
         "showlegend": false,
         "type": "scatter",
         "x": [
          23.09901994174476,
          23.539980945761467
         ],
         "y": [
          11.150516264092623,
          11.545906968163006
         ]
        },
        {
         "line": {
          "color": "red"
         },
         "mode": "lines",
         "showlegend": false,
         "type": "scatter",
         "x": [
          23.09901994174476,
          24.07068491061722
         ],
         "y": [
          11.150516264092623,
          12.041621191687453
         ]
        },
        {
         "line": {
          "color": "red"
         },
         "mode": "lines",
         "showlegend": false,
         "type": "scatter",
         "x": [
          2.0471158765644204,
          2.4915824185370705
         ],
         "y": [
          12.111208562554884,
          13.579832415320627
         ]
        },
        {
         "line": {
          "color": "red"
         },
         "mode": "lines",
         "showlegend": false,
         "type": "scatter",
         "x": [
          2.0471158765644204,
          4.5469103911239666
         ],
         "y": [
          12.111208562554884,
          12.317870491333464
         ]
        },
        {
         "line": {
          "color": "red"
         },
         "mode": "lines",
         "showlegend": false,
         "type": "scatter",
         "x": [
          2.0471158765644204,
          3.179628633547526
         ],
         "y": [
          12.111208562554884,
          10.804984971972004
         ]
        },
        {
         "line": {
          "color": "red"
         },
         "mode": "lines",
         "showlegend": false,
         "type": "scatter",
         "x": [
          21.02022055536947,
          21.55865491551542
         ],
         "y": [
          7.359547605404084,
          7.704435368716618
         ]
        },
        {
         "line": {
          "color": "red"
         },
         "mode": "lines",
         "showlegend": false,
         "type": "scatter",
         "x": [
          21.02022055536947,
          18.82776176081499
         ],
         "y": [
          7.359547605404084,
          5.443132779471171
         ]
        },
        {
         "line": {
          "color": "red"
         },
         "mode": "lines",
         "showlegend": false,
         "type": "scatter",
         "x": [
          21.02022055536947,
          20.95909406251713
         ],
         "y": [
          7.359547605404084,
          7.05117982294302
         ]
        },
        {
         "line": {
          "color": "red"
         },
         "mode": "lines",
         "showlegend": false,
         "type": "scatter",
         "x": [
          24.924894908620463,
          24.76684358259515
         ],
         "y": [
          16.20006948766453,
          15.801164844958274
         ]
        },
        {
         "line": {
          "color": "red"
         },
         "mode": "lines",
         "showlegend": false,
         "type": "scatter",
         "x": [
          24.924894908620463,
          25.8985988652078
         ],
         "y": [
          16.20006948766453,
          15.428629974381945
         ]
        },
        {
         "line": {
          "color": "red"
         },
         "mode": "lines",
         "showlegend": false,
         "type": "scatter",
         "x": [
          24.924894908620463,
          23.25539473995469
         ],
         "y": [
          16.20006948766453,
          16.301780314054973
         ]
        },
        {
         "line": {
          "color": "red"
         },
         "mode": "lines",
         "showlegend": false,
         "type": "scatter",
         "x": [
          23.539980945761467,
          21.692045822980038
         ],
         "y": [
          11.545906968163006,
          12.691618253412305
         ]
        },
        {
         "line": {
          "color": "red"
         },
         "mode": "lines",
         "showlegend": false,
         "type": "scatter",
         "x": [
          23.539980945761467,
          23.38145449361834
         ],
         "y": [
          11.545906968163006,
          10.091747809282841
         ]
        },
        {
         "line": {
          "color": "red"
         },
         "mode": "lines",
         "showlegend": false,
         "type": "scatter",
         "x": [
          23.539980945761467,
          22.20315907830713
         ],
         "y": [
          11.545906968163006,
          11.701750722307684
         ]
        },
        {
         "line": {
          "color": "red"
         },
         "mode": "lines",
         "showlegend": false,
         "type": "scatter",
         "x": [
          23.539980945761467,
          23.09901994174476
         ],
         "y": [
          11.545906968163006,
          11.150516264092623
         ]
        },
        {
         "line": {
          "color": "red"
         },
         "mode": "lines",
         "showlegend": false,
         "type": "scatter",
         "x": [
          23.539980945761467,
          24.07068491061722
         ],
         "y": [
          11.545906968163006,
          12.041621191687453
         ]
        },
        {
         "line": {
          "color": "red"
         },
         "mode": "lines",
         "showlegend": false,
         "type": "scatter",
         "x": [
          24.07068491061722,
          21.692045822980038
         ],
         "y": [
          12.041621191687453,
          12.691618253412305
         ]
        },
        {
         "line": {
          "color": "red"
         },
         "mode": "lines",
         "showlegend": false,
         "type": "scatter",
         "x": [
          24.07068491061722,
          23.38145449361834
         ],
         "y": [
          12.041621191687453,
          10.091747809282841
         ]
        },
        {
         "line": {
          "color": "red"
         },
         "mode": "lines",
         "showlegend": false,
         "type": "scatter",
         "x": [
          24.07068491061722,
          22.20315907830713
         ],
         "y": [
          12.041621191687453,
          11.701750722307684
         ]
        },
        {
         "line": {
          "color": "red"
         },
         "mode": "lines",
         "showlegend": false,
         "type": "scatter",
         "x": [
          24.07068491061722,
          23.09901994174476
         ],
         "y": [
          12.041621191687453,
          11.150516264092623
         ]
        },
        {
         "line": {
          "color": "red"
         },
         "mode": "lines",
         "showlegend": false,
         "type": "scatter",
         "x": [
          24.07068491061722,
          23.539980945761467
         ],
         "y": [
          12.041621191687453,
          11.545906968163006
         ]
        },
        {
         "line": {
          "color": "red"
         },
         "mode": "lines",
         "showlegend": false,
         "type": "scatter",
         "x": [
          7.821465667981889,
          6.403198493990608
         ],
         "y": [
          6.618849931100182,
          5.680772855280801
         ]
        },
        {
         "line": {
          "color": "red"
         },
         "mode": "lines",
         "showlegend": false,
         "type": "scatter",
         "x": [
          7.821465667981889,
          9.952038231359689
         ],
         "y": [
          6.618849931100182,
          6.204793088240034
         ]
        },
        {
         "line": {
          "color": "red"
         },
         "mode": "lines",
         "showlegend": false,
         "type": "scatter",
         "x": [
          5.360050617268476,
          4.5469103911239666
         ],
         "y": [
          10.375470812615049,
          12.317870491333464
         ]
        },
        {
         "line": {
          "color": "red"
         },
         "mode": "lines",
         "showlegend": false,
         "type": "scatter",
         "x": [
          5.360050617268476,
          3.179628633547526
         ],
         "y": [
          10.375470812615049,
          10.804984971972004
         ]
        },
        {
         "line": {
          "color": "red"
         },
         "mode": "lines",
         "showlegend": false,
         "type": "scatter",
         "x": [
          9.840593494370722,
          11.533223790148183
         ],
         "y": [
          22.37604077456853,
          23.431778465799777
         ]
        },
        {
         "line": {
          "color": "red"
         },
         "mode": "lines",
         "showlegend": false,
         "type": "scatter",
         "x": [
          9.840593494370722,
          7.252826139525404
         ],
         "y": [
          22.37604077456853,
          20.88761813751059
         ]
        },
        {
         "line": {
          "color": "red"
         },
         "mode": "lines",
         "showlegend": false,
         "type": "scatter",
         "x": [
          9.840593494370722,
          12.66966084415404
         ],
         "y": [
          22.37604077456853,
          21.629031645204144
         ]
        },
        {
         "line": {
          "color": "red"
         },
         "mode": "lines",
         "showlegend": false,
         "type": "scatter",
         "x": [
          18.21141126053858,
          20.08661924711923
         ],
         "y": [
          14.373040461296597,
          14.535815866368086
         ]
        },
        {
         "line": {
          "color": "red"
         },
         "mode": "lines",
         "showlegend": false,
         "type": "scatter",
         "x": [
          18.21141126053858,
          20.39852307136623
         ],
         "y": [
          14.373040461296597,
          14.484785242897543
         ]
        },
        {
         "line": {
          "color": "red"
         },
         "mode": "lines",
         "showlegend": false,
         "type": "scatter",
         "x": [
          18.21141126053858,
          17.0657797244459
         ],
         "y": [
          14.373040461296597,
          12.878508923215874
         ]
        },
        {
         "line": {
          "color": "red"
         },
         "mode": "lines",
         "showlegend": false,
         "type": "scatter",
         "x": [
          3.833863948415833,
          6.403198493990608
         ],
         "y": [
          6.919573185134243,
          5.680772855280801
         ]
        },
        {
         "line": {
          "color": "red"
         },
         "mode": "lines",
         "showlegend": false,
         "type": "scatter",
         "x": [
          23.25539473995469,
          24.76684358259515
         ],
         "y": [
          16.301780314054973,
          15.801164844958274
         ]
        },
        {
         "line": {
          "color": "red"
         },
         "mode": "lines",
         "showlegend": false,
         "type": "scatter",
         "x": [
          23.25539473995469,
          25.8985988652078
         ],
         "y": [
          16.301780314054973,
          15.428629974381945
         ]
        },
        {
         "line": {
          "color": "red"
         },
         "mode": "lines",
         "showlegend": false,
         "type": "scatter",
         "x": [
          23.25539473995469,
          24.924894908620463
         ],
         "y": [
          16.301780314054973,
          16.20006948766453
         ]
        },
        {
         "line": {
          "color": "red"
         },
         "mode": "lines",
         "showlegend": false,
         "type": "scatter",
         "x": [
          23.25539473995469,
          20.808746235883895
         ],
         "y": [
          16.301780314054973,
          17.320922422738423
         ]
        },
        {
         "line": {
          "color": "red"
         },
         "mode": "lines",
         "showlegend": false,
         "type": "scatter",
         "x": [
          3.179628633547526,
          2.4915824185370705
         ],
         "y": [
          10.804984971972004,
          13.579832415320627
         ]
        },
        {
         "line": {
          "color": "red"
         },
         "mode": "lines",
         "showlegend": false,
         "type": "scatter",
         "x": [
          3.179628633547526,
          4.5469103911239666
         ],
         "y": [
          10.804984971972004,
          12.317870491333464
         ]
        },
        {
         "line": {
          "color": "red"
         },
         "mode": "lines",
         "showlegend": false,
         "type": "scatter",
         "x": [
          3.179628633547526,
          2.0471158765644204
         ],
         "y": [
          10.804984971972004,
          12.111208562554884
         ]
        },
        {
         "line": {
          "color": "red"
         },
         "mode": "lines",
         "showlegend": false,
         "type": "scatter",
         "x": [
          3.179628633547526,
          5.360050617268476
         ],
         "y": [
          10.804984971972004,
          10.375470812615049
         ]
        },
        {
         "line": {
          "color": "red"
         },
         "mode": "lines",
         "showlegend": false,
         "type": "scatter",
         "x": [
          20.808746235883895,
          20.08661924711923
         ],
         "y": [
          17.320922422738423,
          14.535815866368086
         ]
        },
        {
         "line": {
          "color": "red"
         },
         "mode": "lines",
         "showlegend": false,
         "type": "scatter",
         "x": [
          20.808746235883895,
          19.976316184063275
         ],
         "y": [
          17.320922422738423,
          19.67111413082799
         ]
        },
        {
         "line": {
          "color": "red"
         },
         "mode": "lines",
         "showlegend": false,
         "type": "scatter",
         "x": [
          20.808746235883895,
          20.39852307136623
         ],
         "y": [
          17.320922422738423,
          14.484785242897543
         ]
        },
        {
         "line": {
          "color": "red"
         },
         "mode": "lines",
         "showlegend": false,
         "type": "scatter",
         "x": [
          20.808746235883895,
          23.25539473995469
         ],
         "y": [
          17.320922422738423,
          16.301780314054973
         ]
        },
        {
         "line": {
          "color": "red"
         },
         "mode": "lines",
         "showlegend": false,
         "type": "scatter",
         "x": [
          9.952038231359689,
          7.821465667981889
         ],
         "y": [
          6.204793088240034,
          6.618849931100182
         ]
        },
        {
         "line": {
          "color": "red"
         },
         "mode": "lines",
         "showlegend": false,
         "type": "scatter",
         "x": [
          8.9259516721309,
          7.321666300784226
         ],
         "y": [
          13.840436258055329,
          13.724900121102984
         ]
        },
        {
         "line": {
          "color": "red"
         },
         "mode": "lines",
         "showlegend": false,
         "type": "scatter",
         "x": [
          8.9259516721309,
          10.640124320155762
         ],
         "y": [
          13.840436258055329,
          15.099437549953247
         ]
        },
        {
         "line": {
          "color": "red"
         },
         "mode": "lines",
         "showlegend": false,
         "type": "scatter",
         "x": [
          14.436552739956422,
          17.30934381207426
         ],
         "y": [
          26.63689935649538,
          27.129720992728533
         ]
        },
        {
         "line": {
          "color": "red"
         },
         "mode": "lines",
         "showlegend": false,
         "type": "scatter",
         "x": [
          14.436552739956422,
          14.943737169765939
         ],
         "y": [
          26.63689935649538,
          25.1912903423155
         ]
        },
        {
         "line": {
          "color": "red"
         },
         "mode": "lines",
         "showlegend": false,
         "type": "scatter",
         "x": [
          14.436552739956422,
          14.379664684067661
         ],
         "y": [
          26.63689935649538,
          23.704225881511704
         ]
        },
        {
         "line": {
          "color": "red"
         },
         "mode": "lines",
         "showlegend": false,
         "type": "scatter",
         "x": [
          17.005477776057937,
          16.237220319038926
         ],
         "y": [
          2.7290639318697503,
          5.6211403558093656
         ]
        },
        {
         "line": {
          "color": "red"
         },
         "mode": "lines",
         "showlegend": false,
         "type": "scatter",
         "x": [
          10.611706850508888,
          11.129622502817224
         ],
         "y": [
          28.273140889807408,
          29.13707618889531
         ]
        },
        {
         "line": {
          "color": "red"
         },
         "mode": "lines",
         "showlegend": false,
         "type": "scatter",
         "x": [
          10.611706850508888,
          8.384270410551935
         ],
         "y": [
          28.273140889807408,
          28.267479382651093
         ]
        },
        {
         "line": {
          "color": "red"
         },
         "mode": "lines",
         "showlegend": false,
         "type": "scatter",
         "x": [
          4.1887885516997985,
          2.4915824185370705
         ],
         "y": [
          15.248357592105881,
          13.579832415320627
         ]
        },
        {
         "line": {
          "color": "red"
         },
         "mode": "lines",
         "showlegend": false,
         "type": "scatter",
         "x": [
          4.1887885516997985,
          4.5469103911239666
         ],
         "y": [
          15.248357592105881,
          12.317870491333464
         ]
        },
        {
         "line": {
          "color": "red"
         },
         "mode": "lines",
         "showlegend": false,
         "type": "scatter",
         "x": [
          15.26908628878125,
          17.688876849338726
         ],
         "y": [
          17.516370703733447,
          18.75191459300094
         ]
        },
        {
         "line": {
          "color": "red"
         },
         "mode": "lines",
         "showlegend": false,
         "type": "scatter",
         "x": [
          15.26908628878125,
          14.580239619178139
         ],
         "y": [
          17.516370703733447,
          15.898699355174157
         ]
        },
        {
         "line": {
          "color": "red"
         },
         "mode": "lines",
         "showlegend": false,
         "type": "scatter",
         "x": [
          2.1648949572908402,
          2.874378344177783
         ],
         "y": [
          4.105724186745088,
          3.0402226649890736
         ]
        },
        {
         "line": {
          "color": "red"
         },
         "mode": "lines",
         "showlegend": false,
         "type": "scatter",
         "x": [
          2.1648949572908402,
          2.418993901000713
         ],
         "y": [
          4.105724186745088,
          1.7564356214305998
         ]
        },
        {
         "line": {
          "color": "red"
         },
         "mode": "lines",
         "showlegend": false,
         "type": "scatter",
         "x": [
          2.1648949572908402,
          1.8513219928722735
         ],
         "y": [
          4.105724186745088,
          2.2447018634607394
         ]
        },
        {
         "line": {
          "color": "red"
         },
         "mode": "lines",
         "showlegend": false,
         "type": "scatter",
         "x": [
          14.580239619178139,
          12.992099441204216
         ],
         "y": [
          15.898699355174157,
          15.385132028962438
         ]
        },
        {
         "line": {
          "color": "red"
         },
         "mode": "lines",
         "showlegend": false,
         "type": "scatter",
         "x": [
          14.580239619178139,
          14.471788742388707
         ],
         "y": [
          15.898699355174157,
          14.178340058446564
         ]
        },
        {
         "line": {
          "color": "red"
         },
         "mode": "lines",
         "showlegend": false,
         "type": "scatter",
         "x": [
          14.580239619178139,
          15.26908628878125
         ],
         "y": [
          15.898699355174157,
          17.516370703733447
         ]
        },
        {
         "line": {
          "color": "red"
         },
         "mode": "lines",
         "showlegend": false,
         "type": "scatter",
         "x": [
          14.379664684067661,
          11.533223790148183
         ],
         "y": [
          23.704225881511704,
          23.431778465799777
         ]
        },
        {
         "line": {
          "color": "red"
         },
         "mode": "lines",
         "showlegend": false,
         "type": "scatter",
         "x": [
          14.379664684067661,
          14.943737169765939
         ],
         "y": [
          23.704225881511704,
          25.1912903423155
         ]
        },
        {
         "line": {
          "color": "red"
         },
         "mode": "lines",
         "showlegend": false,
         "type": "scatter",
         "x": [
          14.379664684067661,
          12.66966084415404
         ],
         "y": [
          23.704225881511704,
          21.629031645204144
         ]
        },
        {
         "line": {
          "color": "red"
         },
         "mode": "lines",
         "showlegend": false,
         "type": "scatter",
         "x": [
          14.379664684067661,
          14.436552739956422
         ],
         "y": [
          23.704225881511704,
          26.63689935649538
         ]
        },
        {
         "line": {
          "color": "red"
         },
         "mode": "lines",
         "showlegend": false,
         "type": "scatter",
         "x": [
          28.108217279442318,
          27.374523885533794
         ],
         "y": [
          10.425826176207782,
          10.237870044404648
         ]
        },
        {
         "line": {
          "color": "red"
         },
         "mode": "lines",
         "showlegend": false,
         "type": "scatter",
         "x": [
          28.108217279442318,
          27.13291007832018
         ],
         "y": [
          10.425826176207782,
          9.079269836029955
         ]
        },
        {
         "line": {
          "color": "red"
         },
         "mode": "lines",
         "showlegend": false,
         "type": "scatter",
         "x": [
          28.108217279442318,
          30.23891167331243
         ],
         "y": [
          10.425826176207782,
          8.982073555385213
         ]
        },
        {
         "line": {
          "color": "red"
         },
         "mode": "lines",
         "showlegend": false,
         "type": "scatter",
         "x": [
          17.0657797244459,
          15.687362983698366
         ],
         "y": [
          12.878508923215874,
          10.92436229552978
         ]
        },
        {
         "line": {
          "color": "red"
         },
         "mode": "lines",
         "showlegend": false,
         "type": "scatter",
         "x": [
          17.0657797244459,
          14.471788742388707
         ],
         "y": [
          12.878508923215874,
          14.178340058446564
         ]
        },
        {
         "line": {
          "color": "red"
         },
         "mode": "lines",
         "showlegend": false,
         "type": "scatter",
         "x": [
          17.0657797244459,
          18.21141126053858
         ],
         "y": [
          12.878508923215874,
          14.373040461296597
         ]
        },
        {
         "line": {
          "color": "red"
         },
         "mode": "lines",
         "showlegend": false,
         "type": "scatter",
         "x": [
          29.77450000954318,
          28.211406077716212
         ],
         "y": [
          27.639656583257203,
          29.849456781318843
         ]
        },
        {
         "line": {
          "color": "red"
         },
         "mode": "lines",
         "showlegend": false,
         "type": "scatter",
         "x": [
          30.23891167331243,
          29.48440453580352
         ],
         "y": [
          8.982073555385213,
          6.341399501217983
         ]
        },
        {
         "line": {
          "color": "red"
         },
         "mode": "lines",
         "showlegend": false,
         "type": "scatter",
         "x": [
          30.23891167331243,
          28.108217279442318
         ],
         "y": [
          8.982073555385213,
          10.425826176207782
         ]
        },
        {
         "line": {
          "color": "red"
         },
         "mode": "lines",
         "showlegend": false,
         "type": "scatter",
         "x": [
          1.8513219928722735,
          2.874378344177783
         ],
         "y": [
          2.2447018634607394,
          3.0402226649890736
         ]
        },
        {
         "line": {
          "color": "red"
         },
         "mode": "lines",
         "showlegend": false,
         "type": "scatter",
         "x": [
          1.8513219928722735,
          2.418993901000713
         ],
         "y": [
          2.2447018634607394,
          1.7564356214305998
         ]
        },
        {
         "line": {
          "color": "red"
         },
         "mode": "lines",
         "showlegend": false,
         "type": "scatter",
         "x": [
          1.8513219928722735,
          2.1648949572908402
         ],
         "y": [
          2.2447018634607394,
          4.105724186745088
         ]
        },
        {
         "line": {
          "color": "red"
         },
         "mode": "lines",
         "showlegend": false,
         "type": "scatter",
         "x": [
          4.73947180727706,
          7.252826139525404
         ],
         "y": [
          19.729100237922605,
          20.88761813751059
         ]
        },
        {
         "line": {
          "color": "red"
         },
         "mode": "lines",
         "showlegend": false,
         "type": "scatter",
         "x": [
          4.73947180727706,
          6.101124471371327
         ],
         "y": [
          19.729100237922605,
          18.851991273401197
         ]
        },
        {
         "line": {
          "color": "red"
         },
         "mode": "lines",
         "showlegend": false,
         "type": "scatter",
         "x": [
          28.211406077716212,
          29.77450000954318
         ],
         "y": [
          29.849456781318843,
          27.639656583257203
         ]
        },
        {
         "line": {
          "color": "red"
         },
         "mode": "lines",
         "showlegend": false,
         "type": "scatter",
         "x": [
          14.028635770236438,
          13.628320077678017
         ],
         "y": [
          3.4551469359868268,
          0.5839637526894441
         ]
        },
        {
         "line": {
          "color": "red"
         },
         "mode": "lines",
         "showlegend": false,
         "type": "scatter",
         "x": [
          14.028635770236438,
          12.768638618092062
         ],
         "y": [
          3.4551469359868268,
          3.5737776381174045
         ]
        },
        {
         "line": {
          "color": "red"
         },
         "mode": "lines",
         "showlegend": false,
         "type": "scatter",
         "x": [
          14.028635770236438,
          13.173662246972356
         ],
         "y": [
          3.4551469359868268,
          6.333688952602983
         ]
        },
        {
         "line": {
          "color": "red"
         },
         "mode": "lines",
         "showlegend": false,
         "type": "scatter",
         "x": [
          1.2108054620079782,
          0.8259127489638038
         ],
         "y": [
          26.18012178188739,
          24.85410248928073
         ]
        },
        {
         "marker": {
          "color": "green"
         },
         "mode": "markers",
         "name": "Nodes",
         "text": [
          "index:0",
          "index:1",
          "index:2",
          "index:3",
          "index:4",
          "index:5",
          "index:6",
          "index:7",
          "index:8",
          "index:9",
          "index:10",
          "index:11",
          "index:12",
          "index:13",
          "index:14",
          "index:15",
          "index:16",
          "index:17",
          "index:18",
          "index:19",
          "index:20",
          "index:21",
          "index:22",
          "index:23",
          "index:24",
          "index:25",
          "index:26",
          "index:27",
          "index:28",
          "index:29",
          "index:30",
          "index:31",
          "index:32",
          "index:33",
          "index:34",
          "index:35",
          "index:36",
          "index:37",
          "index:38",
          "index:39",
          "index:40",
          "index:41",
          "index:42",
          "index:43",
          "index:44",
          "index:45",
          "index:46",
          "index:47",
          "index:48",
          "index:49",
          "index:50",
          "index:51",
          "index:52",
          "index:53",
          "index:54",
          "index:55",
          "index:56",
          "index:57",
          "index:58",
          "index:59",
          "index:60",
          "index:61",
          "index:62",
          "index:63",
          "index:64",
          "index:65",
          "index:66",
          "index:67",
          "index:68",
          "index:69",
          "index:70",
          "index:71",
          "index:72",
          "index:73",
          "index:74",
          "index:75",
          "index:76",
          "index:77",
          "index:78",
          "index:79",
          "index:80",
          "index:81",
          "index:82",
          "index:83",
          "index:84",
          "index:85",
          "index:86",
          "index:87",
          "index:88",
          "index:89",
          "index:90",
          "index:91",
          "index:92",
          "index:93",
          "index:94",
          "index:95",
          "index:96",
          "index:97",
          "index:98",
          "index:99"
         ],
         "type": "scatter",
         "x": [
          14.80820123346007,
          27.450595960269414,
          26.795696805497286,
          10.705408003758516,
          17.344098513717583,
          2.865361284407535,
          13.402957249953161,
          27.505223556433286,
          11.148770404992868,
          21.481723502320424,
          5.140154092502785,
          13.144441342414098,
          12.710745492296214,
          8.275706517066592,
          15.927491476389518,
          6.020429448507459,
          19.68490111151884,
          13.002337401387893,
          18.48425913042019,
          2.7548258845003932,
          21.905077724752488,
          2.1257507468304224,
          11.230178701915893,
          4.50573478289161,
          10.40287569959343,
          24.71938103627032,
          15.161372773774923,
          27.01606478239531,
          22.913617549663716,
          4.381062789411017,
          3.211862534077787,
          29.89481191042293,
          14.85213072736942,
          21.23028691104619,
          20.893499690015513,
          19.91066175956803,
          24.63644522375485,
          28.391255448520287,
          7.334679721028231,
          10.41187963656246,
          21.32955144217448,
          25.501188015631634,
          7.108027494559598,
          5.94603324023792,
          26.670008442313534,
          12.684575085548953,
          4.640873508972525,
          25.25160061304567,
          17.7032389086038,
          14.493902876266565,
          23.481682649373106,
          20.6044509300171,
          0.9213568796834988,
          15.834459009013951,
          27.58716637019425,
          19.997688769338232,
          4.1643248959135395,
          25.58438821922551,
          4.854793639413606,
          21.76599381668467,
          4.932903331402558,
          6.805514965134826,
          14.817606385434882,
          20.478492833826916,
          6.068383123882043,
          17.602210057603,
          23.391879691728704,
          1.9473883390849056,
          21.000525314734585,
          24.98794217636763,
          23.5751049347561,
          23.965725551759643,
          7.94558341077207,
          5.285227847181906,
          9.825273657543873,
          17.994463924564684,
          3.8644931674739342,
          23.36980691723654,
          3.180491810451819,
          20.68417496424029,
          9.48962379275616,
          8.652895591671667,
          14.451632802343662,
          17.098842370214008,
          10.85363583043769,
          4.070648560315229,
          15.042330050710751,
          -0.4668238957665058,
          1.994893214874078,
          14.563173338648149,
          14.192838929274336,
          27.90509730048859,
          17.213163966415333,
          29.769931058825225,
          30.564354561906434,
          1.9019354912685582,
          4.7461228896516126,
          27.728477967127816,
          14.308787485318758,
          1.3960468727920112
         ],
         "y": [
          9.954422822571399,
          20.381910770080513,
          19.11283077975122,
          11.369366696397057,
          27.196238704189355,
          13.730882238763666,
          15.121572367630536,
          10.184110059333996,
          29.24462670542915,
          7.6361305992976405,
          22.933956598521938,
          0.6412389659879467,
          3.512641859309433,
          27.894081458109305,
          5.331873321425489,
          25.953240856203603,
          22.69408584051141,
          5.822757119605296,
          5.123951192816103,
          2.7373649441670915,
          27.936904822190815,
          1.7766831289389151,
          22.99461809499146,
          12.323142758823575,
          2.9093728082568546,
          27.22601839771371,
          -0.2382471149163996,
          2.845050560724003,
          25.11859781526044,
          26.576116706186205,
          29.44263165818758,
          6.619260840229572,
          25.157306701096402,
          24.09349498904024,
          7.556441920531235,
          28.046917169140677,
          15.881475348101194,
          6.383137252615643,
          13.713924692207229,
          15.167291056826716,
          12.44363322263587,
          7.16851721732353,
          20.748735965506352,
          5.74289292019422,
          9.404943879107487,
          22.098372906984984,
          0.06775201339169801,
          7.0368193884002,
          25.15772139613419,
          8.582397927448946,
          10.261726775310596,
          14.647168810736511,
          24.767730492801576,
          10.530582717131804,
          -0.07260629672061358,
          19.678371152105562,
          23.349454079305456,
          15.528817883344626,
          28.05397309390194,
          11.487064070435162,
          24.150037230890682,
          1.3552388643424194,
          14.653403523709464,
          14.676661667858774,
          18.80280931567852,
          18.719028752907672,
          10.903241101042592,
          12.638873221082244,
          7.354322454367177,
          15.890974124827062,
          11.585779698815244,
          11.596698507024065,
          6.060521783032346,
          10.271633667728183,
          22.35349651226217,
          14.756426366169864,
          6.936959180468376,
          15.981086271617789,
          10.800431165005483,
          17.391964000770678,
          6.123718277664696,
          13.857491685935257,
          26.631351086720912,
          2.644492159511249,
          28.269912262270896,
          15.276226815993407,
          17.956947403747634,
          8.352942847008007,
          3.572526923193996,
          16.12647469833104,
          24.03722093064635,
          10.33308564007579,
          13.093692306493573,
          27.952689434908674,
          8.562322742690787,
          2.121453879691966,
          19.713945742856282,
          30.10676489477627,
          2.974766406435054,
          26.111484465702183
         ]
        },
        {
         "line": {
          "color": "green"
         },
         "mode": "lines",
         "showlegend": false,
         "type": "scatter",
         "x": [
          14.80820123346007,
          14.493902876266565
         ],
         "y": [
          9.954422822571399,
          8.582397927448946
         ]
        },
        {
         "line": {
          "color": "green"
         },
         "mode": "lines",
         "showlegend": false,
         "type": "scatter",
         "x": [
          14.80820123346007,
          15.834459009013951
         ],
         "y": [
          9.954422822571399,
          10.530582717131804
         ]
        },
        {
         "line": {
          "color": "green"
         },
         "mode": "lines",
         "showlegend": false,
         "type": "scatter",
         "x": [
          27.450595960269414,
          26.795696805497286
         ],
         "y": [
          20.381910770080513,
          19.11283077975122
         ]
        },
        {
         "line": {
          "color": "green"
         },
         "mode": "lines",
         "showlegend": false,
         "type": "scatter",
         "x": [
          26.795696805497286,
          27.450595960269414
         ],
         "y": [
          19.11283077975122,
          20.381910770080513
         ]
        },
        {
         "line": {
          "color": "green"
         },
         "mode": "lines",
         "showlegend": false,
         "type": "scatter",
         "x": [
          17.344098513717583,
          19.91066175956803
         ],
         "y": [
          27.196238704189355,
          28.046917169140677
         ]
        },
        {
         "line": {
          "color": "green"
         },
         "mode": "lines",
         "showlegend": false,
         "type": "scatter",
         "x": [
          17.344098513717583,
          17.7032389086038
         ],
         "y": [
          27.196238704189355,
          25.15772139613419
         ]
        },
        {
         "line": {
          "color": "green"
         },
         "mode": "lines",
         "showlegend": false,
         "type": "scatter",
         "x": [
          17.344098513717583,
          14.451632802343662
         ],
         "y": [
          27.196238704189355,
          26.631351086720912
         ]
        },
        {
         "line": {
          "color": "green"
         },
         "mode": "lines",
         "showlegend": false,
         "type": "scatter",
         "x": [
          2.865361284407535,
          4.50573478289161
         ],
         "y": [
          13.730882238763666,
          12.323142758823575
         ]
        },
        {
         "line": {
          "color": "green"
         },
         "mode": "lines",
         "showlegend": false,
         "type": "scatter",
         "x": [
          2.865361284407535,
          1.9473883390849056
         ],
         "y": [
          13.730882238763666,
          12.638873221082244
         ]
        },
        {
         "line": {
          "color": "green"
         },
         "mode": "lines",
         "showlegend": false,
         "type": "scatter",
         "x": [
          2.865361284407535,
          3.180491810451819
         ],
         "y": [
          13.730882238763666,
          10.800431165005483
         ]
        },
        {
         "line": {
          "color": "green"
         },
         "mode": "lines",
         "showlegend": false,
         "type": "scatter",
         "x": [
          2.865361284407535,
          4.070648560315229
         ],
         "y": [
          13.730882238763666,
          15.276226815993407
         ]
        },
        {
         "line": {
          "color": "green"
         },
         "mode": "lines",
         "showlegend": false,
         "type": "scatter",
         "x": [
          13.402957249953161,
          10.41187963656246
         ],
         "y": [
          15.121572367630536,
          15.167291056826716
         ]
        },
        {
         "line": {
          "color": "green"
         },
         "mode": "lines",
         "showlegend": false,
         "type": "scatter",
         "x": [
          13.402957249953161,
          14.817606385434882
         ],
         "y": [
          15.121572367630536,
          14.653403523709464
         ]
        },
        {
         "line": {
          "color": "green"
         },
         "mode": "lines",
         "showlegend": false,
         "type": "scatter",
         "x": [
          13.402957249953161,
          14.563173338648149
         ],
         "y": [
          15.121572367630536,
          16.12647469833104
         ]
        },
        {
         "line": {
          "color": "green"
         },
         "mode": "lines",
         "showlegend": false,
         "type": "scatter",
         "x": [
          27.505223556433286,
          26.670008442313534
         ],
         "y": [
          10.184110059333996,
          9.404943879107487
         ]
        },
        {
         "line": {
          "color": "green"
         },
         "mode": "lines",
         "showlegend": false,
         "type": "scatter",
         "x": [
          27.505223556433286,
          27.90509730048859
         ],
         "y": [
          10.184110059333996,
          10.33308564007579
         ]
        },
        {
         "line": {
          "color": "green"
         },
         "mode": "lines",
         "showlegend": false,
         "type": "scatter",
         "x": [
          11.148770404992868,
          10.85363583043769
         ],
         "y": [
          29.24462670542915,
          28.269912262270896
         ]
        },
        {
         "line": {
          "color": "green"
         },
         "mode": "lines",
         "showlegend": false,
         "type": "scatter",
         "x": [
          21.481723502320424,
          20.893499690015513
         ],
         "y": [
          7.6361305992976405,
          7.556441920531235
         ]
        },
        {
         "line": {
          "color": "green"
         },
         "mode": "lines",
         "showlegend": false,
         "type": "scatter",
         "x": [
          21.481723502320424,
          21.000525314734585
         ],
         "y": [
          7.6361305992976405,
          7.354322454367177
         ]
        },
        {
         "line": {
          "color": "green"
         },
         "mode": "lines",
         "showlegend": false,
         "type": "scatter",
         "x": [
          5.140154092502785,
          7.108027494559598
         ],
         "y": [
          22.933956598521938,
          20.748735965506352
         ]
        },
        {
         "line": {
          "color": "green"
         },
         "mode": "lines",
         "showlegend": false,
         "type": "scatter",
         "x": [
          5.140154092502785,
          4.1643248959135395
         ],
         "y": [
          22.933956598521938,
          23.349454079305456
         ]
        },
        {
         "line": {
          "color": "green"
         },
         "mode": "lines",
         "showlegend": false,
         "type": "scatter",
         "x": [
          5.140154092502785,
          4.932903331402558
         ],
         "y": [
          22.933956598521938,
          24.150037230890682
         ]
        },
        {
         "line": {
          "color": "green"
         },
         "mode": "lines",
         "showlegend": false,
         "type": "scatter",
         "x": [
          13.144441342414098,
          12.710745492296214
         ],
         "y": [
          0.6412389659879467,
          3.512641859309433
         ]
        },
        {
         "line": {
          "color": "green"
         },
         "mode": "lines",
         "showlegend": false,
         "type": "scatter",
         "x": [
          13.144441342414098,
          15.161372773774923
         ],
         "y": [
          0.6412389659879467,
          -0.2382471149163996
         ]
        },
        {
         "line": {
          "color": "green"
         },
         "mode": "lines",
         "showlegend": false,
         "type": "scatter",
         "x": [
          13.144441342414098,
          14.308787485318758
         ],
         "y": [
          0.6412389659879467,
          2.974766406435054
         ]
        },
        {
         "line": {
          "color": "green"
         },
         "mode": "lines",
         "showlegend": false,
         "type": "scatter",
         "x": [
          12.710745492296214,
          13.144441342414098
         ],
         "y": [
          3.512641859309433,
          0.6412389659879467
         ]
        },
        {
         "line": {
          "color": "green"
         },
         "mode": "lines",
         "showlegend": false,
         "type": "scatter",
         "x": [
          12.710745492296214,
          13.002337401387893
         ],
         "y": [
          3.512641859309433,
          5.822757119605296
         ]
        },
        {
         "line": {
          "color": "green"
         },
         "mode": "lines",
         "showlegend": false,
         "type": "scatter",
         "x": [
          12.710745492296214,
          10.40287569959343
         ],
         "y": [
          3.512641859309433,
          2.9093728082568546
         ]
        },
        {
         "line": {
          "color": "green"
         },
         "mode": "lines",
         "showlegend": false,
         "type": "scatter",
         "x": [
          12.710745492296214,
          14.308787485318758
         ],
         "y": [
          3.512641859309433,
          2.974766406435054
         ]
        },
        {
         "line": {
          "color": "green"
         },
         "mode": "lines",
         "showlegend": false,
         "type": "scatter",
         "x": [
          8.275706517066592,
          6.020429448507459
         ],
         "y": [
          27.894081458109305,
          25.953240856203603
         ]
        },
        {
         "line": {
          "color": "green"
         },
         "mode": "lines",
         "showlegend": false,
         "type": "scatter",
         "x": [
          8.275706517066592,
          10.85363583043769
         ],
         "y": [
          27.894081458109305,
          28.269912262270896
         ]
        },
        {
         "line": {
          "color": "green"
         },
         "mode": "lines",
         "showlegend": false,
         "type": "scatter",
         "x": [
          15.927491476389518,
          13.002337401387893
         ],
         "y": [
          5.331873321425489,
          5.822757119605296
         ]
        },
        {
         "line": {
          "color": "green"
         },
         "mode": "lines",
         "showlegend": false,
         "type": "scatter",
         "x": [
          15.927491476389518,
          18.48425913042019
         ],
         "y": [
          5.331873321425489,
          5.123951192816103
         ]
        },
        {
         "line": {
          "color": "green"
         },
         "mode": "lines",
         "showlegend": false,
         "type": "scatter",
         "x": [
          15.927491476389518,
          17.098842370214008
         ],
         "y": [
          5.331873321425489,
          2.644492159511249
         ]
        },
        {
         "line": {
          "color": "green"
         },
         "mode": "lines",
         "showlegend": false,
         "type": "scatter",
         "x": [
          15.927491476389518,
          14.308787485318758
         ],
         "y": [
          5.331873321425489,
          2.974766406435054
         ]
        },
        {
         "line": {
          "color": "green"
         },
         "mode": "lines",
         "showlegend": false,
         "type": "scatter",
         "x": [
          6.020429448507459,
          8.275706517066592
         ],
         "y": [
          25.953240856203603,
          27.894081458109305
         ]
        },
        {
         "line": {
          "color": "green"
         },
         "mode": "lines",
         "showlegend": false,
         "type": "scatter",
         "x": [
          6.020429448507459,
          4.381062789411017
         ],
         "y": [
          25.953240856203603,
          26.576116706186205
         ]
        },
        {
         "line": {
          "color": "green"
         },
         "mode": "lines",
         "showlegend": false,
         "type": "scatter",
         "x": [
          6.020429448507459,
          4.854793639413606
         ],
         "y": [
          25.953240856203603,
          28.05397309390194
         ]
        },
        {
         "line": {
          "color": "green"
         },
         "mode": "lines",
         "showlegend": false,
         "type": "scatter",
         "x": [
          6.020429448507459,
          4.932903331402558
         ],
         "y": [
          25.953240856203603,
          24.150037230890682
         ]
        },
        {
         "line": {
          "color": "green"
         },
         "mode": "lines",
         "showlegend": false,
         "type": "scatter",
         "x": [
          19.68490111151884,
          21.23028691104619
         ],
         "y": [
          22.69408584051141,
          24.09349498904024
         ]
        },
        {
         "line": {
          "color": "green"
         },
         "mode": "lines",
         "showlegend": false,
         "type": "scatter",
         "x": [
          13.002337401387893,
          12.710745492296214
         ],
         "y": [
          5.822757119605296,
          3.512641859309433
         ]
        },
        {
         "line": {
          "color": "green"
         },
         "mode": "lines",
         "showlegend": false,
         "type": "scatter",
         "x": [
          13.002337401387893,
          15.927491476389518
         ],
         "y": [
          5.822757119605296,
          5.331873321425489
         ]
        },
        {
         "line": {
          "color": "green"
         },
         "mode": "lines",
         "showlegend": false,
         "type": "scatter",
         "x": [
          18.48425913042019,
          15.927491476389518
         ],
         "y": [
          5.123951192816103,
          5.331873321425489
         ]
        },
        {
         "line": {
          "color": "green"
         },
         "mode": "lines",
         "showlegend": false,
         "type": "scatter",
         "x": [
          18.48425913042019,
          17.098842370214008
         ],
         "y": [
          5.123951192816103,
          2.644492159511249
         ]
        },
        {
         "line": {
          "color": "green"
         },
         "mode": "lines",
         "showlegend": false,
         "type": "scatter",
         "x": [
          2.7548258845003932,
          2.1257507468304224
         ],
         "y": [
          2.7373649441670915,
          1.7766831289389151
         ]
        },
        {
         "line": {
          "color": "green"
         },
         "mode": "lines",
         "showlegend": false,
         "type": "scatter",
         "x": [
          2.7548258845003932,
          1.994893214874078
         ],
         "y": [
          2.7373649441670915,
          3.572526923193996
         ]
        },
        {
         "line": {
          "color": "green"
         },
         "mode": "lines",
         "showlegend": false,
         "type": "scatter",
         "x": [
          2.7548258845003932,
          1.9019354912685582
         ],
         "y": [
          2.7373649441670915,
          2.121453879691966
         ]
        },
        {
         "line": {
          "color": "green"
         },
         "mode": "lines",
         "showlegend": false,
         "type": "scatter",
         "x": [
          21.905077724752488,
          24.71938103627032
         ],
         "y": [
          27.936904822190815,
          27.22601839771371
         ]
        },
        {
         "line": {
          "color": "green"
         },
         "mode": "lines",
         "showlegend": false,
         "type": "scatter",
         "x": [
          21.905077724752488,
          22.913617549663716
         ],
         "y": [
          27.936904822190815,
          25.11859781526044
         ]
        },
        {
         "line": {
          "color": "green"
         },
         "mode": "lines",
         "showlegend": false,
         "type": "scatter",
         "x": [
          21.905077724752488,
          19.91066175956803
         ],
         "y": [
          27.936904822190815,
          28.046917169140677
         ]
        },
        {
         "line": {
          "color": "green"
         },
         "mode": "lines",
         "showlegend": false,
         "type": "scatter",
         "x": [
          2.1257507468304224,
          2.7548258845003932
         ],
         "y": [
          1.7766831289389151,
          2.7373649441670915
         ]
        },
        {
         "line": {
          "color": "green"
         },
         "mode": "lines",
         "showlegend": false,
         "type": "scatter",
         "x": [
          2.1257507468304224,
          1.994893214874078
         ],
         "y": [
          1.7766831289389151,
          3.572526923193996
         ]
        },
        {
         "line": {
          "color": "green"
         },
         "mode": "lines",
         "showlegend": false,
         "type": "scatter",
         "x": [
          2.1257507468304224,
          1.9019354912685582
         ],
         "y": [
          1.7766831289389151,
          2.121453879691966
         ]
        },
        {
         "line": {
          "color": "green"
         },
         "mode": "lines",
         "showlegend": false,
         "type": "scatter",
         "x": [
          11.230178701915893,
          12.684575085548953
         ],
         "y": [
          22.99461809499146,
          22.098372906984984
         ]
        },
        {
         "line": {
          "color": "green"
         },
         "mode": "lines",
         "showlegend": false,
         "type": "scatter",
         "x": [
          11.230178701915893,
          9.825273657543873
         ],
         "y": [
          22.99461809499146,
          22.35349651226217
         ]
        },
        {
         "line": {
          "color": "green"
         },
         "mode": "lines",
         "showlegend": false,
         "type": "scatter",
         "x": [
          4.50573478289161,
          2.865361284407535
         ],
         "y": [
          12.323142758823575,
          13.730882238763666
         ]
        },
        {
         "line": {
          "color": "green"
         },
         "mode": "lines",
         "showlegend": false,
         "type": "scatter",
         "x": [
          4.50573478289161,
          1.9473883390849056
         ],
         "y": [
          12.323142758823575,
          12.638873221082244
         ]
        },
        {
         "line": {
          "color": "green"
         },
         "mode": "lines",
         "showlegend": false,
         "type": "scatter",
         "x": [
          4.50573478289161,
          5.285227847181906
         ],
         "y": [
          12.323142758823575,
          10.271633667728183
         ]
        },
        {
         "line": {
          "color": "green"
         },
         "mode": "lines",
         "showlegend": false,
         "type": "scatter",
         "x": [
          4.50573478289161,
          3.180491810451819
         ],
         "y": [
          12.323142758823575,
          10.800431165005483
         ]
        },
        {
         "line": {
          "color": "green"
         },
         "mode": "lines",
         "showlegend": false,
         "type": "scatter",
         "x": [
          4.50573478289161,
          4.070648560315229
         ],
         "y": [
          12.323142758823575,
          15.276226815993407
         ]
        },
        {
         "line": {
          "color": "green"
         },
         "mode": "lines",
         "showlegend": false,
         "type": "scatter",
         "x": [
          10.40287569959343,
          12.710745492296214
         ],
         "y": [
          2.9093728082568546,
          3.512641859309433
         ]
        },
        {
         "line": {
          "color": "green"
         },
         "mode": "lines",
         "showlegend": false,
         "type": "scatter",
         "x": [
          24.71938103627032,
          21.905077724752488
         ],
         "y": [
          27.22601839771371,
          27.936904822190815
         ]
        },
        {
         "line": {
          "color": "green"
         },
         "mode": "lines",
         "showlegend": false,
         "type": "scatter",
         "x": [
          24.71938103627032,
          22.913617549663716
         ],
         "y": [
          27.22601839771371,
          25.11859781526044
         ]
        },
        {
         "line": {
          "color": "green"
         },
         "mode": "lines",
         "showlegend": false,
         "type": "scatter",
         "x": [
          15.161372773774923,
          13.144441342414098
         ],
         "y": [
          -0.2382471149163996,
          0.6412389659879467
         ]
        },
        {
         "line": {
          "color": "green"
         },
         "mode": "lines",
         "showlegend": false,
         "type": "scatter",
         "x": [
          27.01606478239531,
          27.58716637019425
         ],
         "y": [
          2.845050560724003,
          -0.07260629672061358
         ]
        },
        {
         "line": {
          "color": "green"
         },
         "mode": "lines",
         "showlegend": false,
         "type": "scatter",
         "x": [
          22.913617549663716,
          21.905077724752488
         ],
         "y": [
          25.11859781526044,
          27.936904822190815
         ]
        },
        {
         "line": {
          "color": "green"
         },
         "mode": "lines",
         "showlegend": false,
         "type": "scatter",
         "x": [
          22.913617549663716,
          24.71938103627032
         ],
         "y": [
          25.11859781526044,
          27.22601839771371
         ]
        },
        {
         "line": {
          "color": "green"
         },
         "mode": "lines",
         "showlegend": false,
         "type": "scatter",
         "x": [
          22.913617549663716,
          21.23028691104619
         ],
         "y": [
          25.11859781526044,
          24.09349498904024
         ]
        },
        {
         "line": {
          "color": "green"
         },
         "mode": "lines",
         "showlegend": false,
         "type": "scatter",
         "x": [
          4.381062789411017,
          6.020429448507459
         ],
         "y": [
          26.576116706186205,
          25.953240856203603
         ]
        },
        {
         "line": {
          "color": "green"
         },
         "mode": "lines",
         "showlegend": false,
         "type": "scatter",
         "x": [
          4.381062789411017,
          4.854793639413606
         ],
         "y": [
          26.576116706186205,
          28.05397309390194
         ]
        },
        {
         "line": {
          "color": "green"
         },
         "mode": "lines",
         "showlegend": false,
         "type": "scatter",
         "x": [
          4.381062789411017,
          4.932903331402558
         ],
         "y": [
          26.576116706186205,
          24.150037230890682
         ]
        },
        {
         "line": {
          "color": "green"
         },
         "mode": "lines",
         "showlegend": false,
         "type": "scatter",
         "x": [
          3.211862534077787,
          4.854793639413606
         ],
         "y": [
          29.44263165818758,
          28.05397309390194
         ]
        },
        {
         "line": {
          "color": "green"
         },
         "mode": "lines",
         "showlegend": false,
         "type": "scatter",
         "x": [
          29.89481191042293,
          28.391255448520287
         ],
         "y": [
          6.619260840229572,
          6.383137252615643
         ]
        },
        {
         "line": {
          "color": "green"
         },
         "mode": "lines",
         "showlegend": false,
         "type": "scatter",
         "x": [
          29.89481191042293,
          30.564354561906434
         ],
         "y": [
          6.619260840229572,
          8.562322742690787
         ]
        },
        {
         "line": {
          "color": "green"
         },
         "mode": "lines",
         "showlegend": false,
         "type": "scatter",
         "x": [
          14.85213072736942,
          17.7032389086038
         ],
         "y": [
          25.157306701096402,
          25.15772139613419
         ]
        },
        {
         "line": {
          "color": "green"
         },
         "mode": "lines",
         "showlegend": false,
         "type": "scatter",
         "x": [
          14.85213072736942,
          14.451632802343662
         ],
         "y": [
          25.157306701096402,
          26.631351086720912
         ]
        },
        {
         "line": {
          "color": "green"
         },
         "mode": "lines",
         "showlegend": false,
         "type": "scatter",
         "x": [
          14.85213072736942,
          14.192838929274336
         ],
         "y": [
          25.157306701096402,
          24.03722093064635
         ]
        },
        {
         "line": {
          "color": "green"
         },
         "mode": "lines",
         "showlegend": false,
         "type": "scatter",
         "x": [
          21.23028691104619,
          19.68490111151884
         ],
         "y": [
          24.09349498904024,
          22.69408584051141
         ]
        },
        {
         "line": {
          "color": "green"
         },
         "mode": "lines",
         "showlegend": false,
         "type": "scatter",
         "x": [
          21.23028691104619,
          22.913617549663716
         ],
         "y": [
          24.09349498904024,
          25.11859781526044
         ]
        },
        {
         "line": {
          "color": "green"
         },
         "mode": "lines",
         "showlegend": false,
         "type": "scatter",
         "x": [
          20.893499690015513,
          21.481723502320424
         ],
         "y": [
          7.556441920531235,
          7.6361305992976405
         ]
        },
        {
         "line": {
          "color": "green"
         },
         "mode": "lines",
         "showlegend": false,
         "type": "scatter",
         "x": [
          20.893499690015513,
          21.000525314734585
         ],
         "y": [
          7.556441920531235,
          7.354322454367177
         ]
        },
        {
         "line": {
          "color": "green"
         },
         "mode": "lines",
         "showlegend": false,
         "type": "scatter",
         "x": [
          19.91066175956803,
          17.344098513717583
         ],
         "y": [
          28.046917169140677,
          27.196238704189355
         ]
        },
        {
         "line": {
          "color": "green"
         },
         "mode": "lines",
         "showlegend": false,
         "type": "scatter",
         "x": [
          19.91066175956803,
          21.905077724752488
         ],
         "y": [
          28.046917169140677,
          27.936904822190815
         ]
        },
        {
         "line": {
          "color": "green"
         },
         "mode": "lines",
         "showlegend": false,
         "type": "scatter",
         "x": [
          24.63644522375485,
          25.58438821922551
         ],
         "y": [
          15.881475348101194,
          15.528817883344626
         ]
        },
        {
         "line": {
          "color": "green"
         },
         "mode": "lines",
         "showlegend": false,
         "type": "scatter",
         "x": [
          24.63644522375485,
          24.98794217636763
         ],
         "y": [
          15.881475348101194,
          15.890974124827062
         ]
        },
        {
         "line": {
          "color": "green"
         },
         "mode": "lines",
         "showlegend": false,
         "type": "scatter",
         "x": [
          24.63644522375485,
          23.36980691723654
         ],
         "y": [
          15.881475348101194,
          15.981086271617789
         ]
        },
        {
         "line": {
          "color": "green"
         },
         "mode": "lines",
         "showlegend": false,
         "type": "scatter",
         "x": [
          28.391255448520287,
          29.89481191042293
         ],
         "y": [
          6.383137252615643,
          6.619260840229572
         ]
        },
        {
         "line": {
          "color": "green"
         },
         "mode": "lines",
         "showlegend": false,
         "type": "scatter",
         "x": [
          28.391255448520287,
          25.501188015631634
         ],
         "y": [
          6.383137252615643,
          7.16851721732353
         ]
        },
        {
         "line": {
          "color": "green"
         },
         "mode": "lines",
         "showlegend": false,
         "type": "scatter",
         "x": [
          7.334679721028231,
          8.652895591671667
         ],
         "y": [
          13.713924692207229,
          13.857491685935257
         ]
        },
        {
         "line": {
          "color": "green"
         },
         "mode": "lines",
         "showlegend": false,
         "type": "scatter",
         "x": [
          10.41187963656246,
          13.402957249953161
         ],
         "y": [
          15.167291056826716,
          15.121572367630536
         ]
        },
        {
         "line": {
          "color": "green"
         },
         "mode": "lines",
         "showlegend": false,
         "type": "scatter",
         "x": [
          10.41187963656246,
          8.652895591671667
         ],
         "y": [
          15.167291056826716,
          13.857491685935257
         ]
        },
        {
         "line": {
          "color": "green"
         },
         "mode": "lines",
         "showlegend": false,
         "type": "scatter",
         "x": [
          21.32955144217448,
          20.6044509300171
         ],
         "y": [
          12.44363322263587,
          14.647168810736511
         ]
        },
        {
         "line": {
          "color": "green"
         },
         "mode": "lines",
         "showlegend": false,
         "type": "scatter",
         "x": [
          21.32955144217448,
          21.76599381668467
         ],
         "y": [
          12.44363322263587,
          11.487064070435162
         ]
        },
        {
         "line": {
          "color": "green"
         },
         "mode": "lines",
         "showlegend": false,
         "type": "scatter",
         "x": [
          21.32955144217448,
          20.478492833826916
         ],
         "y": [
          12.44363322263587,
          14.676661667858774
         ]
        },
        {
         "line": {
          "color": "green"
         },
         "mode": "lines",
         "showlegend": false,
         "type": "scatter",
         "x": [
          21.32955144217448,
          23.391879691728704
         ],
         "y": [
          12.44363322263587,
          10.903241101042592
         ]
        },
        {
         "line": {
          "color": "green"
         },
         "mode": "lines",
         "showlegend": false,
         "type": "scatter",
         "x": [
          21.32955144217448,
          23.5751049347561
         ],
         "y": [
          12.44363322263587,
          11.585779698815244
         ]
        },
        {
         "line": {
          "color": "green"
         },
         "mode": "lines",
         "showlegend": false,
         "type": "scatter",
         "x": [
          21.32955144217448,
          23.965725551759643
         ],
         "y": [
          12.44363322263587,
          11.596698507024065
         ]
        },
        {
         "line": {
          "color": "green"
         },
         "mode": "lines",
         "showlegend": false,
         "type": "scatter",
         "x": [
          25.501188015631634,
          28.391255448520287
         ],
         "y": [
          7.16851721732353,
          6.383137252615643
         ]
        },
        {
         "line": {
          "color": "green"
         },
         "mode": "lines",
         "showlegend": false,
         "type": "scatter",
         "x": [
          25.501188015631634,
          26.670008442313534
         ],
         "y": [
          7.16851721732353,
          9.404943879107487
         ]
        },
        {
         "line": {
          "color": "green"
         },
         "mode": "lines",
         "showlegend": false,
         "type": "scatter",
         "x": [
          25.501188015631634,
          25.25160061304567
         ],
         "y": [
          7.16851721732353,
          7.0368193884002
         ]
        },
        {
         "line": {
          "color": "green"
         },
         "mode": "lines",
         "showlegend": false,
         "type": "scatter",
         "x": [
          7.108027494559598,
          5.140154092502785
         ],
         "y": [
          20.748735965506352,
          22.933956598521938
         ]
        },
        {
         "line": {
          "color": "green"
         },
         "mode": "lines",
         "showlegend": false,
         "type": "scatter",
         "x": [
          7.108027494559598,
          6.068383123882043
         ],
         "y": [
          20.748735965506352,
          18.80280931567852
         ]
        },
        {
         "line": {
          "color": "green"
         },
         "mode": "lines",
         "showlegend": false,
         "type": "scatter",
         "x": [
          7.108027494559598,
          4.7461228896516126
         ],
         "y": [
          20.748735965506352,
          19.713945742856282
         ]
        },
        {
         "line": {
          "color": "green"
         },
         "mode": "lines",
         "showlegend": false,
         "type": "scatter",
         "x": [
          5.94603324023792,
          7.94558341077207
         ],
         "y": [
          5.74289292019422,
          6.060521783032346
         ]
        },
        {
         "line": {
          "color": "green"
         },
         "mode": "lines",
         "showlegend": false,
         "type": "scatter",
         "x": [
          5.94603324023792,
          3.8644931674739342
         ],
         "y": [
          5.74289292019422,
          6.936959180468376
         ]
        },
        {
         "line": {
          "color": "green"
         },
         "mode": "lines",
         "showlegend": false,
         "type": "scatter",
         "x": [
          26.670008442313534,
          27.505223556433286
         ],
         "y": [
          9.404943879107487,
          10.184110059333996
         ]
        },
        {
         "line": {
          "color": "green"
         },
         "mode": "lines",
         "showlegend": false,
         "type": "scatter",
         "x": [
          26.670008442313534,
          25.501188015631634
         ],
         "y": [
          9.404943879107487,
          7.16851721732353
         ]
        },
        {
         "line": {
          "color": "green"
         },
         "mode": "lines",
         "showlegend": false,
         "type": "scatter",
         "x": [
          26.670008442313534,
          25.25160061304567
         ],
         "y": [
          9.404943879107487,
          7.0368193884002
         ]
        },
        {
         "line": {
          "color": "green"
         },
         "mode": "lines",
         "showlegend": false,
         "type": "scatter",
         "x": [
          26.670008442313534,
          27.90509730048859
         ],
         "y": [
          9.404943879107487,
          10.33308564007579
         ]
        },
        {
         "line": {
          "color": "green"
         },
         "mode": "lines",
         "showlegend": false,
         "type": "scatter",
         "x": [
          12.684575085548953,
          11.230178701915893
         ],
         "y": [
          22.098372906984984,
          22.99461809499146
         ]
        },
        {
         "line": {
          "color": "green"
         },
         "mode": "lines",
         "showlegend": false,
         "type": "scatter",
         "x": [
          12.684575085548953,
          9.825273657543873
         ],
         "y": [
          22.098372906984984,
          22.35349651226217
         ]
        },
        {
         "line": {
          "color": "green"
         },
         "mode": "lines",
         "showlegend": false,
         "type": "scatter",
         "x": [
          12.684575085548953,
          14.192838929274336
         ],
         "y": [
          22.098372906984984,
          24.03722093064635
         ]
        },
        {
         "line": {
          "color": "green"
         },
         "mode": "lines",
         "showlegend": false,
         "type": "scatter",
         "x": [
          4.640873508972525,
          6.805514965134826
         ],
         "y": [
          0.06775201339169801,
          1.3552388643424194
         ]
        },
        {
         "line": {
          "color": "green"
         },
         "mode": "lines",
         "showlegend": false,
         "type": "scatter",
         "x": [
          25.25160061304567,
          25.501188015631634
         ],
         "y": [
          7.0368193884002,
          7.16851721732353
         ]
        },
        {
         "line": {
          "color": "green"
         },
         "mode": "lines",
         "showlegend": false,
         "type": "scatter",
         "x": [
          25.25160061304567,
          26.670008442313534
         ],
         "y": [
          7.0368193884002,
          9.404943879107487
         ]
        },
        {
         "line": {
          "color": "green"
         },
         "mode": "lines",
         "showlegend": false,
         "type": "scatter",
         "x": [
          17.7032389086038,
          17.344098513717583
         ],
         "y": [
          25.15772139613419,
          27.196238704189355
         ]
        },
        {
         "line": {
          "color": "green"
         },
         "mode": "lines",
         "showlegend": false,
         "type": "scatter",
         "x": [
          17.7032389086038,
          14.85213072736942
         ],
         "y": [
          25.15772139613419,
          25.157306701096402
         ]
        },
        {
         "line": {
          "color": "green"
         },
         "mode": "lines",
         "showlegend": false,
         "type": "scatter",
         "x": [
          14.493902876266565,
          14.80820123346007
         ],
         "y": [
          8.582397927448946,
          9.954422822571399
         ]
        },
        {
         "line": {
          "color": "green"
         },
         "mode": "lines",
         "showlegend": false,
         "type": "scatter",
         "x": [
          14.493902876266565,
          15.834459009013951
         ],
         "y": [
          8.582397927448946,
          10.530582717131804
         ]
        },
        {
         "line": {
          "color": "green"
         },
         "mode": "lines",
         "showlegend": false,
         "type": "scatter",
         "x": [
          23.481682649373106,
          21.76599381668467
         ],
         "y": [
          10.261726775310596,
          11.487064070435162
         ]
        },
        {
         "line": {
          "color": "green"
         },
         "mode": "lines",
         "showlegend": false,
         "type": "scatter",
         "x": [
          23.481682649373106,
          23.391879691728704
         ],
         "y": [
          10.261726775310596,
          10.903241101042592
         ]
        },
        {
         "line": {
          "color": "green"
         },
         "mode": "lines",
         "showlegend": false,
         "type": "scatter",
         "x": [
          23.481682649373106,
          23.5751049347561
         ],
         "y": [
          10.261726775310596,
          11.585779698815244
         ]
        },
        {
         "line": {
          "color": "green"
         },
         "mode": "lines",
         "showlegend": false,
         "type": "scatter",
         "x": [
          23.481682649373106,
          23.965725551759643
         ],
         "y": [
          10.261726775310596,
          11.596698507024065
         ]
        },
        {
         "line": {
          "color": "green"
         },
         "mode": "lines",
         "showlegend": false,
         "type": "scatter",
         "x": [
          20.6044509300171,
          21.32955144217448
         ],
         "y": [
          14.647168810736511,
          12.44363322263587
         ]
        },
        {
         "line": {
          "color": "green"
         },
         "mode": "lines",
         "showlegend": false,
         "type": "scatter",
         "x": [
          20.6044509300171,
          20.478492833826916
         ],
         "y": [
          14.647168810736511,
          14.676661667858774
         ]
        },
        {
         "line": {
          "color": "green"
         },
         "mode": "lines",
         "showlegend": false,
         "type": "scatter",
         "x": [
          20.6044509300171,
          17.994463924564684
         ],
         "y": [
          14.647168810736511,
          14.756426366169864
         ]
        },
        {
         "line": {
          "color": "green"
         },
         "mode": "lines",
         "showlegend": false,
         "type": "scatter",
         "x": [
          20.6044509300171,
          20.68417496424029
         ],
         "y": [
          14.647168810736511,
          17.391964000770678
         ]
        },
        {
         "line": {
          "color": "green"
         },
         "mode": "lines",
         "showlegend": false,
         "type": "scatter",
         "x": [
          0.9213568796834988,
          1.3960468727920112
         ],
         "y": [
          24.767730492801576,
          26.111484465702183
         ]
        },
        {
         "line": {
          "color": "green"
         },
         "mode": "lines",
         "showlegend": false,
         "type": "scatter",
         "x": [
          15.834459009013951,
          14.80820123346007
         ],
         "y": [
          10.530582717131804,
          9.954422822571399
         ]
        },
        {
         "line": {
          "color": "green"
         },
         "mode": "lines",
         "showlegend": false,
         "type": "scatter",
         "x": [
          15.834459009013951,
          14.493902876266565
         ],
         "y": [
          10.530582717131804,
          8.582397927448946
         ]
        },
        {
         "line": {
          "color": "green"
         },
         "mode": "lines",
         "showlegend": false,
         "type": "scatter",
         "x": [
          15.834459009013951,
          17.213163966415333
         ],
         "y": [
          10.530582717131804,
          13.093692306493573
         ]
        },
        {
         "line": {
          "color": "green"
         },
         "mode": "lines",
         "showlegend": false,
         "type": "scatter",
         "x": [
          27.58716637019425,
          27.01606478239531
         ],
         "y": [
          -0.07260629672061358,
          2.845050560724003
         ]
        },
        {
         "line": {
          "color": "green"
         },
         "mode": "lines",
         "showlegend": false,
         "type": "scatter",
         "x": [
          19.997688769338232,
          17.602210057603
         ],
         "y": [
          19.678371152105562,
          18.719028752907672
         ]
        },
        {
         "line": {
          "color": "green"
         },
         "mode": "lines",
         "showlegend": false,
         "type": "scatter",
         "x": [
          19.997688769338232,
          20.68417496424029
         ],
         "y": [
          19.678371152105562,
          17.391964000770678
         ]
        },
        {
         "line": {
          "color": "green"
         },
         "mode": "lines",
         "showlegend": false,
         "type": "scatter",
         "x": [
          4.1643248959135395,
          5.140154092502785
         ],
         "y": [
          23.349454079305456,
          22.933956598521938
         ]
        },
        {
         "line": {
          "color": "green"
         },
         "mode": "lines",
         "showlegend": false,
         "type": "scatter",
         "x": [
          4.1643248959135395,
          4.932903331402558
         ],
         "y": [
          23.349454079305456,
          24.150037230890682
         ]
        },
        {
         "line": {
          "color": "green"
         },
         "mode": "lines",
         "showlegend": false,
         "type": "scatter",
         "x": [
          25.58438821922551,
          24.63644522375485
         ],
         "y": [
          15.528817883344626,
          15.881475348101194
         ]
        },
        {
         "line": {
          "color": "green"
         },
         "mode": "lines",
         "showlegend": false,
         "type": "scatter",
         "x": [
          25.58438821922551,
          24.98794217636763
         ],
         "y": [
          15.528817883344626,
          15.890974124827062
         ]
        },
        {
         "line": {
          "color": "green"
         },
         "mode": "lines",
         "showlegend": false,
         "type": "scatter",
         "x": [
          25.58438821922551,
          23.36980691723654
         ],
         "y": [
          15.528817883344626,
          15.981086271617789
         ]
        },
        {
         "line": {
          "color": "green"
         },
         "mode": "lines",
         "showlegend": false,
         "type": "scatter",
         "x": [
          4.854793639413606,
          6.020429448507459
         ],
         "y": [
          28.05397309390194,
          25.953240856203603
         ]
        },
        {
         "line": {
          "color": "green"
         },
         "mode": "lines",
         "showlegend": false,
         "type": "scatter",
         "x": [
          4.854793639413606,
          4.381062789411017
         ],
         "y": [
          28.05397309390194,
          26.576116706186205
         ]
        },
        {
         "line": {
          "color": "green"
         },
         "mode": "lines",
         "showlegend": false,
         "type": "scatter",
         "x": [
          4.854793639413606,
          3.211862534077787
         ],
         "y": [
          28.05397309390194,
          29.44263165818758
         ]
        },
        {
         "line": {
          "color": "green"
         },
         "mode": "lines",
         "showlegend": false,
         "type": "scatter",
         "x": [
          21.76599381668467,
          21.32955144217448
         ],
         "y": [
          11.487064070435162,
          12.44363322263587
         ]
        },
        {
         "line": {
          "color": "green"
         },
         "mode": "lines",
         "showlegend": false,
         "type": "scatter",
         "x": [
          21.76599381668467,
          23.481682649373106
         ],
         "y": [
          11.487064070435162,
          10.261726775310596
         ]
        },
        {
         "line": {
          "color": "green"
         },
         "mode": "lines",
         "showlegend": false,
         "type": "scatter",
         "x": [
          21.76599381668467,
          23.391879691728704
         ],
         "y": [
          11.487064070435162,
          10.903241101042592
         ]
        },
        {
         "line": {
          "color": "green"
         },
         "mode": "lines",
         "showlegend": false,
         "type": "scatter",
         "x": [
          21.76599381668467,
          23.5751049347561
         ],
         "y": [
          11.487064070435162,
          11.585779698815244
         ]
        },
        {
         "line": {
          "color": "green"
         },
         "mode": "lines",
         "showlegend": false,
         "type": "scatter",
         "x": [
          21.76599381668467,
          23.965725551759643
         ],
         "y": [
          11.487064070435162,
          11.596698507024065
         ]
        },
        {
         "line": {
          "color": "green"
         },
         "mode": "lines",
         "showlegend": false,
         "type": "scatter",
         "x": [
          4.932903331402558,
          5.140154092502785
         ],
         "y": [
          24.150037230890682,
          22.933956598521938
         ]
        },
        {
         "line": {
          "color": "green"
         },
         "mode": "lines",
         "showlegend": false,
         "type": "scatter",
         "x": [
          4.932903331402558,
          6.020429448507459
         ],
         "y": [
          24.150037230890682,
          25.953240856203603
         ]
        },
        {
         "line": {
          "color": "green"
         },
         "mode": "lines",
         "showlegend": false,
         "type": "scatter",
         "x": [
          4.932903331402558,
          4.381062789411017
         ],
         "y": [
          24.150037230890682,
          26.576116706186205
         ]
        },
        {
         "line": {
          "color": "green"
         },
         "mode": "lines",
         "showlegend": false,
         "type": "scatter",
         "x": [
          4.932903331402558,
          4.1643248959135395
         ],
         "y": [
          24.150037230890682,
          23.349454079305456
         ]
        },
        {
         "line": {
          "color": "green"
         },
         "mode": "lines",
         "showlegend": false,
         "type": "scatter",
         "x": [
          6.805514965134826,
          4.640873508972525
         ],
         "y": [
          1.3552388643424194,
          0.06775201339169801
         ]
        },
        {
         "line": {
          "color": "green"
         },
         "mode": "lines",
         "showlegend": false,
         "type": "scatter",
         "x": [
          14.817606385434882,
          13.402957249953161
         ],
         "y": [
          14.653403523709464,
          15.121572367630536
         ]
        },
        {
         "line": {
          "color": "green"
         },
         "mode": "lines",
         "showlegend": false,
         "type": "scatter",
         "x": [
          14.817606385434882,
          14.563173338648149
         ],
         "y": [
          14.653403523709464,
          16.12647469833104
         ]
        },
        {
         "line": {
          "color": "green"
         },
         "mode": "lines",
         "showlegend": false,
         "type": "scatter",
         "x": [
          14.817606385434882,
          17.213163966415333
         ],
         "y": [
          14.653403523709464,
          13.093692306493573
         ]
        },
        {
         "line": {
          "color": "green"
         },
         "mode": "lines",
         "showlegend": false,
         "type": "scatter",
         "x": [
          20.478492833826916,
          21.32955144217448
         ],
         "y": [
          14.676661667858774,
          12.44363322263587
         ]
        },
        {
         "line": {
          "color": "green"
         },
         "mode": "lines",
         "showlegend": false,
         "type": "scatter",
         "x": [
          20.478492833826916,
          20.6044509300171
         ],
         "y": [
          14.676661667858774,
          14.647168810736511
         ]
        },
        {
         "line": {
          "color": "green"
         },
         "mode": "lines",
         "showlegend": false,
         "type": "scatter",
         "x": [
          20.478492833826916,
          17.994463924564684
         ],
         "y": [
          14.676661667858774,
          14.756426366169864
         ]
        },
        {
         "line": {
          "color": "green"
         },
         "mode": "lines",
         "showlegend": false,
         "type": "scatter",
         "x": [
          20.478492833826916,
          20.68417496424029
         ],
         "y": [
          14.676661667858774,
          17.391964000770678
         ]
        },
        {
         "line": {
          "color": "green"
         },
         "mode": "lines",
         "showlegend": false,
         "type": "scatter",
         "x": [
          6.068383123882043,
          7.108027494559598
         ],
         "y": [
          18.80280931567852,
          20.748735965506352
         ]
        },
        {
         "line": {
          "color": "green"
         },
         "mode": "lines",
         "showlegend": false,
         "type": "scatter",
         "x": [
          6.068383123882043,
          4.7461228896516126
         ],
         "y": [
          18.80280931567852,
          19.713945742856282
         ]
        },
        {
         "line": {
          "color": "green"
         },
         "mode": "lines",
         "showlegend": false,
         "type": "scatter",
         "x": [
          17.602210057603,
          19.997688769338232
         ],
         "y": [
          18.719028752907672,
          19.678371152105562
         ]
        },
        {
         "line": {
          "color": "green"
         },
         "mode": "lines",
         "showlegend": false,
         "type": "scatter",
         "x": [
          17.602210057603,
          15.042330050710751
         ],
         "y": [
          18.719028752907672,
          17.956947403747634
         ]
        },
        {
         "line": {
          "color": "green"
         },
         "mode": "lines",
         "showlegend": false,
         "type": "scatter",
         "x": [
          23.391879691728704,
          21.32955144217448
         ],
         "y": [
          10.903241101042592,
          12.44363322263587
         ]
        },
        {
         "line": {
          "color": "green"
         },
         "mode": "lines",
         "showlegend": false,
         "type": "scatter",
         "x": [
          23.391879691728704,
          23.481682649373106
         ],
         "y": [
          10.903241101042592,
          10.261726775310596
         ]
        },
        {
         "line": {
          "color": "green"
         },
         "mode": "lines",
         "showlegend": false,
         "type": "scatter",
         "x": [
          23.391879691728704,
          21.76599381668467
         ],
         "y": [
          10.903241101042592,
          11.487064070435162
         ]
        },
        {
         "line": {
          "color": "green"
         },
         "mode": "lines",
         "showlegend": false,
         "type": "scatter",
         "x": [
          23.391879691728704,
          23.5751049347561
         ],
         "y": [
          10.903241101042592,
          11.585779698815244
         ]
        },
        {
         "line": {
          "color": "green"
         },
         "mode": "lines",
         "showlegend": false,
         "type": "scatter",
         "x": [
          23.391879691728704,
          23.965725551759643
         ],
         "y": [
          10.903241101042592,
          11.596698507024065
         ]
        },
        {
         "line": {
          "color": "green"
         },
         "mode": "lines",
         "showlegend": false,
         "type": "scatter",
         "x": [
          1.9473883390849056,
          2.865361284407535
         ],
         "y": [
          12.638873221082244,
          13.730882238763666
         ]
        },
        {
         "line": {
          "color": "green"
         },
         "mode": "lines",
         "showlegend": false,
         "type": "scatter",
         "x": [
          1.9473883390849056,
          4.50573478289161
         ],
         "y": [
          12.638873221082244,
          12.323142758823575
         ]
        },
        {
         "line": {
          "color": "green"
         },
         "mode": "lines",
         "showlegend": false,
         "type": "scatter",
         "x": [
          1.9473883390849056,
          3.180491810451819
         ],
         "y": [
          12.638873221082244,
          10.800431165005483
         ]
        },
        {
         "line": {
          "color": "green"
         },
         "mode": "lines",
         "showlegend": false,
         "type": "scatter",
         "x": [
          21.000525314734585,
          21.481723502320424
         ],
         "y": [
          7.354322454367177,
          7.6361305992976405
         ]
        },
        {
         "line": {
          "color": "green"
         },
         "mode": "lines",
         "showlegend": false,
         "type": "scatter",
         "x": [
          21.000525314734585,
          20.893499690015513
         ],
         "y": [
          7.354322454367177,
          7.556441920531235
         ]
        },
        {
         "line": {
          "color": "green"
         },
         "mode": "lines",
         "showlegend": false,
         "type": "scatter",
         "x": [
          24.98794217636763,
          24.63644522375485
         ],
         "y": [
          15.890974124827062,
          15.881475348101194
         ]
        },
        {
         "line": {
          "color": "green"
         },
         "mode": "lines",
         "showlegend": false,
         "type": "scatter",
         "x": [
          24.98794217636763,
          25.58438821922551
         ],
         "y": [
          15.890974124827062,
          15.528817883344626
         ]
        },
        {
         "line": {
          "color": "green"
         },
         "mode": "lines",
         "showlegend": false,
         "type": "scatter",
         "x": [
          24.98794217636763,
          23.36980691723654
         ],
         "y": [
          15.890974124827062,
          15.981086271617789
         ]
        },
        {
         "line": {
          "color": "green"
         },
         "mode": "lines",
         "showlegend": false,
         "type": "scatter",
         "x": [
          23.5751049347561,
          21.32955144217448
         ],
         "y": [
          11.585779698815244,
          12.44363322263587
         ]
        },
        {
         "line": {
          "color": "green"
         },
         "mode": "lines",
         "showlegend": false,
         "type": "scatter",
         "x": [
          23.5751049347561,
          23.481682649373106
         ],
         "y": [
          11.585779698815244,
          10.261726775310596
         ]
        },
        {
         "line": {
          "color": "green"
         },
         "mode": "lines",
         "showlegend": false,
         "type": "scatter",
         "x": [
          23.5751049347561,
          21.76599381668467
         ],
         "y": [
          11.585779698815244,
          11.487064070435162
         ]
        },
        {
         "line": {
          "color": "green"
         },
         "mode": "lines",
         "showlegend": false,
         "type": "scatter",
         "x": [
          23.5751049347561,
          23.391879691728704
         ],
         "y": [
          11.585779698815244,
          10.903241101042592
         ]
        },
        {
         "line": {
          "color": "green"
         },
         "mode": "lines",
         "showlegend": false,
         "type": "scatter",
         "x": [
          23.5751049347561,
          23.965725551759643
         ],
         "y": [
          11.585779698815244,
          11.596698507024065
         ]
        },
        {
         "line": {
          "color": "green"
         },
         "mode": "lines",
         "showlegend": false,
         "type": "scatter",
         "x": [
          23.965725551759643,
          21.32955144217448
         ],
         "y": [
          11.596698507024065,
          12.44363322263587
         ]
        },
        {
         "line": {
          "color": "green"
         },
         "mode": "lines",
         "showlegend": false,
         "type": "scatter",
         "x": [
          23.965725551759643,
          23.481682649373106
         ],
         "y": [
          11.596698507024065,
          10.261726775310596
         ]
        },
        {
         "line": {
          "color": "green"
         },
         "mode": "lines",
         "showlegend": false,
         "type": "scatter",
         "x": [
          23.965725551759643,
          21.76599381668467
         ],
         "y": [
          11.596698507024065,
          11.487064070435162
         ]
        },
        {
         "line": {
          "color": "green"
         },
         "mode": "lines",
         "showlegend": false,
         "type": "scatter",
         "x": [
          23.965725551759643,
          23.391879691728704
         ],
         "y": [
          11.596698507024065,
          10.903241101042592
         ]
        },
        {
         "line": {
          "color": "green"
         },
         "mode": "lines",
         "showlegend": false,
         "type": "scatter",
         "x": [
          23.965725551759643,
          23.5751049347561
         ],
         "y": [
          11.596698507024065,
          11.585779698815244
         ]
        },
        {
         "line": {
          "color": "green"
         },
         "mode": "lines",
         "showlegend": false,
         "type": "scatter",
         "x": [
          7.94558341077207,
          5.94603324023792
         ],
         "y": [
          6.060521783032346,
          5.74289292019422
         ]
        },
        {
         "line": {
          "color": "green"
         },
         "mode": "lines",
         "showlegend": false,
         "type": "scatter",
         "x": [
          7.94558341077207,
          9.48962379275616
         ],
         "y": [
          6.060521783032346,
          6.123718277664696
         ]
        },
        {
         "line": {
          "color": "green"
         },
         "mode": "lines",
         "showlegend": false,
         "type": "scatter",
         "x": [
          5.285227847181906,
          4.50573478289161
         ],
         "y": [
          10.271633667728183,
          12.323142758823575
         ]
        },
        {
         "line": {
          "color": "green"
         },
         "mode": "lines",
         "showlegend": false,
         "type": "scatter",
         "x": [
          5.285227847181906,
          3.180491810451819
         ],
         "y": [
          10.271633667728183,
          10.800431165005483
         ]
        },
        {
         "line": {
          "color": "green"
         },
         "mode": "lines",
         "showlegend": false,
         "type": "scatter",
         "x": [
          9.825273657543873,
          11.230178701915893
         ],
         "y": [
          22.35349651226217,
          22.99461809499146
         ]
        },
        {
         "line": {
          "color": "green"
         },
         "mode": "lines",
         "showlegend": false,
         "type": "scatter",
         "x": [
          9.825273657543873,
          12.684575085548953
         ],
         "y": [
          22.35349651226217,
          22.098372906984984
         ]
        },
        {
         "line": {
          "color": "green"
         },
         "mode": "lines",
         "showlegend": false,
         "type": "scatter",
         "x": [
          17.994463924564684,
          20.6044509300171
         ],
         "y": [
          14.756426366169864,
          14.647168810736511
         ]
        },
        {
         "line": {
          "color": "green"
         },
         "mode": "lines",
         "showlegend": false,
         "type": "scatter",
         "x": [
          17.994463924564684,
          20.478492833826916
         ],
         "y": [
          14.756426366169864,
          14.676661667858774
         ]
        },
        {
         "line": {
          "color": "green"
         },
         "mode": "lines",
         "showlegend": false,
         "type": "scatter",
         "x": [
          17.994463924564684,
          17.213163966415333
         ],
         "y": [
          14.756426366169864,
          13.093692306493573
         ]
        },
        {
         "line": {
          "color": "green"
         },
         "mode": "lines",
         "showlegend": false,
         "type": "scatter",
         "x": [
          3.8644931674739342,
          5.94603324023792
         ],
         "y": [
          6.936959180468376,
          5.74289292019422
         ]
        },
        {
         "line": {
          "color": "green"
         },
         "mode": "lines",
         "showlegend": false,
         "type": "scatter",
         "x": [
          23.36980691723654,
          24.63644522375485
         ],
         "y": [
          15.981086271617789,
          15.881475348101194
         ]
        },
        {
         "line": {
          "color": "green"
         },
         "mode": "lines",
         "showlegend": false,
         "type": "scatter",
         "x": [
          23.36980691723654,
          25.58438821922551
         ],
         "y": [
          15.981086271617789,
          15.528817883344626
         ]
        },
        {
         "line": {
          "color": "green"
         },
         "mode": "lines",
         "showlegend": false,
         "type": "scatter",
         "x": [
          23.36980691723654,
          24.98794217636763
         ],
         "y": [
          15.981086271617789,
          15.890974124827062
         ]
        },
        {
         "line": {
          "color": "green"
         },
         "mode": "lines",
         "showlegend": false,
         "type": "scatter",
         "x": [
          3.180491810451819,
          2.865361284407535
         ],
         "y": [
          10.800431165005483,
          13.730882238763666
         ]
        },
        {
         "line": {
          "color": "green"
         },
         "mode": "lines",
         "showlegend": false,
         "type": "scatter",
         "x": [
          3.180491810451819,
          4.50573478289161
         ],
         "y": [
          10.800431165005483,
          12.323142758823575
         ]
        },
        {
         "line": {
          "color": "green"
         },
         "mode": "lines",
         "showlegend": false,
         "type": "scatter",
         "x": [
          3.180491810451819,
          1.9473883390849056
         ],
         "y": [
          10.800431165005483,
          12.638873221082244
         ]
        },
        {
         "line": {
          "color": "green"
         },
         "mode": "lines",
         "showlegend": false,
         "type": "scatter",
         "x": [
          3.180491810451819,
          5.285227847181906
         ],
         "y": [
          10.800431165005483,
          10.271633667728183
         ]
        },
        {
         "line": {
          "color": "green"
         },
         "mode": "lines",
         "showlegend": false,
         "type": "scatter",
         "x": [
          20.68417496424029,
          20.6044509300171
         ],
         "y": [
          17.391964000770678,
          14.647168810736511
         ]
        },
        {
         "line": {
          "color": "green"
         },
         "mode": "lines",
         "showlegend": false,
         "type": "scatter",
         "x": [
          20.68417496424029,
          19.997688769338232
         ],
         "y": [
          17.391964000770678,
          19.678371152105562
         ]
        },
        {
         "line": {
          "color": "green"
         },
         "mode": "lines",
         "showlegend": false,
         "type": "scatter",
         "x": [
          20.68417496424029,
          20.478492833826916
         ],
         "y": [
          17.391964000770678,
          14.676661667858774
         ]
        },
        {
         "line": {
          "color": "green"
         },
         "mode": "lines",
         "showlegend": false,
         "type": "scatter",
         "x": [
          9.48962379275616,
          7.94558341077207
         ],
         "y": [
          6.123718277664696,
          6.060521783032346
         ]
        },
        {
         "line": {
          "color": "green"
         },
         "mode": "lines",
         "showlegend": false,
         "type": "scatter",
         "x": [
          8.652895591671667,
          7.334679721028231
         ],
         "y": [
          13.857491685935257,
          13.713924692207229
         ]
        },
        {
         "line": {
          "color": "green"
         },
         "mode": "lines",
         "showlegend": false,
         "type": "scatter",
         "x": [
          8.652895591671667,
          10.41187963656246
         ],
         "y": [
          13.857491685935257,
          15.167291056826716
         ]
        },
        {
         "line": {
          "color": "green"
         },
         "mode": "lines",
         "showlegend": false,
         "type": "scatter",
         "x": [
          14.451632802343662,
          17.344098513717583
         ],
         "y": [
          26.631351086720912,
          27.196238704189355
         ]
        },
        {
         "line": {
          "color": "green"
         },
         "mode": "lines",
         "showlegend": false,
         "type": "scatter",
         "x": [
          14.451632802343662,
          14.85213072736942
         ],
         "y": [
          26.631351086720912,
          25.157306701096402
         ]
        },
        {
         "line": {
          "color": "green"
         },
         "mode": "lines",
         "showlegend": false,
         "type": "scatter",
         "x": [
          14.451632802343662,
          14.192838929274336
         ],
         "y": [
          26.631351086720912,
          24.03722093064635
         ]
        },
        {
         "line": {
          "color": "green"
         },
         "mode": "lines",
         "showlegend": false,
         "type": "scatter",
         "x": [
          17.098842370214008,
          15.927491476389518
         ],
         "y": [
          2.644492159511249,
          5.331873321425489
         ]
        },
        {
         "line": {
          "color": "green"
         },
         "mode": "lines",
         "showlegend": false,
         "type": "scatter",
         "x": [
          17.098842370214008,
          18.48425913042019
         ],
         "y": [
          2.644492159511249,
          5.123951192816103
         ]
        },
        {
         "line": {
          "color": "green"
         },
         "mode": "lines",
         "showlegend": false,
         "type": "scatter",
         "x": [
          17.098842370214008,
          14.308787485318758
         ],
         "y": [
          2.644492159511249,
          2.974766406435054
         ]
        },
        {
         "line": {
          "color": "green"
         },
         "mode": "lines",
         "showlegend": false,
         "type": "scatter",
         "x": [
          10.85363583043769,
          11.148770404992868
         ],
         "y": [
          28.269912262270896,
          29.24462670542915
         ]
        },
        {
         "line": {
          "color": "green"
         },
         "mode": "lines",
         "showlegend": false,
         "type": "scatter",
         "x": [
          10.85363583043769,
          8.275706517066592
         ],
         "y": [
          28.269912262270896,
          27.894081458109305
         ]
        },
        {
         "line": {
          "color": "green"
         },
         "mode": "lines",
         "showlegend": false,
         "type": "scatter",
         "x": [
          4.070648560315229,
          2.865361284407535
         ],
         "y": [
          15.276226815993407,
          13.730882238763666
         ]
        },
        {
         "line": {
          "color": "green"
         },
         "mode": "lines",
         "showlegend": false,
         "type": "scatter",
         "x": [
          4.070648560315229,
          4.50573478289161
         ],
         "y": [
          15.276226815993407,
          12.323142758823575
         ]
        },
        {
         "line": {
          "color": "green"
         },
         "mode": "lines",
         "showlegend": false,
         "type": "scatter",
         "x": [
          15.042330050710751,
          17.602210057603
         ],
         "y": [
          17.956947403747634,
          18.719028752907672
         ]
        },
        {
         "line": {
          "color": "green"
         },
         "mode": "lines",
         "showlegend": false,
         "type": "scatter",
         "x": [
          15.042330050710751,
          14.563173338648149
         ],
         "y": [
          17.956947403747634,
          16.12647469833104
         ]
        },
        {
         "line": {
          "color": "green"
         },
         "mode": "lines",
         "showlegend": false,
         "type": "scatter",
         "x": [
          1.994893214874078,
          2.7548258845003932
         ],
         "y": [
          3.572526923193996,
          2.7373649441670915
         ]
        },
        {
         "line": {
          "color": "green"
         },
         "mode": "lines",
         "showlegend": false,
         "type": "scatter",
         "x": [
          1.994893214874078,
          2.1257507468304224
         ],
         "y": [
          3.572526923193996,
          1.7766831289389151
         ]
        },
        {
         "line": {
          "color": "green"
         },
         "mode": "lines",
         "showlegend": false,
         "type": "scatter",
         "x": [
          1.994893214874078,
          1.9019354912685582
         ],
         "y": [
          3.572526923193996,
          2.121453879691966
         ]
        },
        {
         "line": {
          "color": "green"
         },
         "mode": "lines",
         "showlegend": false,
         "type": "scatter",
         "x": [
          14.563173338648149,
          13.402957249953161
         ],
         "y": [
          16.12647469833104,
          15.121572367630536
         ]
        },
        {
         "line": {
          "color": "green"
         },
         "mode": "lines",
         "showlegend": false,
         "type": "scatter",
         "x": [
          14.563173338648149,
          14.817606385434882
         ],
         "y": [
          16.12647469833104,
          14.653403523709464
         ]
        },
        {
         "line": {
          "color": "green"
         },
         "mode": "lines",
         "showlegend": false,
         "type": "scatter",
         "x": [
          14.563173338648149,
          15.042330050710751
         ],
         "y": [
          16.12647469833104,
          17.956947403747634
         ]
        },
        {
         "line": {
          "color": "green"
         },
         "mode": "lines",
         "showlegend": false,
         "type": "scatter",
         "x": [
          14.192838929274336,
          14.85213072736942
         ],
         "y": [
          24.03722093064635,
          25.157306701096402
         ]
        },
        {
         "line": {
          "color": "green"
         },
         "mode": "lines",
         "showlegend": false,
         "type": "scatter",
         "x": [
          14.192838929274336,
          12.684575085548953
         ],
         "y": [
          24.03722093064635,
          22.098372906984984
         ]
        },
        {
         "line": {
          "color": "green"
         },
         "mode": "lines",
         "showlegend": false,
         "type": "scatter",
         "x": [
          14.192838929274336,
          14.451632802343662
         ],
         "y": [
          24.03722093064635,
          26.631351086720912
         ]
        },
        {
         "line": {
          "color": "green"
         },
         "mode": "lines",
         "showlegend": false,
         "type": "scatter",
         "x": [
          27.90509730048859,
          27.505223556433286
         ],
         "y": [
          10.33308564007579,
          10.184110059333996
         ]
        },
        {
         "line": {
          "color": "green"
         },
         "mode": "lines",
         "showlegend": false,
         "type": "scatter",
         "x": [
          27.90509730048859,
          26.670008442313534
         ],
         "y": [
          10.33308564007579,
          9.404943879107487
         ]
        },
        {
         "line": {
          "color": "green"
         },
         "mode": "lines",
         "showlegend": false,
         "type": "scatter",
         "x": [
          17.213163966415333,
          15.834459009013951
         ],
         "y": [
          13.093692306493573,
          10.530582717131804
         ]
        },
        {
         "line": {
          "color": "green"
         },
         "mode": "lines",
         "showlegend": false,
         "type": "scatter",
         "x": [
          17.213163966415333,
          14.817606385434882
         ],
         "y": [
          13.093692306493573,
          14.653403523709464
         ]
        },
        {
         "line": {
          "color": "green"
         },
         "mode": "lines",
         "showlegend": false,
         "type": "scatter",
         "x": [
          17.213163966415333,
          17.994463924564684
         ],
         "y": [
          13.093692306493573,
          14.756426366169864
         ]
        },
        {
         "line": {
          "color": "green"
         },
         "mode": "lines",
         "showlegend": false,
         "type": "scatter",
         "x": [
          29.769931058825225,
          27.728477967127816
         ],
         "y": [
          27.952689434908674,
          30.10676489477627
         ]
        },
        {
         "line": {
          "color": "green"
         },
         "mode": "lines",
         "showlegend": false,
         "type": "scatter",
         "x": [
          30.564354561906434,
          29.89481191042293
         ],
         "y": [
          8.562322742690787,
          6.619260840229572
         ]
        },
        {
         "line": {
          "color": "green"
         },
         "mode": "lines",
         "showlegend": false,
         "type": "scatter",
         "x": [
          1.9019354912685582,
          2.7548258845003932
         ],
         "y": [
          2.121453879691966,
          2.7373649441670915
         ]
        },
        {
         "line": {
          "color": "green"
         },
         "mode": "lines",
         "showlegend": false,
         "type": "scatter",
         "x": [
          1.9019354912685582,
          2.1257507468304224
         ],
         "y": [
          2.121453879691966,
          1.7766831289389151
         ]
        },
        {
         "line": {
          "color": "green"
         },
         "mode": "lines",
         "showlegend": false,
         "type": "scatter",
         "x": [
          1.9019354912685582,
          1.994893214874078
         ],
         "y": [
          2.121453879691966,
          3.572526923193996
         ]
        },
        {
         "line": {
          "color": "green"
         },
         "mode": "lines",
         "showlegend": false,
         "type": "scatter",
         "x": [
          4.7461228896516126,
          7.108027494559598
         ],
         "y": [
          19.713945742856282,
          20.748735965506352
         ]
        },
        {
         "line": {
          "color": "green"
         },
         "mode": "lines",
         "showlegend": false,
         "type": "scatter",
         "x": [
          4.7461228896516126,
          6.068383123882043
         ],
         "y": [
          19.713945742856282,
          18.80280931567852
         ]
        },
        {
         "line": {
          "color": "green"
         },
         "mode": "lines",
         "showlegend": false,
         "type": "scatter",
         "x": [
          27.728477967127816,
          29.769931058825225
         ],
         "y": [
          30.10676489477627,
          27.952689434908674
         ]
        },
        {
         "line": {
          "color": "green"
         },
         "mode": "lines",
         "showlegend": false,
         "type": "scatter",
         "x": [
          14.308787485318758,
          13.144441342414098
         ],
         "y": [
          2.974766406435054,
          0.6412389659879467
         ]
        },
        {
         "line": {
          "color": "green"
         },
         "mode": "lines",
         "showlegend": false,
         "type": "scatter",
         "x": [
          14.308787485318758,
          12.710745492296214
         ],
         "y": [
          2.974766406435054,
          3.512641859309433
         ]
        },
        {
         "line": {
          "color": "green"
         },
         "mode": "lines",
         "showlegend": false,
         "type": "scatter",
         "x": [
          14.308787485318758,
          15.927491476389518
         ],
         "y": [
          2.974766406435054,
          5.331873321425489
         ]
        },
        {
         "line": {
          "color": "green"
         },
         "mode": "lines",
         "showlegend": false,
         "type": "scatter",
         "x": [
          14.308787485318758,
          17.098842370214008
         ],
         "y": [
          2.974766406435054,
          2.644492159511249
         ]
        },
        {
         "line": {
          "color": "green"
         },
         "mode": "lines",
         "showlegend": false,
         "type": "scatter",
         "x": [
          1.3960468727920112,
          0.9213568796834988
         ],
         "y": [
          26.111484465702183,
          24.767730492801576
         ]
        }
       ],
       "layout": {
        "height": 1000,
        "template": {
         "data": {
          "bar": [
           {
            "error_x": {
             "color": "#2a3f5f"
            },
            "error_y": {
             "color": "#2a3f5f"
            },
            "marker": {
             "line": {
              "color": "#E5ECF6",
              "width": 0.5
             },
             "pattern": {
              "fillmode": "overlay",
              "size": 10,
              "solidity": 0.2
             }
            },
            "type": "bar"
           }
          ],
          "barpolar": [
           {
            "marker": {
             "line": {
              "color": "#E5ECF6",
              "width": 0.5
             },
             "pattern": {
              "fillmode": "overlay",
              "size": 10,
              "solidity": 0.2
             }
            },
            "type": "barpolar"
           }
          ],
          "carpet": [
           {
            "aaxis": {
             "endlinecolor": "#2a3f5f",
             "gridcolor": "white",
             "linecolor": "white",
             "minorgridcolor": "white",
             "startlinecolor": "#2a3f5f"
            },
            "baxis": {
             "endlinecolor": "#2a3f5f",
             "gridcolor": "white",
             "linecolor": "white",
             "minorgridcolor": "white",
             "startlinecolor": "#2a3f5f"
            },
            "type": "carpet"
           }
          ],
          "choropleth": [
           {
            "colorbar": {
             "outlinewidth": 0,
             "ticks": ""
            },
            "type": "choropleth"
           }
          ],
          "contour": [
           {
            "colorbar": {
             "outlinewidth": 0,
             "ticks": ""
            },
            "colorscale": [
             [
              0,
              "#0d0887"
             ],
             [
              0.1111111111111111,
              "#46039f"
             ],
             [
              0.2222222222222222,
              "#7201a8"
             ],
             [
              0.3333333333333333,
              "#9c179e"
             ],
             [
              0.4444444444444444,
              "#bd3786"
             ],
             [
              0.5555555555555556,
              "#d8576b"
             ],
             [
              0.6666666666666666,
              "#ed7953"
             ],
             [
              0.7777777777777778,
              "#fb9f3a"
             ],
             [
              0.8888888888888888,
              "#fdca26"
             ],
             [
              1,
              "#f0f921"
             ]
            ],
            "type": "contour"
           }
          ],
          "contourcarpet": [
           {
            "colorbar": {
             "outlinewidth": 0,
             "ticks": ""
            },
            "type": "contourcarpet"
           }
          ],
          "heatmap": [
           {
            "colorbar": {
             "outlinewidth": 0,
             "ticks": ""
            },
            "colorscale": [
             [
              0,
              "#0d0887"
             ],
             [
              0.1111111111111111,
              "#46039f"
             ],
             [
              0.2222222222222222,
              "#7201a8"
             ],
             [
              0.3333333333333333,
              "#9c179e"
             ],
             [
              0.4444444444444444,
              "#bd3786"
             ],
             [
              0.5555555555555556,
              "#d8576b"
             ],
             [
              0.6666666666666666,
              "#ed7953"
             ],
             [
              0.7777777777777778,
              "#fb9f3a"
             ],
             [
              0.8888888888888888,
              "#fdca26"
             ],
             [
              1,
              "#f0f921"
             ]
            ],
            "type": "heatmap"
           }
          ],
          "heatmapgl": [
           {
            "colorbar": {
             "outlinewidth": 0,
             "ticks": ""
            },
            "colorscale": [
             [
              0,
              "#0d0887"
             ],
             [
              0.1111111111111111,
              "#46039f"
             ],
             [
              0.2222222222222222,
              "#7201a8"
             ],
             [
              0.3333333333333333,
              "#9c179e"
             ],
             [
              0.4444444444444444,
              "#bd3786"
             ],
             [
              0.5555555555555556,
              "#d8576b"
             ],
             [
              0.6666666666666666,
              "#ed7953"
             ],
             [
              0.7777777777777778,
              "#fb9f3a"
             ],
             [
              0.8888888888888888,
              "#fdca26"
             ],
             [
              1,
              "#f0f921"
             ]
            ],
            "type": "heatmapgl"
           }
          ],
          "histogram": [
           {
            "marker": {
             "pattern": {
              "fillmode": "overlay",
              "size": 10,
              "solidity": 0.2
             }
            },
            "type": "histogram"
           }
          ],
          "histogram2d": [
           {
            "colorbar": {
             "outlinewidth": 0,
             "ticks": ""
            },
            "colorscale": [
             [
              0,
              "#0d0887"
             ],
             [
              0.1111111111111111,
              "#46039f"
             ],
             [
              0.2222222222222222,
              "#7201a8"
             ],
             [
              0.3333333333333333,
              "#9c179e"
             ],
             [
              0.4444444444444444,
              "#bd3786"
             ],
             [
              0.5555555555555556,
              "#d8576b"
             ],
             [
              0.6666666666666666,
              "#ed7953"
             ],
             [
              0.7777777777777778,
              "#fb9f3a"
             ],
             [
              0.8888888888888888,
              "#fdca26"
             ],
             [
              1,
              "#f0f921"
             ]
            ],
            "type": "histogram2d"
           }
          ],
          "histogram2dcontour": [
           {
            "colorbar": {
             "outlinewidth": 0,
             "ticks": ""
            },
            "colorscale": [
             [
              0,
              "#0d0887"
             ],
             [
              0.1111111111111111,
              "#46039f"
             ],
             [
              0.2222222222222222,
              "#7201a8"
             ],
             [
              0.3333333333333333,
              "#9c179e"
             ],
             [
              0.4444444444444444,
              "#bd3786"
             ],
             [
              0.5555555555555556,
              "#d8576b"
             ],
             [
              0.6666666666666666,
              "#ed7953"
             ],
             [
              0.7777777777777778,
              "#fb9f3a"
             ],
             [
              0.8888888888888888,
              "#fdca26"
             ],
             [
              1,
              "#f0f921"
             ]
            ],
            "type": "histogram2dcontour"
           }
          ],
          "mesh3d": [
           {
            "colorbar": {
             "outlinewidth": 0,
             "ticks": ""
            },
            "type": "mesh3d"
           }
          ],
          "parcoords": [
           {
            "line": {
             "colorbar": {
              "outlinewidth": 0,
              "ticks": ""
             }
            },
            "type": "parcoords"
           }
          ],
          "pie": [
           {
            "automargin": true,
            "type": "pie"
           }
          ],
          "scatter": [
           {
            "fillpattern": {
             "fillmode": "overlay",
             "size": 10,
             "solidity": 0.2
            },
            "type": "scatter"
           }
          ],
          "scatter3d": [
           {
            "line": {
             "colorbar": {
              "outlinewidth": 0,
              "ticks": ""
             }
            },
            "marker": {
             "colorbar": {
              "outlinewidth": 0,
              "ticks": ""
             }
            },
            "type": "scatter3d"
           }
          ],
          "scattercarpet": [
           {
            "marker": {
             "colorbar": {
              "outlinewidth": 0,
              "ticks": ""
             }
            },
            "type": "scattercarpet"
           }
          ],
          "scattergeo": [
           {
            "marker": {
             "colorbar": {
              "outlinewidth": 0,
              "ticks": ""
             }
            },
            "type": "scattergeo"
           }
          ],
          "scattergl": [
           {
            "marker": {
             "colorbar": {
              "outlinewidth": 0,
              "ticks": ""
             }
            },
            "type": "scattergl"
           }
          ],
          "scattermapbox": [
           {
            "marker": {
             "colorbar": {
              "outlinewidth": 0,
              "ticks": ""
             }
            },
            "type": "scattermapbox"
           }
          ],
          "scatterpolar": [
           {
            "marker": {
             "colorbar": {
              "outlinewidth": 0,
              "ticks": ""
             }
            },
            "type": "scatterpolar"
           }
          ],
          "scatterpolargl": [
           {
            "marker": {
             "colorbar": {
              "outlinewidth": 0,
              "ticks": ""
             }
            },
            "type": "scatterpolargl"
           }
          ],
          "scatterternary": [
           {
            "marker": {
             "colorbar": {
              "outlinewidth": 0,
              "ticks": ""
             }
            },
            "type": "scatterternary"
           }
          ],
          "surface": [
           {
            "colorbar": {
             "outlinewidth": 0,
             "ticks": ""
            },
            "colorscale": [
             [
              0,
              "#0d0887"
             ],
             [
              0.1111111111111111,
              "#46039f"
             ],
             [
              0.2222222222222222,
              "#7201a8"
             ],
             [
              0.3333333333333333,
              "#9c179e"
             ],
             [
              0.4444444444444444,
              "#bd3786"
             ],
             [
              0.5555555555555556,
              "#d8576b"
             ],
             [
              0.6666666666666666,
              "#ed7953"
             ],
             [
              0.7777777777777778,
              "#fb9f3a"
             ],
             [
              0.8888888888888888,
              "#fdca26"
             ],
             [
              1,
              "#f0f921"
             ]
            ],
            "type": "surface"
           }
          ],
          "table": [
           {
            "cells": {
             "fill": {
              "color": "#EBF0F8"
             },
             "line": {
              "color": "white"
             }
            },
            "header": {
             "fill": {
              "color": "#C8D4E3"
             },
             "line": {
              "color": "white"
             }
            },
            "type": "table"
           }
          ]
         },
         "layout": {
          "annotationdefaults": {
           "arrowcolor": "#2a3f5f",
           "arrowhead": 0,
           "arrowwidth": 1
          },
          "autotypenumbers": "strict",
          "coloraxis": {
           "colorbar": {
            "outlinewidth": 0,
            "ticks": ""
           }
          },
          "colorscale": {
           "diverging": [
            [
             0,
             "#8e0152"
            ],
            [
             0.1,
             "#c51b7d"
            ],
            [
             0.2,
             "#de77ae"
            ],
            [
             0.3,
             "#f1b6da"
            ],
            [
             0.4,
             "#fde0ef"
            ],
            [
             0.5,
             "#f7f7f7"
            ],
            [
             0.6,
             "#e6f5d0"
            ],
            [
             0.7,
             "#b8e186"
            ],
            [
             0.8,
             "#7fbc41"
            ],
            [
             0.9,
             "#4d9221"
            ],
            [
             1,
             "#276419"
            ]
           ],
           "sequential": [
            [
             0,
             "#0d0887"
            ],
            [
             0.1111111111111111,
             "#46039f"
            ],
            [
             0.2222222222222222,
             "#7201a8"
            ],
            [
             0.3333333333333333,
             "#9c179e"
            ],
            [
             0.4444444444444444,
             "#bd3786"
            ],
            [
             0.5555555555555556,
             "#d8576b"
            ],
            [
             0.6666666666666666,
             "#ed7953"
            ],
            [
             0.7777777777777778,
             "#fb9f3a"
            ],
            [
             0.8888888888888888,
             "#fdca26"
            ],
            [
             1,
             "#f0f921"
            ]
           ],
           "sequentialminus": [
            [
             0,
             "#0d0887"
            ],
            [
             0.1111111111111111,
             "#46039f"
            ],
            [
             0.2222222222222222,
             "#7201a8"
            ],
            [
             0.3333333333333333,
             "#9c179e"
            ],
            [
             0.4444444444444444,
             "#bd3786"
            ],
            [
             0.5555555555555556,
             "#d8576b"
            ],
            [
             0.6666666666666666,
             "#ed7953"
            ],
            [
             0.7777777777777778,
             "#fb9f3a"
            ],
            [
             0.8888888888888888,
             "#fdca26"
            ],
            [
             1,
             "#f0f921"
            ]
           ]
          },
          "colorway": [
           "#636efa",
           "#EF553B",
           "#00cc96",
           "#ab63fa",
           "#FFA15A",
           "#19d3f3",
           "#FF6692",
           "#B6E880",
           "#FF97FF",
           "#FECB52"
          ],
          "font": {
           "color": "#2a3f5f"
          },
          "geo": {
           "bgcolor": "white",
           "lakecolor": "white",
           "landcolor": "#E5ECF6",
           "showlakes": true,
           "showland": true,
           "subunitcolor": "white"
          },
          "hoverlabel": {
           "align": "left"
          },
          "hovermode": "closest",
          "mapbox": {
           "style": "light"
          },
          "paper_bgcolor": "white",
          "plot_bgcolor": "#E5ECF6",
          "polar": {
           "angularaxis": {
            "gridcolor": "white",
            "linecolor": "white",
            "ticks": ""
           },
           "bgcolor": "#E5ECF6",
           "radialaxis": {
            "gridcolor": "white",
            "linecolor": "white",
            "ticks": ""
           }
          },
          "scene": {
           "xaxis": {
            "backgroundcolor": "#E5ECF6",
            "gridcolor": "white",
            "gridwidth": 2,
            "linecolor": "white",
            "showbackground": true,
            "ticks": "",
            "zerolinecolor": "white"
           },
           "yaxis": {
            "backgroundcolor": "#E5ECF6",
            "gridcolor": "white",
            "gridwidth": 2,
            "linecolor": "white",
            "showbackground": true,
            "ticks": "",
            "zerolinecolor": "white"
           },
           "zaxis": {
            "backgroundcolor": "#E5ECF6",
            "gridcolor": "white",
            "gridwidth": 2,
            "linecolor": "white",
            "showbackground": true,
            "ticks": "",
            "zerolinecolor": "white"
           }
          },
          "shapedefaults": {
           "line": {
            "color": "#2a3f5f"
           }
          },
          "ternary": {
           "aaxis": {
            "gridcolor": "white",
            "linecolor": "white",
            "ticks": ""
           },
           "baxis": {
            "gridcolor": "white",
            "linecolor": "white",
            "ticks": ""
           },
           "bgcolor": "#E5ECF6",
           "caxis": {
            "gridcolor": "white",
            "linecolor": "white",
            "ticks": ""
           }
          },
          "title": {
           "x": 0.05
          },
          "xaxis": {
           "automargin": true,
           "gridcolor": "white",
           "linecolor": "white",
           "ticks": "",
           "title": {
            "standoff": 15
           },
           "zerolinecolor": "white",
           "zerolinewidth": 2
          },
          "yaxis": {
           "automargin": true,
           "gridcolor": "white",
           "linecolor": "white",
           "ticks": "",
           "title": {
            "standoff": 15
           },
           "zerolinecolor": "white",
           "zerolinewidth": 2
          }
         }
        },
        "title": {
         "text": "Nodes"
        },
        "width": 1000,
        "xaxis": {
         "title": {
          "text": "km"
         }
        },
        "yaxis": {
         "title": {
          "text": "km"
         }
        }
       }
      }
     },
     "metadata": {},
     "output_type": "display_data"
    }
   ],
   "source": [
    "nodes = rn.create_nodes_samples(rn.NodesDistributionParams())\n",
    "\n",
    "is_plotly = True\n",
    "fig=nt.figure_visualize_nodes(nodes,is_plotly=is_plotly)\n",
    "rn.update_nodes_location(nodes,60)\n",
    "fig=nt.figure_visualize_nodes(nodes,fig,nodes_color='red',edges_color='red',is_plotly=is_plotly)\n",
    "rn.update_nodes_location(nodes,60)\n",
    "fig=nt.figure_visualize_nodes(nodes,fig,nodes_color='green',edges_color='green',is_plotly=is_plotly)\n",
    "fig.show()\n",
    "\n"
   ]
  },
  {
   "cell_type": "code",
   "execution_count": 4,
   "metadata": {},
   "outputs": [],
   "source": [
    "# import plotly.io as pio\n",
    "# # pio.kaleido.scope.mathjax=None\n",
    "# img_bytes=pio.to_image(fig,format='png',width= 1920,height = 1080)\n",
    "\n",
    "\n",
    "# img_np = np.array(Image.open(io.BytesIO(img_bytes)))"
   ]
  },
  {
   "cell_type": "code",
   "execution_count": 8,
   "metadata": {},
   "outputs": [
    {
     "data": {
      "application/vnd.plotly.v1+json": {
       "config": {
        "plotlyServerURL": "https://plot.ly"
       },
       "data": [
        {
         "marker": {
          "color": "blue"
         },
         "mode": "markers",
         "name": "Nodes",
         "text": [
          "index:0",
          "index:1",
          "index:2",
          "index:3",
          "index:4",
          "index:5",
          "index:6",
          "index:7",
          "index:8",
          "index:9",
          "index:10",
          "index:11",
          "index:12",
          "index:13",
          "index:14",
          "index:15",
          "index:16",
          "index:17",
          "index:18",
          "index:19",
          "index:20",
          "index:21",
          "index:22",
          "index:23",
          "index:24",
          "index:25",
          "index:26",
          "index:27",
          "index:28",
          "index:29",
          "index:30",
          "index:31",
          "index:32",
          "index:33",
          "index:34",
          "index:35",
          "index:36",
          "index:37",
          "index:38",
          "index:39",
          "index:40",
          "index:41",
          "index:42",
          "index:43",
          "index:44",
          "index:45",
          "index:46",
          "index:47",
          "index:48",
          "index:49",
          "index:50",
          "index:51",
          "index:52",
          "index:53",
          "index:54",
          "index:55",
          "index:56",
          "index:57",
          "index:58",
          "index:59",
          "index:60",
          "index:61",
          "index:62",
          "index:63",
          "index:64",
          "index:65",
          "index:66",
          "index:67",
          "index:68",
          "index:69",
          "index:70",
          "index:71",
          "index:72",
          "index:73",
          "index:74",
          "index:75",
          "index:76",
          "index:77",
          "index:78",
          "index:79",
          "index:80",
          "index:81",
          "index:82",
          "index:83",
          "index:84",
          "index:85",
          "index:86",
          "index:87",
          "index:88",
          "index:89",
          "index:90",
          "index:91",
          "index:92",
          "index:93",
          "index:94",
          "index:95",
          "index:96",
          "index:97",
          "index:98",
          "index:99"
         ],
         "type": "scatter",
         "x": [
          12.51066014107722,
          0.06480189568126649,
          5.395293710432373,
          12.64952213468037,
          0.6270019756640122,
          4.604045847423755,
          9.748302176968865,
          2.61254424767542,
          2.4818214607716063,
          20.93034674733634,
          0.5429498707111646,
          8.36444826674666,
          27.356344148608276,
          6.580943678055946,
          17.13205009034151,
          20.807660596869376,
          19.509681560039194,
          27.126628299571255,
          11.663010528007003,
          22.209472716658304,
          22.63537441304165,
          12.603354769613535,
          3.244162234195459,
          11.83995801903611,
          -0.07485800284970287,
          26.25375469690666,
          0.820036873515399,
          5.017284714448343,
          2.3137096107466055,
          21.355548331441312,
          0.43191615027132646,
          16.573338440551602,
          17.85137007065068,
          23.71152327976804,
          26.088264592485352,
          1.8149160194846914,
          7.05026819850152,
          2.2413964480083695,
          7.484549313616463,
          28.980767667764002,
          18.676533861383152,
          1.825428280681686,
          9.309388313021202,
          16.497124764118592,
          2.068013742561643,
          22.626567004950086,
          6.0366269446422205,
          7.949952757403942,
          27.235159885038385,
          18.05804520544526,
          27.273941601968502,
          18.533335733604826,
          11.907255094249157,
          4.0625671480156065,
          24.770025159862005,
          4.090212176335872,
          17.810341269042194,
          13.707543797646625,
          14.701140682598309,
          13.133544114492254,
          17.035391028544957,
          1.913365950769964,
          0.19780217728617833,
          17.119286798377953,
          22.379612135612987,
          25.614839576017463,
          11.380608684965837,
          18.444201227990884,
          6.007718556317721,
          26.35798810248738,
          7.655937251247368,
          17.208609581485653,
          17.221587803993067,
          11.542440390942767,
          24.04384947247098,
          4.856098709811654,
          18.161624043560785,
          7.617067776764993,
          21.931515186010103,
          12.569125447635637,
          15.420660701890386,
          16.320997340423375,
          7.05026374218354,
          9.320778552234705,
          26.249685059126303,
          2.691607046395832,
          23.944342206157778,
          7.612759804188084,
          24.288333889436764,
          8.57207311021259,
          28.76593054069154,
          15.968222774673253,
          4.801693477255463,
          26.000310515747433,
          13.398457037437417,
          22.47674842046974,
          6.505239839960173,
          17.802803882260648,
          15.493792432218536,
          1.189680693813181
         ],
         "y": [
          21.609734803264743,
          9.110201127648299,
          10.318915714636928,
          20.485729874702077,
          20.038814836649703,
          5.863731206644548,
          20.50025104085593,
          1.1127965704220644,
          12.534145246440623,
          9.169608690565276,
          22.00993174309512,
          23.69497741561941,
          8.913331729033848,
          8.047273391166751,
          4.121764377117193,
          12.419792380115402,
          15.202293966657168,
          4.059081712161125,
          5.3396003827618665,
          21.47025994721199,
          10.38482499846881,
          28.715559459938074,
          28.378304498832872,
          6.909092777693987,
          18.48671435072229,
          10.40020381826332,
          27.877306488582388,
          3.6735661601885337,
          22.48860985942812,
          3.729758483848764,
          7.282453832024768,
          25.321972571764462,
          29.120663683091404,
          7.2506186386227665,
          22.623943218123028,
          3.6542308983659177,
          21.411724986479694,
          29.290196030987307,
          22.26697178570869,
          25.40955739075513,
          24.878556392252705,
          14.463255014532923,
          29.856728577204752,
          22.69318020795043,
          11.407578252557448,
          1.8735638601537008,
          19.064446821656176,
          1.6148623555631714,
          27.966104216572045,
          28.304924914347797,
          19.26412898142007,
          16.260119635434272,
          28.959890086407448,
          15.166408938196984,
          0.5272136363181636,
          24.221375996552954,
          26.12841576412328,
          16.77969239722518,
          17.96900522088882,
          24.12256434996113,
          5.265330058817318,
          12.439630850552733,
          29.271898843935173,
          18.768189970221606,
          25.391803000640483,
          9.782319372236824,
          12.507355589301767,
          12.469763376473148,
          12.636990398164142,
          27.443951083133392,
          25.397125295122922,
          21.7370008302304,
          14.042502375623336,
          2.835519540043457,
          26.10328340771185,
          14.1768686610219,
          9.121719373316271,
          3.326991102052131,
          6.1462727344806,
          18.570387822568392,
          14.261345999111493,
          19.551850969057128,
          15.63546511439432,
          26.086649141998926,
          28.166282424555565,
          19.314500829906095,
          0.6545523089167815,
          7.973229274468626,
          13.360970309456446,
          4.1738304184711215,
          18.956277921822036,
          4.092003497998911,
          22.38041936056741,
          21.100441339227423,
          17.921588319994644,
          13.70773742779185,
          23.983784846171034,
          25.12470488139936,
          15.776146187815447,
          21.206374141948732
         ]
        },
        {
         "line": {
          "color": "black"
         },
         "mode": "lines",
         "showlegend": false,
         "type": "scatter",
         "x": [
          12.51066014107722,
          12.64952213468037
         ],
         "y": [
          21.609734803264743,
          20.485729874702077
         ]
        },
        {
         "line": {
          "color": "red"
         },
         "mode": "lines",
         "showlegend": false,
         "type": "scatter",
         "x": [
          12.51066014107722,
          9.748302176968865
         ],
         "y": [
          21.609734803264743,
          20.50025104085593
         ]
        },
        {
         "line": {
          "color": "black"
         },
         "mode": "lines",
         "showlegend": false,
         "type": "scatter",
         "x": [
          12.51066014107722,
          13.133544114492254
         ],
         "y": [
          21.609734803264743,
          24.12256434996113
         ]
        },
        {
         "line": {
          "color": "black"
         },
         "mode": "lines",
         "showlegend": false,
         "type": "scatter",
         "x": [
          0.06480189568126649,
          0.43191615027132646
         ],
         "y": [
          9.110201127648299,
          7.282453832024768
         ]
        },
        {
         "line": {
          "color": "orange"
         },
         "mode": "lines",
         "showlegend": false,
         "type": "scatter",
         "x": [
          0.06480189568126649,
          2.068013742561643
         ],
         "y": [
          9.110201127648299,
          11.407578252557448
         ]
        },
        {
         "line": {
          "color": "black"
         },
         "mode": "lines",
         "showlegend": false,
         "type": "scatter",
         "x": [
          5.395293710432373,
          6.580943678055946
         ],
         "y": [
          10.318915714636928,
          8.047273391166751
         ]
        },
        {
         "line": {
          "color": "black"
         },
         "mode": "lines",
         "showlegend": false,
         "type": "scatter",
         "x": [
          5.395293710432373,
          6.007718556317721
         ],
         "y": [
          10.318915714636928,
          12.636990398164142
         ]
        },
        {
         "line": {
          "color": "black"
         },
         "mode": "lines",
         "showlegend": false,
         "type": "scatter",
         "x": [
          12.64952213468037,
          12.51066014107722
         ],
         "y": [
          20.485729874702077,
          21.609734803264743
         ]
        },
        {
         "line": {
          "color": "red"
         },
         "mode": "lines",
         "showlegend": false,
         "type": "scatter",
         "x": [
          12.64952213468037,
          9.748302176968865
         ],
         "y": [
          20.485729874702077,
          20.50025104085593
         ]
        },
        {
         "line": {
          "color": "black"
         },
         "mode": "lines",
         "showlegend": false,
         "type": "scatter",
         "x": [
          12.64952213468037,
          12.569125447635637
         ],
         "y": [
          20.485729874702077,
          18.570387822568392
         ]
        },
        {
         "line": {
          "color": "red"
         },
         "mode": "lines",
         "showlegend": false,
         "type": "scatter",
         "x": [
          12.64952213468037,
          13.398457037437417
         ],
         "y": [
          20.485729874702077,
          17.921588319994644
         ]
        },
        {
         "line": {
          "color": "black"
         },
         "mode": "lines",
         "showlegend": false,
         "type": "scatter",
         "x": [
          0.6270019756640122,
          0.5429498707111646
         ],
         "y": [
          20.038814836649703,
          22.00993174309512
         ]
        },
        {
         "line": {
          "color": "black"
         },
         "mode": "lines",
         "showlegend": false,
         "type": "scatter",
         "x": [
          0.6270019756640122,
          -0.07485800284970287
         ],
         "y": [
          20.038814836649703,
          18.48671435072229
         ]
        },
        {
         "line": {
          "color": "black"
         },
         "mode": "lines",
         "showlegend": false,
         "type": "scatter",
         "x": [
          0.6270019756640122,
          2.3137096107466055
         ],
         "y": [
          20.038814836649703,
          22.48860985942812
         ]
        },
        {
         "line": {
          "color": "black"
         },
         "mode": "lines",
         "showlegend": false,
         "type": "scatter",
         "x": [
          0.6270019756640122,
          2.691607046395832
         ],
         "y": [
          20.038814836649703,
          19.314500829906095
         ]
        },
        {
         "line": {
          "color": "black"
         },
         "mode": "lines",
         "showlegend": false,
         "type": "scatter",
         "x": [
          0.6270019756640122,
          1.189680693813181
         ],
         "y": [
          20.038814836649703,
          21.206374141948732
         ]
        },
        {
         "line": {
          "color": "black"
         },
         "mode": "lines",
         "showlegend": false,
         "type": "scatter",
         "x": [
          4.604045847423755,
          6.580943678055946
         ],
         "y": [
          5.863731206644548,
          8.047273391166751
         ]
        },
        {
         "line": {
          "color": "black"
         },
         "mode": "lines",
         "showlegend": false,
         "type": "scatter",
         "x": [
          4.604045847423755,
          5.017284714448343
         ],
         "y": [
          5.863731206644548,
          3.6735661601885337
         ]
        },
        {
         "line": {
          "color": "red"
         },
         "mode": "lines",
         "showlegend": false,
         "type": "scatter",
         "x": [
          9.748302176968865,
          12.51066014107722
         ],
         "y": [
          20.50025104085593,
          21.609734803264743
         ]
        },
        {
         "line": {
          "color": "red"
         },
         "mode": "lines",
         "showlegend": false,
         "type": "scatter",
         "x": [
          9.748302176968865,
          12.64952213468037
         ],
         "y": [
          20.50025104085593,
          20.485729874702077
         ]
        },
        {
         "line": {
          "color": "black"
         },
         "mode": "lines",
         "showlegend": false,
         "type": "scatter",
         "x": [
          9.748302176968865,
          7.05026819850152
         ],
         "y": [
          20.50025104085593,
          21.411724986479694
         ]
        },
        {
         "line": {
          "color": "black"
         },
         "mode": "lines",
         "showlegend": false,
         "type": "scatter",
         "x": [
          9.748302176968865,
          7.484549313616463
         ],
         "y": [
          20.50025104085593,
          22.26697178570869
         ]
        },
        {
         "line": {
          "color": "black"
         },
         "mode": "lines",
         "showlegend": false,
         "type": "scatter",
         "x": [
          2.61254424767542,
          1.8149160194846914
         ],
         "y": [
          1.1127965704220644,
          3.6542308983659177
         ]
        },
        {
         "line": {
          "color": "black"
         },
         "mode": "lines",
         "showlegend": false,
         "type": "scatter",
         "x": [
          2.4818214607716063,
          1.825428280681686
         ],
         "y": [
          12.534145246440623,
          14.463255014532923
         ]
        },
        {
         "line": {
          "color": "black"
         },
         "mode": "lines",
         "showlegend": false,
         "type": "scatter",
         "x": [
          2.4818214607716063,
          2.068013742561643
         ],
         "y": [
          12.534145246440623,
          11.407578252557448
         ]
        },
        {
         "line": {
          "color": "orange"
         },
         "mode": "lines",
         "showlegend": false,
         "type": "scatter",
         "x": [
          2.4818214607716063,
          4.0625671480156065
         ],
         "y": [
          12.534145246440623,
          15.166408938196984
         ]
        },
        {
         "line": {
          "color": "black"
         },
         "mode": "lines",
         "showlegend": false,
         "type": "scatter",
         "x": [
          2.4818214607716063,
          1.913365950769964
         ],
         "y": [
          12.534145246440623,
          12.439630850552733
         ]
        },
        {
         "line": {
          "color": "black"
         },
         "mode": "lines",
         "showlegend": false,
         "type": "scatter",
         "x": [
          2.4818214607716063,
          4.856098709811654
         ],
         "y": [
          12.534145246440623,
          14.1768686610219
         ]
        },
        {
         "line": {
          "color": "black"
         },
         "mode": "lines",
         "showlegend": false,
         "type": "scatter",
         "x": [
          20.93034674733634,
          22.63537441304165
         ],
         "y": [
          9.169608690565276,
          10.38482499846881
         ]
        },
        {
         "line": {
          "color": "black"
         },
         "mode": "lines",
         "showlegend": false,
         "type": "scatter",
         "x": [
          20.93034674733634,
          18.161624043560785
         ],
         "y": [
          9.169608690565276,
          9.121719373316271
         ]
        },
        {
         "line": {
          "color": "black"
         },
         "mode": "lines",
         "showlegend": false,
         "type": "scatter",
         "x": [
          0.5429498707111646,
          0.6270019756640122
         ],
         "y": [
          22.00993174309512,
          20.038814836649703
         ]
        },
        {
         "line": {
          "color": "black"
         },
         "mode": "lines",
         "showlegend": false,
         "type": "scatter",
         "x": [
          0.5429498707111646,
          2.3137096107466055
         ],
         "y": [
          22.00993174309512,
          22.48860985942812
         ]
        },
        {
         "line": {
          "color": "black"
         },
         "mode": "lines",
         "showlegend": false,
         "type": "scatter",
         "x": [
          0.5429498707111646,
          1.189680693813181
         ],
         "y": [
          22.00993174309512,
          21.206374141948732
         ]
        },
        {
         "line": {
          "color": "black"
         },
         "mode": "lines",
         "showlegend": false,
         "type": "scatter",
         "x": [
          8.36444826674666,
          7.05026819850152
         ],
         "y": [
          23.69497741561941,
          21.411724986479694
         ]
        },
        {
         "line": {
          "color": "black"
         },
         "mode": "lines",
         "showlegend": false,
         "type": "scatter",
         "x": [
          8.36444826674666,
          7.484549313616463
         ],
         "y": [
          23.69497741561941,
          22.26697178570869
         ]
        },
        {
         "line": {
          "color": "black"
         },
         "mode": "lines",
         "showlegend": false,
         "type": "scatter",
         "x": [
          8.36444826674666,
          7.655937251247368
         ],
         "y": [
          23.69497741561941,
          25.397125295122922
         ]
        },
        {
         "line": {
          "color": "black"
         },
         "mode": "lines",
         "showlegend": false,
         "type": "scatter",
         "x": [
          8.36444826674666,
          9.320778552234705
         ],
         "y": [
          23.69497741561941,
          26.086649141998926
         ]
        },
        {
         "line": {
          "color": "black"
         },
         "mode": "lines",
         "showlegend": false,
         "type": "scatter",
         "x": [
          8.36444826674666,
          6.505239839960173
         ],
         "y": [
          23.69497741561941,
          23.983784846171034
         ]
        },
        {
         "line": {
          "color": "black"
         },
         "mode": "lines",
         "showlegend": false,
         "type": "scatter",
         "x": [
          27.356344148608276,
          26.25375469690666
         ],
         "y": [
          8.913331729033848,
          10.40020381826332
         ]
        },
        {
         "line": {
          "color": "black"
         },
         "mode": "lines",
         "showlegend": false,
         "type": "scatter",
         "x": [
          27.356344148608276,
          25.614839576017463
         ],
         "y": [
          8.913331729033848,
          9.782319372236824
         ]
        },
        {
         "line": {
          "color": "black"
         },
         "mode": "lines",
         "showlegend": false,
         "type": "scatter",
         "x": [
          6.580943678055946,
          5.395293710432373
         ],
         "y": [
          8.047273391166751,
          10.318915714636928
         ]
        },
        {
         "line": {
          "color": "black"
         },
         "mode": "lines",
         "showlegend": false,
         "type": "scatter",
         "x": [
          6.580943678055946,
          4.604045847423755
         ],
         "y": [
          8.047273391166751,
          5.863731206644548
         ]
        },
        {
         "line": {
          "color": "black"
         },
         "mode": "lines",
         "showlegend": false,
         "type": "scatter",
         "x": [
          6.580943678055946,
          7.612759804188084
         ],
         "y": [
          8.047273391166751,
          7.973229274468626
         ]
        },
        {
         "line": {
          "color": "black"
         },
         "mode": "lines",
         "showlegend": false,
         "type": "scatter",
         "x": [
          17.13205009034151,
          17.035391028544957
         ],
         "y": [
          4.121764377117193,
          5.265330058817318
         ]
        },
        {
         "line": {
          "color": "black"
         },
         "mode": "lines",
         "showlegend": false,
         "type": "scatter",
         "x": [
          17.13205009034151,
          15.968222774673253
         ],
         "y": [
          4.121764377117193,
          4.092003497998911
         ]
        },
        {
         "line": {
          "color": "black"
         },
         "mode": "lines",
         "showlegend": false,
         "type": "scatter",
         "x": [
          20.807660596869376,
          22.63537441304165
         ],
         "y": [
          12.419792380115402,
          10.38482499846881
         ]
        },
        {
         "line": {
          "color": "black"
         },
         "mode": "lines",
         "showlegend": false,
         "type": "scatter",
         "x": [
          20.807660596869376,
          18.444201227990884
         ],
         "y": [
          12.419792380115402,
          12.469763376473148
         ]
        },
        {
         "line": {
          "color": "black"
         },
         "mode": "lines",
         "showlegend": false,
         "type": "scatter",
         "x": [
          20.807660596869376,
          22.47674842046974
         ],
         "y": [
          12.419792380115402,
          13.70773742779185
         ]
        },
        {
         "line": {
          "color": "black"
         },
         "mode": "lines",
         "showlegend": false,
         "type": "scatter",
         "x": [
          19.509681560039194,
          18.533335733604826
         ],
         "y": [
          15.202293966657168,
          16.260119635434272
         ]
        },
        {
         "line": {
          "color": "black"
         },
         "mode": "lines",
         "showlegend": false,
         "type": "scatter",
         "x": [
          19.509681560039194,
          18.444201227990884
         ],
         "y": [
          15.202293966657168,
          12.469763376473148
         ]
        },
        {
         "line": {
          "color": "red"
         },
         "mode": "lines",
         "showlegend": false,
         "type": "scatter",
         "x": [
          19.509681560039194,
          17.221587803993067
         ],
         "y": [
          15.202293966657168,
          14.042502375623336
         ]
        },
        {
         "line": {
          "color": "black"
         },
         "mode": "lines",
         "showlegend": false,
         "type": "scatter",
         "x": [
          11.663010528007003,
          11.83995801903611
         ],
         "y": [
          5.3396003827618665,
          6.909092777693987
         ]
        },
        {
         "line": {
          "color": "black"
         },
         "mode": "lines",
         "showlegend": false,
         "type": "scatter",
         "x": [
          11.663010528007003,
          11.542440390942767
         ],
         "y": [
          5.3396003827618665,
          2.835519540043457
         ]
        },
        {
         "line": {
          "color": "black"
         },
         "mode": "lines",
         "showlegend": false,
         "type": "scatter",
         "x": [
          22.63537441304165,
          20.93034674733634
         ],
         "y": [
          10.38482499846881,
          9.169608690565276
         ]
        },
        {
         "line": {
          "color": "black"
         },
         "mode": "lines",
         "showlegend": false,
         "type": "scatter",
         "x": [
          22.63537441304165,
          20.807660596869376
         ],
         "y": [
          10.38482499846881,
          12.419792380115402
         ]
        },
        {
         "line": {
          "color": "black"
         },
         "mode": "lines",
         "showlegend": false,
         "type": "scatter",
         "x": [
          12.603354769613535,
          11.907255094249157
         ],
         "y": [
          28.715559459938074,
          28.959890086407448
         ]
        },
        {
         "line": {
          "color": "black"
         },
         "mode": "lines",
         "showlegend": false,
         "type": "scatter",
         "x": [
          3.244162234195459,
          0.820036873515399
         ],
         "y": [
          28.378304498832872,
          27.877306488582388
         ]
        },
        {
         "line": {
          "color": "black"
         },
         "mode": "lines",
         "showlegend": false,
         "type": "scatter",
         "x": [
          3.244162234195459,
          2.2413964480083695
         ],
         "y": [
          28.378304498832872,
          29.290196030987307
         ]
        },
        {
         "line": {
          "color": "black"
         },
         "mode": "lines",
         "showlegend": false,
         "type": "scatter",
         "x": [
          11.83995801903611,
          11.663010528007003
         ],
         "y": [
          6.909092777693987,
          5.3396003827618665
         ]
        },
        {
         "line": {
          "color": "black"
         },
         "mode": "lines",
         "showlegend": false,
         "type": "scatter",
         "x": [
          -0.07485800284970287,
          0.6270019756640122
         ],
         "y": [
          18.48671435072229,
          20.038814836649703
         ]
        },
        {
         "line": {
          "color": "red"
         },
         "mode": "lines",
         "showlegend": false,
         "type": "scatter",
         "x": [
          -0.07485800284970287,
          2.691607046395832
         ],
         "y": [
          18.48671435072229,
          19.314500829906095
         ]
        },
        {
         "line": {
          "color": "black"
         },
         "mode": "lines",
         "showlegend": false,
         "type": "scatter",
         "x": [
          -0.07485800284970287,
          1.189680693813181
         ],
         "y": [
          18.48671435072229,
          21.206374141948732
         ]
        },
        {
         "line": {
          "color": "black"
         },
         "mode": "lines",
         "showlegend": false,
         "type": "scatter",
         "x": [
          26.25375469690666,
          27.356344148608276
         ],
         "y": [
          10.40020381826332,
          8.913331729033848
         ]
        },
        {
         "line": {
          "color": "black"
         },
         "mode": "lines",
         "showlegend": false,
         "type": "scatter",
         "x": [
          26.25375469690666,
          25.614839576017463
         ],
         "y": [
          10.40020381826332,
          9.782319372236824
         ]
        },
        {
         "line": {
          "color": "black"
         },
         "mode": "lines",
         "showlegend": false,
         "type": "scatter",
         "x": [
          0.820036873515399,
          3.244162234195459
         ],
         "y": [
          27.877306488582388,
          28.378304498832872
         ]
        },
        {
         "line": {
          "color": "black"
         },
         "mode": "lines",
         "showlegend": false,
         "type": "scatter",
         "x": [
          0.820036873515399,
          2.2413964480083695
         ],
         "y": [
          27.877306488582388,
          29.290196030987307
         ]
        },
        {
         "line": {
          "color": "black"
         },
         "mode": "lines",
         "showlegend": false,
         "type": "scatter",
         "x": [
          0.820036873515399,
          0.19780217728617833
         ],
         "y": [
          27.877306488582388,
          29.271898843935173
         ]
        },
        {
         "line": {
          "color": "black"
         },
         "mode": "lines",
         "showlegend": false,
         "type": "scatter",
         "x": [
          5.017284714448343,
          4.604045847423755
         ],
         "y": [
          3.6735661601885337,
          5.863731206644548
         ]
        },
        {
         "line": {
          "color": "black"
         },
         "mode": "lines",
         "showlegend": false,
         "type": "scatter",
         "x": [
          5.017284714448343,
          7.617067776764993
         ],
         "y": [
          3.6735661601885337,
          3.326991102052131
         ]
        },
        {
         "line": {
          "color": "black"
         },
         "mode": "lines",
         "showlegend": false,
         "type": "scatter",
         "x": [
          2.3137096107466055,
          0.6270019756640122
         ],
         "y": [
          22.48860985942812,
          20.038814836649703
         ]
        },
        {
         "line": {
          "color": "black"
         },
         "mode": "lines",
         "showlegend": false,
         "type": "scatter",
         "x": [
          2.3137096107466055,
          0.5429498707111646
         ],
         "y": [
          22.48860985942812,
          22.00993174309512
         ]
        },
        {
         "line": {
          "color": "black"
         },
         "mode": "lines",
         "showlegend": false,
         "type": "scatter",
         "x": [
          2.3137096107466055,
          4.090212176335872
         ],
         "y": [
          22.48860985942812,
          24.221375996552954
         ]
        },
        {
         "line": {
          "color": "black"
         },
         "mode": "lines",
         "showlegend": false,
         "type": "scatter",
         "x": [
          2.3137096107466055,
          4.801693477255463
         ],
         "y": [
          22.48860985942812,
          22.38041936056741
         ]
        },
        {
         "line": {
          "color": "black"
         },
         "mode": "lines",
         "showlegend": false,
         "type": "scatter",
         "x": [
          2.3137096107466055,
          1.189680693813181
         ],
         "y": [
          22.48860985942812,
          21.206374141948732
         ]
        },
        {
         "line": {
          "color": "black"
         },
         "mode": "lines",
         "showlegend": false,
         "type": "scatter",
         "x": [
          21.355548331441312,
          22.626567004950086
         ],
         "y": [
          3.729758483848764,
          1.8735638601537008
         ]
        },
        {
         "line": {
          "color": "black"
         },
         "mode": "lines",
         "showlegend": false,
         "type": "scatter",
         "x": [
          21.355548331441312,
          21.931515186010103
         ],
         "y": [
          3.729758483848764,
          6.1462727344806
         ]
        },
        {
         "line": {
          "color": "black"
         },
         "mode": "lines",
         "showlegend": false,
         "type": "scatter",
         "x": [
          0.43191615027132646,
          0.06480189568126649
         ],
         "y": [
          7.282453832024768,
          9.110201127648299
         ]
        },
        {
         "line": {
          "color": "black"
         },
         "mode": "lines",
         "showlegend": false,
         "type": "scatter",
         "x": [
          16.573338440551602,
          18.676533861383152
         ],
         "y": [
          25.321972571764462,
          24.878556392252705
         ]
        },
        {
         "line": {
          "color": "black"
         },
         "mode": "lines",
         "showlegend": false,
         "type": "scatter",
         "x": [
          16.573338440551602,
          16.497124764118592
         ],
         "y": [
          25.321972571764462,
          22.69318020795043
         ]
        },
        {
         "line": {
          "color": "black"
         },
         "mode": "lines",
         "showlegend": false,
         "type": "scatter",
         "x": [
          16.573338440551602,
          17.810341269042194
         ],
         "y": [
          25.321972571764462,
          26.12841576412328
         ]
        },
        {
         "line": {
          "color": "black"
         },
         "mode": "lines",
         "showlegend": false,
         "type": "scatter",
         "x": [
          16.573338440551602,
          17.802803882260648
         ],
         "y": [
          25.321972571764462,
          25.12470488139936
         ]
        },
        {
         "line": {
          "color": "black"
         },
         "mode": "lines",
         "showlegend": false,
         "type": "scatter",
         "x": [
          17.85137007065068,
          18.05804520544526
         ],
         "y": [
          29.120663683091404,
          28.304924914347797
         ]
        },
        {
         "line": {
          "color": "black"
         },
         "mode": "lines",
         "showlegend": false,
         "type": "scatter",
         "x": [
          17.85137007065068,
          17.810341269042194
         ],
         "y": [
          29.120663683091404,
          26.12841576412328
         ]
        },
        {
         "line": {
          "color": "black"
         },
         "mode": "lines",
         "showlegend": false,
         "type": "scatter",
         "x": [
          23.71152327976804,
          21.931515186010103
         ],
         "y": [
          7.2506186386227665,
          6.1462727344806
         ]
        },
        {
         "line": {
          "color": "black"
         },
         "mode": "lines",
         "showlegend": false,
         "type": "scatter",
         "x": [
          26.088264592485352,
          26.000310515747433
         ],
         "y": [
          22.623943218123028,
          21.100441339227423
         ]
        },
        {
         "line": {
          "color": "black"
         },
         "mode": "lines",
         "showlegend": false,
         "type": "scatter",
         "x": [
          1.8149160194846914,
          2.61254424767542
         ],
         "y": [
          3.6542308983659177,
          1.1127965704220644
         ]
        },
        {
         "line": {
          "color": "black"
         },
         "mode": "lines",
         "showlegend": false,
         "type": "scatter",
         "x": [
          7.05026819850152,
          9.748302176968865
         ],
         "y": [
          21.411724986479694,
          20.50025104085593
         ]
        },
        {
         "line": {
          "color": "black"
         },
         "mode": "lines",
         "showlegend": false,
         "type": "scatter",
         "x": [
          7.05026819850152,
          8.36444826674666
         ],
         "y": [
          21.411724986479694,
          23.69497741561941
         ]
        },
        {
         "line": {
          "color": "black"
         },
         "mode": "lines",
         "showlegend": false,
         "type": "scatter",
         "x": [
          7.05026819850152,
          7.484549313616463
         ],
         "y": [
          21.411724986479694,
          22.26697178570869
         ]
        },
        {
         "line": {
          "color": "black"
         },
         "mode": "lines",
         "showlegend": false,
         "type": "scatter",
         "x": [
          7.05026819850152,
          6.0366269446422205
         ],
         "y": [
          21.411724986479694,
          19.064446821656176
         ]
        },
        {
         "line": {
          "color": "black"
         },
         "mode": "lines",
         "showlegend": false,
         "type": "scatter",
         "x": [
          7.05026819850152,
          4.801693477255463
         ],
         "y": [
          21.411724986479694,
          22.38041936056741
         ]
        },
        {
         "line": {
          "color": "black"
         },
         "mode": "lines",
         "showlegend": false,
         "type": "scatter",
         "x": [
          7.05026819850152,
          6.505239839960173
         ],
         "y": [
          21.411724986479694,
          23.983784846171034
         ]
        },
        {
         "line": {
          "color": "black"
         },
         "mode": "lines",
         "showlegend": false,
         "type": "scatter",
         "x": [
          2.2413964480083695,
          3.244162234195459
         ],
         "y": [
          29.290196030987307,
          28.378304498832872
         ]
        },
        {
         "line": {
          "color": "black"
         },
         "mode": "lines",
         "showlegend": false,
         "type": "scatter",
         "x": [
          2.2413964480083695,
          0.820036873515399
         ],
         "y": [
          29.290196030987307,
          27.877306488582388
         ]
        },
        {
         "line": {
          "color": "black"
         },
         "mode": "lines",
         "showlegend": false,
         "type": "scatter",
         "x": [
          2.2413964480083695,
          0.19780217728617833
         ],
         "y": [
          29.290196030987307,
          29.271898843935173
         ]
        },
        {
         "line": {
          "color": "black"
         },
         "mode": "lines",
         "showlegend": false,
         "type": "scatter",
         "x": [
          7.484549313616463,
          9.748302176968865
         ],
         "y": [
          22.26697178570869,
          20.50025104085593
         ]
        },
        {
         "line": {
          "color": "black"
         },
         "mode": "lines",
         "showlegend": false,
         "type": "scatter",
         "x": [
          7.484549313616463,
          8.36444826674666
         ],
         "y": [
          22.26697178570869,
          23.69497741561941
         ]
        },
        {
         "line": {
          "color": "black"
         },
         "mode": "lines",
         "showlegend": false,
         "type": "scatter",
         "x": [
          7.484549313616463,
          7.05026819850152
         ],
         "y": [
          22.26697178570869,
          21.411724986479694
         ]
        },
        {
         "line": {
          "color": "black"
         },
         "mode": "lines",
         "showlegend": false,
         "type": "scatter",
         "x": [
          7.484549313616463,
          4.801693477255463
         ],
         "y": [
          22.26697178570869,
          22.38041936056741
         ]
        },
        {
         "line": {
          "color": "black"
         },
         "mode": "lines",
         "showlegend": false,
         "type": "scatter",
         "x": [
          7.484549313616463,
          6.505239839960173
         ],
         "y": [
          22.26697178570869,
          23.983784846171034
         ]
        },
        {
         "line": {
          "color": "black"
         },
         "mode": "lines",
         "showlegend": false,
         "type": "scatter",
         "x": [
          18.676533861383152,
          16.573338440551602
         ],
         "y": [
          24.878556392252705,
          25.321972571764462
         ]
        },
        {
         "line": {
          "color": "black"
         },
         "mode": "lines",
         "showlegend": false,
         "type": "scatter",
         "x": [
          18.676533861383152,
          17.810341269042194
         ],
         "y": [
          24.878556392252705,
          26.12841576412328
         ]
        },
        {
         "line": {
          "color": "black"
         },
         "mode": "lines",
         "showlegend": false,
         "type": "scatter",
         "x": [
          18.676533861383152,
          17.802803882260648
         ],
         "y": [
          24.878556392252705,
          25.12470488139936
         ]
        },
        {
         "line": {
          "color": "black"
         },
         "mode": "lines",
         "showlegend": false,
         "type": "scatter",
         "x": [
          1.825428280681686,
          2.4818214607716063
         ],
         "y": [
          14.463255014532923,
          12.534145246440623
         ]
        },
        {
         "line": {
          "color": "black"
         },
         "mode": "lines",
         "showlegend": false,
         "type": "scatter",
         "x": [
          1.825428280681686,
          4.0625671480156065
         ],
         "y": [
          14.463255014532923,
          15.166408938196984
         ]
        },
        {
         "line": {
          "color": "black"
         },
         "mode": "lines",
         "showlegend": false,
         "type": "scatter",
         "x": [
          1.825428280681686,
          1.913365950769964
         ],
         "y": [
          14.463255014532923,
          12.439630850552733
         ]
        },
        {
         "line": {
          "color": "orange"
         },
         "mode": "lines",
         "showlegend": false,
         "type": "scatter",
         "x": [
          1.825428280681686,
          4.856098709811654
         ],
         "y": [
          14.463255014532923,
          14.1768686610219
         ]
        },
        {
         "line": {
          "color": "black"
         },
         "mode": "lines",
         "showlegend": false,
         "type": "scatter",
         "x": [
          9.309388313021202,
          11.907255094249157
         ],
         "y": [
          29.856728577204752,
          28.959890086407448
         ]
        },
        {
         "line": {
          "color": "black"
         },
         "mode": "lines",
         "showlegend": false,
         "type": "scatter",
         "x": [
          16.497124764118592,
          16.573338440551602
         ],
         "y": [
          22.69318020795043,
          25.321972571764462
         ]
        },
        {
         "line": {
          "color": "black"
         },
         "mode": "lines",
         "showlegend": false,
         "type": "scatter",
         "x": [
          16.497124764118592,
          17.208609581485653
         ],
         "y": [
          22.69318020795043,
          21.7370008302304
         ]
        },
        {
         "line": {
          "color": "orange"
         },
         "mode": "lines",
         "showlegend": false,
         "type": "scatter",
         "x": [
          16.497124764118592,
          16.320997340423375
         ],
         "y": [
          22.69318020795043,
          19.551850969057128
         ]
        },
        {
         "line": {
          "color": "red"
         },
         "mode": "lines",
         "showlegend": false,
         "type": "scatter",
         "x": [
          16.497124764118592,
          17.802803882260648
         ],
         "y": [
          22.69318020795043,
          25.12470488139936
         ]
        },
        {
         "line": {
          "color": "orange"
         },
         "mode": "lines",
         "showlegend": false,
         "type": "scatter",
         "x": [
          2.068013742561643,
          0.06480189568126649
         ],
         "y": [
          11.407578252557448,
          9.110201127648299
         ]
        },
        {
         "line": {
          "color": "black"
         },
         "mode": "lines",
         "showlegend": false,
         "type": "scatter",
         "x": [
          2.068013742561643,
          2.4818214607716063
         ],
         "y": [
          11.407578252557448,
          12.534145246440623
         ]
        },
        {
         "line": {
          "color": "black"
         },
         "mode": "lines",
         "showlegend": false,
         "type": "scatter",
         "x": [
          2.068013742561643,
          1.913365950769964
         ],
         "y": [
          11.407578252557448,
          12.439630850552733
         ]
        },
        {
         "line": {
          "color": "black"
         },
         "mode": "lines",
         "showlegend": false,
         "type": "scatter",
         "x": [
          22.626567004950086,
          21.355548331441312
         ],
         "y": [
          1.8735638601537008,
          3.729758483848764
         ]
        },
        {
         "line": {
          "color": "black"
         },
         "mode": "lines",
         "showlegend": false,
         "type": "scatter",
         "x": [
          22.626567004950086,
          24.770025159862005
         ],
         "y": [
          1.8735638601537008,
          0.5272136363181636
         ]
        },
        {
         "line": {
          "color": "black"
         },
         "mode": "lines",
         "showlegend": false,
         "type": "scatter",
         "x": [
          22.626567004950086,
          23.944342206157778
         ],
         "y": [
          1.8735638601537008,
          0.6545523089167815
         ]
        },
        {
         "line": {
          "color": "black"
         },
         "mode": "lines",
         "showlegend": false,
         "type": "scatter",
         "x": [
          6.0366269446422205,
          7.05026819850152
         ],
         "y": [
          19.064446821656176,
          21.411724986479694
         ]
        },
        {
         "line": {
          "color": "orange"
         },
         "mode": "lines",
         "showlegend": false,
         "type": "scatter",
         "x": [
          6.0366269446422205,
          2.691607046395832
         ],
         "y": [
          19.064446821656176,
          19.314500829906095
         ]
        },
        {
         "line": {
          "color": "black"
         },
         "mode": "lines",
         "showlegend": false,
         "type": "scatter",
         "x": [
          7.949952757403942,
          7.617067776764993
         ],
         "y": [
          1.6148623555631714,
          3.326991102052131
         ]
        },
        {
         "line": {
          "color": "black"
         },
         "mode": "lines",
         "showlegend": false,
         "type": "scatter",
         "x": [
          7.949952757403942,
          8.57207311021259
         ],
         "y": [
          1.6148623555631714,
          4.1738304184711215
         ]
        },
        {
         "line": {
          "color": "black"
         },
         "mode": "lines",
         "showlegend": false,
         "type": "scatter",
         "x": [
          27.235159885038385,
          26.35798810248738
         ],
         "y": [
          27.966104216572045,
          27.443951083133392
         ]
        },
        {
         "line": {
          "color": "black"
         },
         "mode": "lines",
         "showlegend": false,
         "type": "scatter",
         "x": [
          27.235159885038385,
          26.249685059126303
         ],
         "y": [
          27.966104216572045,
          28.166282424555565
         ]
        },
        {
         "line": {
          "color": "black"
         },
         "mode": "lines",
         "showlegend": false,
         "type": "scatter",
         "x": [
          18.05804520544526,
          17.85137007065068
         ],
         "y": [
          28.304924914347797,
          29.120663683091404
         ]
        },
        {
         "line": {
          "color": "black"
         },
         "mode": "lines",
         "showlegend": false,
         "type": "scatter",
         "x": [
          18.05804520544526,
          17.810341269042194
         ],
         "y": [
          28.304924914347797,
          26.12841576412328
         ]
        },
        {
         "line": {
          "color": "black"
         },
         "mode": "lines",
         "showlegend": false,
         "type": "scatter",
         "x": [
          27.273941601968502,
          28.76593054069154
         ],
         "y": [
          19.26412898142007,
          18.956277921822036
         ]
        },
        {
         "line": {
          "color": "black"
         },
         "mode": "lines",
         "showlegend": false,
         "type": "scatter",
         "x": [
          27.273941601968502,
          26.000310515747433
         ],
         "y": [
          19.26412898142007,
          21.100441339227423
         ]
        },
        {
         "line": {
          "color": "black"
         },
         "mode": "lines",
         "showlegend": false,
         "type": "scatter",
         "x": [
          18.533335733604826,
          19.509681560039194
         ],
         "y": [
          16.260119635434272,
          15.202293966657168
         ]
        },
        {
         "line": {
          "color": "black"
         },
         "mode": "lines",
         "showlegend": false,
         "type": "scatter",
         "x": [
          18.533335733604826,
          17.119286798377953
         ],
         "y": [
          16.260119635434272,
          18.768189970221606
         ]
        },
        {
         "line": {
          "color": "black"
         },
         "mode": "lines",
         "showlegend": false,
         "type": "scatter",
         "x": [
          18.533335733604826,
          17.221587803993067
         ],
         "y": [
          16.260119635434272,
          14.042502375623336
         ]
        },
        {
         "line": {
          "color": "orange"
         },
         "mode": "lines",
         "showlegend": false,
         "type": "scatter",
         "x": [
          18.533335733604826,
          15.493792432218536
         ],
         "y": [
          16.260119635434272,
          15.776146187815447
         ]
        },
        {
         "line": {
          "color": "black"
         },
         "mode": "lines",
         "showlegend": false,
         "type": "scatter",
         "x": [
          11.907255094249157,
          12.603354769613535
         ],
         "y": [
          28.959890086407448,
          28.715559459938074
         ]
        },
        {
         "line": {
          "color": "black"
         },
         "mode": "lines",
         "showlegend": false,
         "type": "scatter",
         "x": [
          11.907255094249157,
          9.309388313021202
         ],
         "y": [
          28.959890086407448,
          29.856728577204752
         ]
        },
        {
         "line": {
          "color": "orange"
         },
         "mode": "lines",
         "showlegend": false,
         "type": "scatter",
         "x": [
          4.0625671480156065,
          2.4818214607716063
         ],
         "y": [
          15.166408938196984,
          12.534145246440623
         ]
        },
        {
         "line": {
          "color": "black"
         },
         "mode": "lines",
         "showlegend": false,
         "type": "scatter",
         "x": [
          4.0625671480156065,
          1.825428280681686
         ],
         "y": [
          15.166408938196984,
          14.463255014532923
         ]
        },
        {
         "line": {
          "color": "black"
         },
         "mode": "lines",
         "showlegend": false,
         "type": "scatter",
         "x": [
          4.0625671480156065,
          4.856098709811654
         ],
         "y": [
          15.166408938196984,
          14.1768686610219
         ]
        },
        {
         "line": {
          "color": "orange"
         },
         "mode": "lines",
         "showlegend": false,
         "type": "scatter",
         "x": [
          4.0625671480156065,
          7.05026374218354
         ],
         "y": [
          15.166408938196984,
          15.63546511439432
         ]
        },
        {
         "line": {
          "color": "black"
         },
         "mode": "lines",
         "showlegend": false,
         "type": "scatter",
         "x": [
          24.770025159862005,
          22.626567004950086
         ],
         "y": [
          0.5272136363181636,
          1.8735638601537008
         ]
        },
        {
         "line": {
          "color": "black"
         },
         "mode": "lines",
         "showlegend": false,
         "type": "scatter",
         "x": [
          24.770025159862005,
          23.944342206157778
         ],
         "y": [
          0.5272136363181636,
          0.6545523089167815
         ]
        },
        {
         "line": {
          "color": "black"
         },
         "mode": "lines",
         "showlegend": false,
         "type": "scatter",
         "x": [
          4.090212176335872,
          2.3137096107466055
         ],
         "y": [
          24.221375996552954,
          22.48860985942812
         ]
        },
        {
         "line": {
          "color": "black"
         },
         "mode": "lines",
         "showlegend": false,
         "type": "scatter",
         "x": [
          4.090212176335872,
          4.801693477255463
         ],
         "y": [
          24.221375996552954,
          22.38041936056741
         ]
        },
        {
         "line": {
          "color": "black"
         },
         "mode": "lines",
         "showlegend": false,
         "type": "scatter",
         "x": [
          4.090212176335872,
          6.505239839960173
         ],
         "y": [
          24.221375996552954,
          23.983784846171034
         ]
        },
        {
         "line": {
          "color": "black"
         },
         "mode": "lines",
         "showlegend": false,
         "type": "scatter",
         "x": [
          17.810341269042194,
          16.573338440551602
         ],
         "y": [
          26.12841576412328,
          25.321972571764462
         ]
        },
        {
         "line": {
          "color": "black"
         },
         "mode": "lines",
         "showlegend": false,
         "type": "scatter",
         "x": [
          17.810341269042194,
          17.85137007065068
         ],
         "y": [
          26.12841576412328,
          29.120663683091404
         ]
        },
        {
         "line": {
          "color": "black"
         },
         "mode": "lines",
         "showlegend": false,
         "type": "scatter",
         "x": [
          17.810341269042194,
          18.676533861383152
         ],
         "y": [
          26.12841576412328,
          24.878556392252705
         ]
        },
        {
         "line": {
          "color": "black"
         },
         "mode": "lines",
         "showlegend": false,
         "type": "scatter",
         "x": [
          17.810341269042194,
          18.05804520544526
         ],
         "y": [
          26.12841576412328,
          28.304924914347797
         ]
        },
        {
         "line": {
          "color": "black"
         },
         "mode": "lines",
         "showlegend": false,
         "type": "scatter",
         "x": [
          17.810341269042194,
          17.802803882260648
         ],
         "y": [
          26.12841576412328,
          25.12470488139936
         ]
        },
        {
         "line": {
          "color": "black"
         },
         "mode": "lines",
         "showlegend": false,
         "type": "scatter",
         "x": [
          13.707543797646625,
          14.701140682598309
         ],
         "y": [
          16.77969239722518,
          17.96900522088882
         ]
        },
        {
         "line": {
          "color": "black"
         },
         "mode": "lines",
         "showlegend": false,
         "type": "scatter",
         "x": [
          13.707543797646625,
          12.569125447635637
         ],
         "y": [
          16.77969239722518,
          18.570387822568392
         ]
        },
        {
         "line": {
          "color": "orange"
         },
         "mode": "lines",
         "showlegend": false,
         "type": "scatter",
         "x": [
          13.707543797646625,
          15.420660701890386
         ],
         "y": [
          16.77969239722518,
          14.261345999111493
         ]
        },
        {
         "line": {
          "color": "black"
         },
         "mode": "lines",
         "showlegend": false,
         "type": "scatter",
         "x": [
          13.707543797646625,
          13.398457037437417
         ],
         "y": [
          16.77969239722518,
          17.921588319994644
         ]
        },
        {
         "line": {
          "color": "black"
         },
         "mode": "lines",
         "showlegend": false,
         "type": "scatter",
         "x": [
          13.707543797646625,
          15.493792432218536
         ],
         "y": [
          16.77969239722518,
          15.776146187815447
         ]
        },
        {
         "line": {
          "color": "black"
         },
         "mode": "lines",
         "showlegend": false,
         "type": "scatter",
         "x": [
          14.701140682598309,
          13.707543797646625
         ],
         "y": [
          17.96900522088882,
          16.77969239722518
         ]
        },
        {
         "line": {
          "color": "black"
         },
         "mode": "lines",
         "showlegend": false,
         "type": "scatter",
         "x": [
          14.701140682598309,
          17.119286798377953
         ],
         "y": [
          17.96900522088882,
          18.768189970221606
         ]
        },
        {
         "line": {
          "color": "black"
         },
         "mode": "lines",
         "showlegend": false,
         "type": "scatter",
         "x": [
          14.701140682598309,
          12.569125447635637
         ],
         "y": [
          17.96900522088882,
          18.570387822568392
         ]
        },
        {
         "line": {
          "color": "black"
         },
         "mode": "lines",
         "showlegend": false,
         "type": "scatter",
         "x": [
          14.701140682598309,
          16.320997340423375
         ],
         "y": [
          17.96900522088882,
          19.551850969057128
         ]
        },
        {
         "line": {
          "color": "black"
         },
         "mode": "lines",
         "showlegend": false,
         "type": "scatter",
         "x": [
          14.701140682598309,
          13.398457037437417
         ],
         "y": [
          17.96900522088882,
          17.921588319994644
         ]
        },
        {
         "line": {
          "color": "black"
         },
         "mode": "lines",
         "showlegend": false,
         "type": "scatter",
         "x": [
          14.701140682598309,
          15.493792432218536
         ],
         "y": [
          17.96900522088882,
          15.776146187815447
         ]
        },
        {
         "line": {
          "color": "black"
         },
         "mode": "lines",
         "showlegend": false,
         "type": "scatter",
         "x": [
          13.133544114492254,
          12.51066014107722
         ],
         "y": [
          24.12256434996113,
          21.609734803264743
         ]
        },
        {
         "line": {
          "color": "black"
         },
         "mode": "lines",
         "showlegend": false,
         "type": "scatter",
         "x": [
          17.035391028544957,
          17.13205009034151
         ],
         "y": [
          5.265330058817318,
          4.121764377117193
         ]
        },
        {
         "line": {
          "color": "black"
         },
         "mode": "lines",
         "showlegend": false,
         "type": "scatter",
         "x": [
          17.035391028544957,
          15.968222774673253
         ],
         "y": [
          5.265330058817318,
          4.092003497998911
         ]
        },
        {
         "line": {
          "color": "black"
         },
         "mode": "lines",
         "showlegend": false,
         "type": "scatter",
         "x": [
          1.913365950769964,
          2.4818214607716063
         ],
         "y": [
          12.439630850552733,
          12.534145246440623
         ]
        },
        {
         "line": {
          "color": "black"
         },
         "mode": "lines",
         "showlegend": false,
         "type": "scatter",
         "x": [
          1.913365950769964,
          1.825428280681686
         ],
         "y": [
          12.439630850552733,
          14.463255014532923
         ]
        },
        {
         "line": {
          "color": "black"
         },
         "mode": "lines",
         "showlegend": false,
         "type": "scatter",
         "x": [
          1.913365950769964,
          2.068013742561643
         ],
         "y": [
          12.439630850552733,
          11.407578252557448
         ]
        },
        {
         "line": {
          "color": "black"
         },
         "mode": "lines",
         "showlegend": false,
         "type": "scatter",
         "x": [
          0.19780217728617833,
          0.820036873515399
         ],
         "y": [
          29.271898843935173,
          27.877306488582388
         ]
        },
        {
         "line": {
          "color": "black"
         },
         "mode": "lines",
         "showlegend": false,
         "type": "scatter",
         "x": [
          0.19780217728617833,
          2.2413964480083695
         ],
         "y": [
          29.271898843935173,
          29.290196030987307
         ]
        },
        {
         "line": {
          "color": "black"
         },
         "mode": "lines",
         "showlegend": false,
         "type": "scatter",
         "x": [
          17.119286798377953,
          18.533335733604826
         ],
         "y": [
          18.768189970221606,
          16.260119635434272
         ]
        },
        {
         "line": {
          "color": "black"
         },
         "mode": "lines",
         "showlegend": false,
         "type": "scatter",
         "x": [
          17.119286798377953,
          14.701140682598309
         ],
         "y": [
          18.768189970221606,
          17.96900522088882
         ]
        },
        {
         "line": {
          "color": "red"
         },
         "mode": "lines",
         "showlegend": false,
         "type": "scatter",
         "x": [
          17.119286798377953,
          17.208609581485653
         ],
         "y": [
          18.768189970221606,
          21.7370008302304
         ]
        },
        {
         "line": {
          "color": "black"
         },
         "mode": "lines",
         "showlegend": false,
         "type": "scatter",
         "x": [
          17.119286798377953,
          16.320997340423375
         ],
         "y": [
          18.768189970221606,
          19.551850969057128
         ]
        },
        {
         "line": {
          "color": "black"
         },
         "mode": "lines",
         "showlegend": false,
         "type": "scatter",
         "x": [
          22.379612135612987,
          24.04384947247098
         ],
         "y": [
          25.391803000640483,
          26.10328340771185
         ]
        },
        {
         "line": {
          "color": "black"
         },
         "mode": "lines",
         "showlegend": false,
         "type": "scatter",
         "x": [
          25.614839576017463,
          27.356344148608276
         ],
         "y": [
          9.782319372236824,
          8.913331729033848
         ]
        },
        {
         "line": {
          "color": "black"
         },
         "mode": "lines",
         "showlegend": false,
         "type": "scatter",
         "x": [
          25.614839576017463,
          26.25375469690666
         ],
         "y": [
          9.782319372236824,
          10.40020381826332
         ]
        },
        {
         "line": {
          "color": "black"
         },
         "mode": "lines",
         "showlegend": false,
         "type": "scatter",
         "x": [
          18.444201227990884,
          20.807660596869376
         ],
         "y": [
          12.469763376473148,
          12.419792380115402
         ]
        },
        {
         "line": {
          "color": "black"
         },
         "mode": "lines",
         "showlegend": false,
         "type": "scatter",
         "x": [
          18.444201227990884,
          19.509681560039194
         ],
         "y": [
          12.469763376473148,
          15.202293966657168
         ]
        },
        {
         "line": {
          "color": "black"
         },
         "mode": "lines",
         "showlegend": false,
         "type": "scatter",
         "x": [
          18.444201227990884,
          17.221587803993067
         ],
         "y": [
          12.469763376473148,
          14.042502375623336
         ]
        },
        {
         "line": {
          "color": "black"
         },
         "mode": "lines",
         "showlegend": false,
         "type": "scatter",
         "x": [
          6.007718556317721,
          5.395293710432373
         ],
         "y": [
          12.636990398164142,
          10.318915714636928
         ]
        },
        {
         "line": {
          "color": "black"
         },
         "mode": "lines",
         "showlegend": false,
         "type": "scatter",
         "x": [
          6.007718556317721,
          4.856098709811654
         ],
         "y": [
          12.636990398164142,
          14.1768686610219
         ]
        },
        {
         "line": {
          "color": "orange"
         },
         "mode": "lines",
         "showlegend": false,
         "type": "scatter",
         "x": [
          6.007718556317721,
          7.05026374218354
         ],
         "y": [
          12.636990398164142,
          15.63546511439432
         ]
        },
        {
         "line": {
          "color": "black"
         },
         "mode": "lines",
         "showlegend": false,
         "type": "scatter",
         "x": [
          26.35798810248738,
          27.235159885038385
         ],
         "y": [
          27.443951083133392,
          27.966104216572045
         ]
        },
        {
         "line": {
          "color": "black"
         },
         "mode": "lines",
         "showlegend": false,
         "type": "scatter",
         "x": [
          26.35798810248738,
          24.04384947247098
         ],
         "y": [
          27.443951083133392,
          26.10328340771185
         ]
        },
        {
         "line": {
          "color": "black"
         },
         "mode": "lines",
         "showlegend": false,
         "type": "scatter",
         "x": [
          26.35798810248738,
          26.249685059126303
         ],
         "y": [
          27.443951083133392,
          28.166282424555565
         ]
        },
        {
         "line": {
          "color": "black"
         },
         "mode": "lines",
         "showlegend": false,
         "type": "scatter",
         "x": [
          7.655937251247368,
          8.36444826674666
         ],
         "y": [
          25.397125295122922,
          23.69497741561941
         ]
        },
        {
         "line": {
          "color": "black"
         },
         "mode": "lines",
         "showlegend": false,
         "type": "scatter",
         "x": [
          7.655937251247368,
          9.320778552234705
         ],
         "y": [
          25.397125295122922,
          26.086649141998926
         ]
        },
        {
         "line": {
          "color": "black"
         },
         "mode": "lines",
         "showlegend": false,
         "type": "scatter",
         "x": [
          7.655937251247368,
          6.505239839960173
         ],
         "y": [
          25.397125295122922,
          23.983784846171034
         ]
        },
        {
         "line": {
          "color": "black"
         },
         "mode": "lines",
         "showlegend": false,
         "type": "scatter",
         "x": [
          17.208609581485653,
          16.497124764118592
         ],
         "y": [
          21.7370008302304,
          22.69318020795043
         ]
        },
        {
         "line": {
          "color": "red"
         },
         "mode": "lines",
         "showlegend": false,
         "type": "scatter",
         "x": [
          17.208609581485653,
          17.119286798377953
         ],
         "y": [
          21.7370008302304,
          18.768189970221606
         ]
        },
        {
         "line": {
          "color": "black"
         },
         "mode": "lines",
         "showlegend": false,
         "type": "scatter",
         "x": [
          17.208609581485653,
          16.320997340423375
         ],
         "y": [
          21.7370008302304,
          19.551850969057128
         ]
        },
        {
         "line": {
          "color": "red"
         },
         "mode": "lines",
         "showlegend": false,
         "type": "scatter",
         "x": [
          17.221587803993067,
          19.509681560039194
         ],
         "y": [
          14.042502375623336,
          15.202293966657168
         ]
        },
        {
         "line": {
          "color": "black"
         },
         "mode": "lines",
         "showlegend": false,
         "type": "scatter",
         "x": [
          17.221587803993067,
          18.533335733604826
         ],
         "y": [
          14.042502375623336,
          16.260119635434272
         ]
        },
        {
         "line": {
          "color": "black"
         },
         "mode": "lines",
         "showlegend": false,
         "type": "scatter",
         "x": [
          17.221587803993067,
          18.444201227990884
         ],
         "y": [
          14.042502375623336,
          12.469763376473148
         ]
        },
        {
         "line": {
          "color": "black"
         },
         "mode": "lines",
         "showlegend": false,
         "type": "scatter",
         "x": [
          17.221587803993067,
          15.420660701890386
         ],
         "y": [
          14.042502375623336,
          14.261345999111493
         ]
        },
        {
         "line": {
          "color": "black"
         },
         "mode": "lines",
         "showlegend": false,
         "type": "scatter",
         "x": [
          17.221587803993067,
          15.493792432218536
         ],
         "y": [
          14.042502375623336,
          15.776146187815447
         ]
        },
        {
         "line": {
          "color": "black"
         },
         "mode": "lines",
         "showlegend": false,
         "type": "scatter",
         "x": [
          11.542440390942767,
          11.663010528007003
         ],
         "y": [
          2.835519540043457,
          5.3396003827618665
         ]
        },
        {
         "line": {
          "color": "black"
         },
         "mode": "lines",
         "showlegend": false,
         "type": "scatter",
         "x": [
          24.04384947247098,
          22.379612135612987
         ],
         "y": [
          26.10328340771185,
          25.391803000640483
         ]
        },
        {
         "line": {
          "color": "black"
         },
         "mode": "lines",
         "showlegend": false,
         "type": "scatter",
         "x": [
          24.04384947247098,
          26.35798810248738
         ],
         "y": [
          26.10328340771185,
          27.443951083133392
         ]
        },
        {
         "line": {
          "color": "orange"
         },
         "mode": "lines",
         "showlegend": false,
         "type": "scatter",
         "x": [
          24.04384947247098,
          26.249685059126303
         ],
         "y": [
          26.10328340771185,
          28.166282424555565
         ]
        },
        {
         "line": {
          "color": "black"
         },
         "mode": "lines",
         "showlegend": false,
         "type": "scatter",
         "x": [
          4.856098709811654,
          2.4818214607716063
         ],
         "y": [
          14.1768686610219,
          12.534145246440623
         ]
        },
        {
         "line": {
          "color": "orange"
         },
         "mode": "lines",
         "showlegend": false,
         "type": "scatter",
         "x": [
          4.856098709811654,
          1.825428280681686
         ],
         "y": [
          14.1768686610219,
          14.463255014532923
         ]
        },
        {
         "line": {
          "color": "black"
         },
         "mode": "lines",
         "showlegend": false,
         "type": "scatter",
         "x": [
          4.856098709811654,
          4.0625671480156065
         ],
         "y": [
          14.1768686610219,
          15.166408938196984
         ]
        },
        {
         "line": {
          "color": "black"
         },
         "mode": "lines",
         "showlegend": false,
         "type": "scatter",
         "x": [
          4.856098709811654,
          6.007718556317721
         ],
         "y": [
          14.1768686610219,
          12.636990398164142
         ]
        },
        {
         "line": {
          "color": "black"
         },
         "mode": "lines",
         "showlegend": false,
         "type": "scatter",
         "x": [
          4.856098709811654,
          7.05026374218354
         ],
         "y": [
          14.1768686610219,
          15.63546511439432
         ]
        },
        {
         "line": {
          "color": "black"
         },
         "mode": "lines",
         "showlegend": false,
         "type": "scatter",
         "x": [
          18.161624043560785,
          20.93034674733634
         ],
         "y": [
          9.121719373316271,
          9.169608690565276
         ]
        },
        {
         "line": {
          "color": "black"
         },
         "mode": "lines",
         "showlegend": false,
         "type": "scatter",
         "x": [
          7.617067776764993,
          5.017284714448343
         ],
         "y": [
          3.326991102052131,
          3.6735661601885337
         ]
        },
        {
         "line": {
          "color": "black"
         },
         "mode": "lines",
         "showlegend": false,
         "type": "scatter",
         "x": [
          7.617067776764993,
          7.949952757403942
         ],
         "y": [
          3.326991102052131,
          1.6148623555631714
         ]
        },
        {
         "line": {
          "color": "black"
         },
         "mode": "lines",
         "showlegend": false,
         "type": "scatter",
         "x": [
          7.617067776764993,
          8.57207311021259
         ],
         "y": [
          3.326991102052131,
          4.1738304184711215
         ]
        },
        {
         "line": {
          "color": "black"
         },
         "mode": "lines",
         "showlegend": false,
         "type": "scatter",
         "x": [
          21.931515186010103,
          21.355548331441312
         ],
         "y": [
          6.1462727344806,
          3.729758483848764
         ]
        },
        {
         "line": {
          "color": "black"
         },
         "mode": "lines",
         "showlegend": false,
         "type": "scatter",
         "x": [
          21.931515186010103,
          23.71152327976804
         ],
         "y": [
          6.1462727344806,
          7.2506186386227665
         ]
        },
        {
         "line": {
          "color": "black"
         },
         "mode": "lines",
         "showlegend": false,
         "type": "scatter",
         "x": [
          12.569125447635637,
          12.64952213468037
         ],
         "y": [
          18.570387822568392,
          20.485729874702077
         ]
        },
        {
         "line": {
          "color": "black"
         },
         "mode": "lines",
         "showlegend": false,
         "type": "scatter",
         "x": [
          12.569125447635637,
          13.707543797646625
         ],
         "y": [
          18.570387822568392,
          16.77969239722518
         ]
        },
        {
         "line": {
          "color": "black"
         },
         "mode": "lines",
         "showlegend": false,
         "type": "scatter",
         "x": [
          12.569125447635637,
          14.701140682598309
         ],
         "y": [
          18.570387822568392,
          17.96900522088882
         ]
        },
        {
         "line": {
          "color": "black"
         },
         "mode": "lines",
         "showlegend": false,
         "type": "scatter",
         "x": [
          12.569125447635637,
          13.398457037437417
         ],
         "y": [
          18.570387822568392,
          17.921588319994644
         ]
        },
        {
         "line": {
          "color": "orange"
         },
         "mode": "lines",
         "showlegend": false,
         "type": "scatter",
         "x": [
          15.420660701890386,
          13.707543797646625
         ],
         "y": [
          14.261345999111493,
          16.77969239722518
         ]
        },
        {
         "line": {
          "color": "black"
         },
         "mode": "lines",
         "showlegend": false,
         "type": "scatter",
         "x": [
          15.420660701890386,
          17.221587803993067
         ],
         "y": [
          14.261345999111493,
          14.042502375623336
         ]
        },
        {
         "line": {
          "color": "black"
         },
         "mode": "lines",
         "showlegend": false,
         "type": "scatter",
         "x": [
          15.420660701890386,
          15.493792432218536
         ],
         "y": [
          14.261345999111493,
          15.776146187815447
         ]
        },
        {
         "line": {
          "color": "orange"
         },
         "mode": "lines",
         "showlegend": false,
         "type": "scatter",
         "x": [
          16.320997340423375,
          16.497124764118592
         ],
         "y": [
          19.551850969057128,
          22.69318020795043
         ]
        },
        {
         "line": {
          "color": "black"
         },
         "mode": "lines",
         "showlegend": false,
         "type": "scatter",
         "x": [
          16.320997340423375,
          14.701140682598309
         ],
         "y": [
          19.551850969057128,
          17.96900522088882
         ]
        },
        {
         "line": {
          "color": "black"
         },
         "mode": "lines",
         "showlegend": false,
         "type": "scatter",
         "x": [
          16.320997340423375,
          17.119286798377953
         ],
         "y": [
          19.551850969057128,
          18.768189970221606
         ]
        },
        {
         "line": {
          "color": "black"
         },
         "mode": "lines",
         "showlegend": false,
         "type": "scatter",
         "x": [
          16.320997340423375,
          17.208609581485653
         ],
         "y": [
          19.551850969057128,
          21.7370008302304
         ]
        },
        {
         "line": {
          "color": "orange"
         },
         "mode": "lines",
         "showlegend": false,
         "type": "scatter",
         "x": [
          7.05026374218354,
          4.0625671480156065
         ],
         "y": [
          15.63546511439432,
          15.166408938196984
         ]
        },
        {
         "line": {
          "color": "orange"
         },
         "mode": "lines",
         "showlegend": false,
         "type": "scatter",
         "x": [
          7.05026374218354,
          6.007718556317721
         ],
         "y": [
          15.63546511439432,
          12.636990398164142
         ]
        },
        {
         "line": {
          "color": "black"
         },
         "mode": "lines",
         "showlegend": false,
         "type": "scatter",
         "x": [
          7.05026374218354,
          4.856098709811654
         ],
         "y": [
          15.63546511439432,
          14.1768686610219
         ]
        },
        {
         "line": {
          "color": "black"
         },
         "mode": "lines",
         "showlegend": false,
         "type": "scatter",
         "x": [
          9.320778552234705,
          8.36444826674666
         ],
         "y": [
          26.086649141998926,
          23.69497741561941
         ]
        },
        {
         "line": {
          "color": "black"
         },
         "mode": "lines",
         "showlegend": false,
         "type": "scatter",
         "x": [
          9.320778552234705,
          7.655937251247368
         ],
         "y": [
          26.086649141998926,
          25.397125295122922
         ]
        },
        {
         "line": {
          "color": "black"
         },
         "mode": "lines",
         "showlegend": false,
         "type": "scatter",
         "x": [
          26.249685059126303,
          27.235159885038385
         ],
         "y": [
          28.166282424555565,
          27.966104216572045
         ]
        },
        {
         "line": {
          "color": "black"
         },
         "mode": "lines",
         "showlegend": false,
         "type": "scatter",
         "x": [
          26.249685059126303,
          26.35798810248738
         ],
         "y": [
          28.166282424555565,
          27.443951083133392
         ]
        },
        {
         "line": {
          "color": "orange"
         },
         "mode": "lines",
         "showlegend": false,
         "type": "scatter",
         "x": [
          26.249685059126303,
          24.04384947247098
         ],
         "y": [
          28.166282424555565,
          26.10328340771185
         ]
        },
        {
         "line": {
          "color": "black"
         },
         "mode": "lines",
         "showlegend": false,
         "type": "scatter",
         "x": [
          2.691607046395832,
          0.6270019756640122
         ],
         "y": [
          19.314500829906095,
          20.038814836649703
         ]
        },
        {
         "line": {
          "color": "red"
         },
         "mode": "lines",
         "showlegend": false,
         "type": "scatter",
         "x": [
          2.691607046395832,
          -0.07485800284970287
         ],
         "y": [
          19.314500829906095,
          18.48671435072229
         ]
        },
        {
         "line": {
          "color": "orange"
         },
         "mode": "lines",
         "showlegend": false,
         "type": "scatter",
         "x": [
          2.691607046395832,
          6.0366269446422205
         ],
         "y": [
          19.314500829906095,
          19.064446821656176
         ]
        },
        {
         "line": {
          "color": "black"
         },
         "mode": "lines",
         "showlegend": false,
         "type": "scatter",
         "x": [
          2.691607046395832,
          1.189680693813181
         ],
         "y": [
          19.314500829906095,
          21.206374141948732
         ]
        },
        {
         "line": {
          "color": "black"
         },
         "mode": "lines",
         "showlegend": false,
         "type": "scatter",
         "x": [
          23.944342206157778,
          22.626567004950086
         ],
         "y": [
          0.6545523089167815,
          1.8735638601537008
         ]
        },
        {
         "line": {
          "color": "black"
         },
         "mode": "lines",
         "showlegend": false,
         "type": "scatter",
         "x": [
          23.944342206157778,
          24.770025159862005
         ],
         "y": [
          0.6545523089167815,
          0.5272136363181636
         ]
        },
        {
         "line": {
          "color": "black"
         },
         "mode": "lines",
         "showlegend": false,
         "type": "scatter",
         "x": [
          7.612759804188084,
          6.580943678055946
         ],
         "y": [
          7.973229274468626,
          8.047273391166751
         ]
        },
        {
         "line": {
          "color": "black"
         },
         "mode": "lines",
         "showlegend": false,
         "type": "scatter",
         "x": [
          24.288333889436764,
          22.47674842046974
         ],
         "y": [
          13.360970309456446,
          13.70773742779185
         ]
        },
        {
         "line": {
          "color": "black"
         },
         "mode": "lines",
         "showlegend": false,
         "type": "scatter",
         "x": [
          8.57207311021259,
          7.949952757403942
         ],
         "y": [
          4.1738304184711215,
          1.6148623555631714
         ]
        },
        {
         "line": {
          "color": "black"
         },
         "mode": "lines",
         "showlegend": false,
         "type": "scatter",
         "x": [
          8.57207311021259,
          7.617067776764993
         ],
         "y": [
          4.1738304184711215,
          3.326991102052131
         ]
        },
        {
         "line": {
          "color": "black"
         },
         "mode": "lines",
         "showlegend": false,
         "type": "scatter",
         "x": [
          28.76593054069154,
          27.273941601968502
         ],
         "y": [
          18.956277921822036,
          19.26412898142007
         ]
        },
        {
         "line": {
          "color": "black"
         },
         "mode": "lines",
         "showlegend": false,
         "type": "scatter",
         "x": [
          15.968222774673253,
          17.13205009034151
         ],
         "y": [
          4.092003497998911,
          4.121764377117193
         ]
        },
        {
         "line": {
          "color": "black"
         },
         "mode": "lines",
         "showlegend": false,
         "type": "scatter",
         "x": [
          15.968222774673253,
          17.035391028544957
         ],
         "y": [
          4.092003497998911,
          5.265330058817318
         ]
        },
        {
         "line": {
          "color": "black"
         },
         "mode": "lines",
         "showlegend": false,
         "type": "scatter",
         "x": [
          4.801693477255463,
          2.3137096107466055
         ],
         "y": [
          22.38041936056741,
          22.48860985942812
         ]
        },
        {
         "line": {
          "color": "black"
         },
         "mode": "lines",
         "showlegend": false,
         "type": "scatter",
         "x": [
          4.801693477255463,
          7.05026819850152
         ],
         "y": [
          22.38041936056741,
          21.411724986479694
         ]
        },
        {
         "line": {
          "color": "black"
         },
         "mode": "lines",
         "showlegend": false,
         "type": "scatter",
         "x": [
          4.801693477255463,
          7.484549313616463
         ],
         "y": [
          22.38041936056741,
          22.26697178570869
         ]
        },
        {
         "line": {
          "color": "black"
         },
         "mode": "lines",
         "showlegend": false,
         "type": "scatter",
         "x": [
          4.801693477255463,
          4.090212176335872
         ],
         "y": [
          22.38041936056741,
          24.221375996552954
         ]
        },
        {
         "line": {
          "color": "black"
         },
         "mode": "lines",
         "showlegend": false,
         "type": "scatter",
         "x": [
          4.801693477255463,
          6.505239839960173
         ],
         "y": [
          22.38041936056741,
          23.983784846171034
         ]
        },
        {
         "line": {
          "color": "black"
         },
         "mode": "lines",
         "showlegend": false,
         "type": "scatter",
         "x": [
          26.000310515747433,
          26.088264592485352
         ],
         "y": [
          21.100441339227423,
          22.623943218123028
         ]
        },
        {
         "line": {
          "color": "black"
         },
         "mode": "lines",
         "showlegend": false,
         "type": "scatter",
         "x": [
          26.000310515747433,
          27.273941601968502
         ],
         "y": [
          21.100441339227423,
          19.26412898142007
         ]
        },
        {
         "line": {
          "color": "red"
         },
         "mode": "lines",
         "showlegend": false,
         "type": "scatter",
         "x": [
          13.398457037437417,
          12.64952213468037
         ],
         "y": [
          17.921588319994644,
          20.485729874702077
         ]
        },
        {
         "line": {
          "color": "black"
         },
         "mode": "lines",
         "showlegend": false,
         "type": "scatter",
         "x": [
          13.398457037437417,
          13.707543797646625
         ],
         "y": [
          17.921588319994644,
          16.77969239722518
         ]
        },
        {
         "line": {
          "color": "black"
         },
         "mode": "lines",
         "showlegend": false,
         "type": "scatter",
         "x": [
          13.398457037437417,
          14.701140682598309
         ],
         "y": [
          17.921588319994644,
          17.96900522088882
         ]
        },
        {
         "line": {
          "color": "black"
         },
         "mode": "lines",
         "showlegend": false,
         "type": "scatter",
         "x": [
          13.398457037437417,
          12.569125447635637
         ],
         "y": [
          17.921588319994644,
          18.570387822568392
         ]
        },
        {
         "line": {
          "color": "black"
         },
         "mode": "lines",
         "showlegend": false,
         "type": "scatter",
         "x": [
          13.398457037437417,
          15.493792432218536
         ],
         "y": [
          17.921588319994644,
          15.776146187815447
         ]
        },
        {
         "line": {
          "color": "black"
         },
         "mode": "lines",
         "showlegend": false,
         "type": "scatter",
         "x": [
          22.47674842046974,
          20.807660596869376
         ],
         "y": [
          13.70773742779185,
          12.419792380115402
         ]
        },
        {
         "line": {
          "color": "black"
         },
         "mode": "lines",
         "showlegend": false,
         "type": "scatter",
         "x": [
          22.47674842046974,
          24.288333889436764
         ],
         "y": [
          13.70773742779185,
          13.360970309456446
         ]
        },
        {
         "line": {
          "color": "black"
         },
         "mode": "lines",
         "showlegend": false,
         "type": "scatter",
         "x": [
          6.505239839960173,
          8.36444826674666
         ],
         "y": [
          23.983784846171034,
          23.69497741561941
         ]
        },
        {
         "line": {
          "color": "black"
         },
         "mode": "lines",
         "showlegend": false,
         "type": "scatter",
         "x": [
          6.505239839960173,
          7.05026819850152
         ],
         "y": [
          23.983784846171034,
          21.411724986479694
         ]
        },
        {
         "line": {
          "color": "black"
         },
         "mode": "lines",
         "showlegend": false,
         "type": "scatter",
         "x": [
          6.505239839960173,
          7.484549313616463
         ],
         "y": [
          23.983784846171034,
          22.26697178570869
         ]
        },
        {
         "line": {
          "color": "black"
         },
         "mode": "lines",
         "showlegend": false,
         "type": "scatter",
         "x": [
          6.505239839960173,
          4.090212176335872
         ],
         "y": [
          23.983784846171034,
          24.221375996552954
         ]
        },
        {
         "line": {
          "color": "black"
         },
         "mode": "lines",
         "showlegend": false,
         "type": "scatter",
         "x": [
          6.505239839960173,
          7.655937251247368
         ],
         "y": [
          23.983784846171034,
          25.397125295122922
         ]
        },
        {
         "line": {
          "color": "black"
         },
         "mode": "lines",
         "showlegend": false,
         "type": "scatter",
         "x": [
          6.505239839960173,
          4.801693477255463
         ],
         "y": [
          23.983784846171034,
          22.38041936056741
         ]
        },
        {
         "line": {
          "color": "black"
         },
         "mode": "lines",
         "showlegend": false,
         "type": "scatter",
         "x": [
          17.802803882260648,
          16.573338440551602
         ],
         "y": [
          25.12470488139936,
          25.321972571764462
         ]
        },
        {
         "line": {
          "color": "black"
         },
         "mode": "lines",
         "showlegend": false,
         "type": "scatter",
         "x": [
          17.802803882260648,
          18.676533861383152
         ],
         "y": [
          25.12470488139936,
          24.878556392252705
         ]
        },
        {
         "line": {
          "color": "red"
         },
         "mode": "lines",
         "showlegend": false,
         "type": "scatter",
         "x": [
          17.802803882260648,
          16.497124764118592
         ],
         "y": [
          25.12470488139936,
          22.69318020795043
         ]
        },
        {
         "line": {
          "color": "black"
         },
         "mode": "lines",
         "showlegend": false,
         "type": "scatter",
         "x": [
          17.802803882260648,
          17.810341269042194
         ],
         "y": [
          25.12470488139936,
          26.12841576412328
         ]
        },
        {
         "line": {
          "color": "orange"
         },
         "mode": "lines",
         "showlegend": false,
         "type": "scatter",
         "x": [
          15.493792432218536,
          18.533335733604826
         ],
         "y": [
          15.776146187815447,
          16.260119635434272
         ]
        },
        {
         "line": {
          "color": "black"
         },
         "mode": "lines",
         "showlegend": false,
         "type": "scatter",
         "x": [
          15.493792432218536,
          13.707543797646625
         ],
         "y": [
          15.776146187815447,
          16.77969239722518
         ]
        },
        {
         "line": {
          "color": "black"
         },
         "mode": "lines",
         "showlegend": false,
         "type": "scatter",
         "x": [
          15.493792432218536,
          14.701140682598309
         ],
         "y": [
          15.776146187815447,
          17.96900522088882
         ]
        },
        {
         "line": {
          "color": "black"
         },
         "mode": "lines",
         "showlegend": false,
         "type": "scatter",
         "x": [
          15.493792432218536,
          17.221587803993067
         ],
         "y": [
          15.776146187815447,
          14.042502375623336
         ]
        },
        {
         "line": {
          "color": "black"
         },
         "mode": "lines",
         "showlegend": false,
         "type": "scatter",
         "x": [
          15.493792432218536,
          15.420660701890386
         ],
         "y": [
          15.776146187815447,
          14.261345999111493
         ]
        },
        {
         "line": {
          "color": "black"
         },
         "mode": "lines",
         "showlegend": false,
         "type": "scatter",
         "x": [
          15.493792432218536,
          13.398457037437417
         ],
         "y": [
          15.776146187815447,
          17.921588319994644
         ]
        },
        {
         "line": {
          "color": "black"
         },
         "mode": "lines",
         "showlegend": false,
         "type": "scatter",
         "x": [
          1.189680693813181,
          0.6270019756640122
         ],
         "y": [
          21.206374141948732,
          20.038814836649703
         ]
        },
        {
         "line": {
          "color": "black"
         },
         "mode": "lines",
         "showlegend": false,
         "type": "scatter",
         "x": [
          1.189680693813181,
          0.5429498707111646
         ],
         "y": [
          21.206374141948732,
          22.00993174309512
         ]
        },
        {
         "line": {
          "color": "black"
         },
         "mode": "lines",
         "showlegend": false,
         "type": "scatter",
         "x": [
          1.189680693813181,
          -0.07485800284970287
         ],
         "y": [
          21.206374141948732,
          18.48671435072229
         ]
        },
        {
         "line": {
          "color": "black"
         },
         "mode": "lines",
         "showlegend": false,
         "type": "scatter",
         "x": [
          1.189680693813181,
          2.3137096107466055
         ],
         "y": [
          21.206374141948732,
          22.48860985942812
         ]
        },
        {
         "line": {
          "color": "black"
         },
         "mode": "lines",
         "showlegend": false,
         "type": "scatter",
         "x": [
          1.189680693813181,
          2.691607046395832
         ],
         "y": [
          21.206374141948732,
          19.314500829906095
         ]
        }
       ],
       "layout": {
        "height": 1000,
        "template": {
         "data": {
          "bar": [
           {
            "error_x": {
             "color": "#2a3f5f"
            },
            "error_y": {
             "color": "#2a3f5f"
            },
            "marker": {
             "line": {
              "color": "#E5ECF6",
              "width": 0.5
             },
             "pattern": {
              "fillmode": "overlay",
              "size": 10,
              "solidity": 0.2
             }
            },
            "type": "bar"
           }
          ],
          "barpolar": [
           {
            "marker": {
             "line": {
              "color": "#E5ECF6",
              "width": 0.5
             },
             "pattern": {
              "fillmode": "overlay",
              "size": 10,
              "solidity": 0.2
             }
            },
            "type": "barpolar"
           }
          ],
          "carpet": [
           {
            "aaxis": {
             "endlinecolor": "#2a3f5f",
             "gridcolor": "white",
             "linecolor": "white",
             "minorgridcolor": "white",
             "startlinecolor": "#2a3f5f"
            },
            "baxis": {
             "endlinecolor": "#2a3f5f",
             "gridcolor": "white",
             "linecolor": "white",
             "minorgridcolor": "white",
             "startlinecolor": "#2a3f5f"
            },
            "type": "carpet"
           }
          ],
          "choropleth": [
           {
            "colorbar": {
             "outlinewidth": 0,
             "ticks": ""
            },
            "type": "choropleth"
           }
          ],
          "contour": [
           {
            "colorbar": {
             "outlinewidth": 0,
             "ticks": ""
            },
            "colorscale": [
             [
              0,
              "#0d0887"
             ],
             [
              0.1111111111111111,
              "#46039f"
             ],
             [
              0.2222222222222222,
              "#7201a8"
             ],
             [
              0.3333333333333333,
              "#9c179e"
             ],
             [
              0.4444444444444444,
              "#bd3786"
             ],
             [
              0.5555555555555556,
              "#d8576b"
             ],
             [
              0.6666666666666666,
              "#ed7953"
             ],
             [
              0.7777777777777778,
              "#fb9f3a"
             ],
             [
              0.8888888888888888,
              "#fdca26"
             ],
             [
              1,
              "#f0f921"
             ]
            ],
            "type": "contour"
           }
          ],
          "contourcarpet": [
           {
            "colorbar": {
             "outlinewidth": 0,
             "ticks": ""
            },
            "type": "contourcarpet"
           }
          ],
          "heatmap": [
           {
            "colorbar": {
             "outlinewidth": 0,
             "ticks": ""
            },
            "colorscale": [
             [
              0,
              "#0d0887"
             ],
             [
              0.1111111111111111,
              "#46039f"
             ],
             [
              0.2222222222222222,
              "#7201a8"
             ],
             [
              0.3333333333333333,
              "#9c179e"
             ],
             [
              0.4444444444444444,
              "#bd3786"
             ],
             [
              0.5555555555555556,
              "#d8576b"
             ],
             [
              0.6666666666666666,
              "#ed7953"
             ],
             [
              0.7777777777777778,
              "#fb9f3a"
             ],
             [
              0.8888888888888888,
              "#fdca26"
             ],
             [
              1,
              "#f0f921"
             ]
            ],
            "type": "heatmap"
           }
          ],
          "heatmapgl": [
           {
            "colorbar": {
             "outlinewidth": 0,
             "ticks": ""
            },
            "colorscale": [
             [
              0,
              "#0d0887"
             ],
             [
              0.1111111111111111,
              "#46039f"
             ],
             [
              0.2222222222222222,
              "#7201a8"
             ],
             [
              0.3333333333333333,
              "#9c179e"
             ],
             [
              0.4444444444444444,
              "#bd3786"
             ],
             [
              0.5555555555555556,
              "#d8576b"
             ],
             [
              0.6666666666666666,
              "#ed7953"
             ],
             [
              0.7777777777777778,
              "#fb9f3a"
             ],
             [
              0.8888888888888888,
              "#fdca26"
             ],
             [
              1,
              "#f0f921"
             ]
            ],
            "type": "heatmapgl"
           }
          ],
          "histogram": [
           {
            "marker": {
             "pattern": {
              "fillmode": "overlay",
              "size": 10,
              "solidity": 0.2
             }
            },
            "type": "histogram"
           }
          ],
          "histogram2d": [
           {
            "colorbar": {
             "outlinewidth": 0,
             "ticks": ""
            },
            "colorscale": [
             [
              0,
              "#0d0887"
             ],
             [
              0.1111111111111111,
              "#46039f"
             ],
             [
              0.2222222222222222,
              "#7201a8"
             ],
             [
              0.3333333333333333,
              "#9c179e"
             ],
             [
              0.4444444444444444,
              "#bd3786"
             ],
             [
              0.5555555555555556,
              "#d8576b"
             ],
             [
              0.6666666666666666,
              "#ed7953"
             ],
             [
              0.7777777777777778,
              "#fb9f3a"
             ],
             [
              0.8888888888888888,
              "#fdca26"
             ],
             [
              1,
              "#f0f921"
             ]
            ],
            "type": "histogram2d"
           }
          ],
          "histogram2dcontour": [
           {
            "colorbar": {
             "outlinewidth": 0,
             "ticks": ""
            },
            "colorscale": [
             [
              0,
              "#0d0887"
             ],
             [
              0.1111111111111111,
              "#46039f"
             ],
             [
              0.2222222222222222,
              "#7201a8"
             ],
             [
              0.3333333333333333,
              "#9c179e"
             ],
             [
              0.4444444444444444,
              "#bd3786"
             ],
             [
              0.5555555555555556,
              "#d8576b"
             ],
             [
              0.6666666666666666,
              "#ed7953"
             ],
             [
              0.7777777777777778,
              "#fb9f3a"
             ],
             [
              0.8888888888888888,
              "#fdca26"
             ],
             [
              1,
              "#f0f921"
             ]
            ],
            "type": "histogram2dcontour"
           }
          ],
          "mesh3d": [
           {
            "colorbar": {
             "outlinewidth": 0,
             "ticks": ""
            },
            "type": "mesh3d"
           }
          ],
          "parcoords": [
           {
            "line": {
             "colorbar": {
              "outlinewidth": 0,
              "ticks": ""
             }
            },
            "type": "parcoords"
           }
          ],
          "pie": [
           {
            "automargin": true,
            "type": "pie"
           }
          ],
          "scatter": [
           {
            "fillpattern": {
             "fillmode": "overlay",
             "size": 10,
             "solidity": 0.2
            },
            "type": "scatter"
           }
          ],
          "scatter3d": [
           {
            "line": {
             "colorbar": {
              "outlinewidth": 0,
              "ticks": ""
             }
            },
            "marker": {
             "colorbar": {
              "outlinewidth": 0,
              "ticks": ""
             }
            },
            "type": "scatter3d"
           }
          ],
          "scattercarpet": [
           {
            "marker": {
             "colorbar": {
              "outlinewidth": 0,
              "ticks": ""
             }
            },
            "type": "scattercarpet"
           }
          ],
          "scattergeo": [
           {
            "marker": {
             "colorbar": {
              "outlinewidth": 0,
              "ticks": ""
             }
            },
            "type": "scattergeo"
           }
          ],
          "scattergl": [
           {
            "marker": {
             "colorbar": {
              "outlinewidth": 0,
              "ticks": ""
             }
            },
            "type": "scattergl"
           }
          ],
          "scattermapbox": [
           {
            "marker": {
             "colorbar": {
              "outlinewidth": 0,
              "ticks": ""
             }
            },
            "type": "scattermapbox"
           }
          ],
          "scatterpolar": [
           {
            "marker": {
             "colorbar": {
              "outlinewidth": 0,
              "ticks": ""
             }
            },
            "type": "scatterpolar"
           }
          ],
          "scatterpolargl": [
           {
            "marker": {
             "colorbar": {
              "outlinewidth": 0,
              "ticks": ""
             }
            },
            "type": "scatterpolargl"
           }
          ],
          "scatterternary": [
           {
            "marker": {
             "colorbar": {
              "outlinewidth": 0,
              "ticks": ""
             }
            },
            "type": "scatterternary"
           }
          ],
          "surface": [
           {
            "colorbar": {
             "outlinewidth": 0,
             "ticks": ""
            },
            "colorscale": [
             [
              0,
              "#0d0887"
             ],
             [
              0.1111111111111111,
              "#46039f"
             ],
             [
              0.2222222222222222,
              "#7201a8"
             ],
             [
              0.3333333333333333,
              "#9c179e"
             ],
             [
              0.4444444444444444,
              "#bd3786"
             ],
             [
              0.5555555555555556,
              "#d8576b"
             ],
             [
              0.6666666666666666,
              "#ed7953"
             ],
             [
              0.7777777777777778,
              "#fb9f3a"
             ],
             [
              0.8888888888888888,
              "#fdca26"
             ],
             [
              1,
              "#f0f921"
             ]
            ],
            "type": "surface"
           }
          ],
          "table": [
           {
            "cells": {
             "fill": {
              "color": "#EBF0F8"
             },
             "line": {
              "color": "white"
             }
            },
            "header": {
             "fill": {
              "color": "#C8D4E3"
             },
             "line": {
              "color": "white"
             }
            },
            "type": "table"
           }
          ]
         },
         "layout": {
          "annotationdefaults": {
           "arrowcolor": "#2a3f5f",
           "arrowhead": 0,
           "arrowwidth": 1
          },
          "autotypenumbers": "strict",
          "coloraxis": {
           "colorbar": {
            "outlinewidth": 0,
            "ticks": ""
           }
          },
          "colorscale": {
           "diverging": [
            [
             0,
             "#8e0152"
            ],
            [
             0.1,
             "#c51b7d"
            ],
            [
             0.2,
             "#de77ae"
            ],
            [
             0.3,
             "#f1b6da"
            ],
            [
             0.4,
             "#fde0ef"
            ],
            [
             0.5,
             "#f7f7f7"
            ],
            [
             0.6,
             "#e6f5d0"
            ],
            [
             0.7,
             "#b8e186"
            ],
            [
             0.8,
             "#7fbc41"
            ],
            [
             0.9,
             "#4d9221"
            ],
            [
             1,
             "#276419"
            ]
           ],
           "sequential": [
            [
             0,
             "#0d0887"
            ],
            [
             0.1111111111111111,
             "#46039f"
            ],
            [
             0.2222222222222222,
             "#7201a8"
            ],
            [
             0.3333333333333333,
             "#9c179e"
            ],
            [
             0.4444444444444444,
             "#bd3786"
            ],
            [
             0.5555555555555556,
             "#d8576b"
            ],
            [
             0.6666666666666666,
             "#ed7953"
            ],
            [
             0.7777777777777778,
             "#fb9f3a"
            ],
            [
             0.8888888888888888,
             "#fdca26"
            ],
            [
             1,
             "#f0f921"
            ]
           ],
           "sequentialminus": [
            [
             0,
             "#0d0887"
            ],
            [
             0.1111111111111111,
             "#46039f"
            ],
            [
             0.2222222222222222,
             "#7201a8"
            ],
            [
             0.3333333333333333,
             "#9c179e"
            ],
            [
             0.4444444444444444,
             "#bd3786"
            ],
            [
             0.5555555555555556,
             "#d8576b"
            ],
            [
             0.6666666666666666,
             "#ed7953"
            ],
            [
             0.7777777777777778,
             "#fb9f3a"
            ],
            [
             0.8888888888888888,
             "#fdca26"
            ],
            [
             1,
             "#f0f921"
            ]
           ]
          },
          "colorway": [
           "#636efa",
           "#EF553B",
           "#00cc96",
           "#ab63fa",
           "#FFA15A",
           "#19d3f3",
           "#FF6692",
           "#B6E880",
           "#FF97FF",
           "#FECB52"
          ],
          "font": {
           "color": "#2a3f5f"
          },
          "geo": {
           "bgcolor": "white",
           "lakecolor": "white",
           "landcolor": "#E5ECF6",
           "showlakes": true,
           "showland": true,
           "subunitcolor": "white"
          },
          "hoverlabel": {
           "align": "left"
          },
          "hovermode": "closest",
          "mapbox": {
           "style": "light"
          },
          "paper_bgcolor": "white",
          "plot_bgcolor": "#E5ECF6",
          "polar": {
           "angularaxis": {
            "gridcolor": "white",
            "linecolor": "white",
            "ticks": ""
           },
           "bgcolor": "#E5ECF6",
           "radialaxis": {
            "gridcolor": "white",
            "linecolor": "white",
            "ticks": ""
           }
          },
          "scene": {
           "xaxis": {
            "backgroundcolor": "#E5ECF6",
            "gridcolor": "white",
            "gridwidth": 2,
            "linecolor": "white",
            "showbackground": true,
            "ticks": "",
            "zerolinecolor": "white"
           },
           "yaxis": {
            "backgroundcolor": "#E5ECF6",
            "gridcolor": "white",
            "gridwidth": 2,
            "linecolor": "white",
            "showbackground": true,
            "ticks": "",
            "zerolinecolor": "white"
           },
           "zaxis": {
            "backgroundcolor": "#E5ECF6",
            "gridcolor": "white",
            "gridwidth": 2,
            "linecolor": "white",
            "showbackground": true,
            "ticks": "",
            "zerolinecolor": "white"
           }
          },
          "shapedefaults": {
           "line": {
            "color": "#2a3f5f"
           }
          },
          "ternary": {
           "aaxis": {
            "gridcolor": "white",
            "linecolor": "white",
            "ticks": ""
           },
           "baxis": {
            "gridcolor": "white",
            "linecolor": "white",
            "ticks": ""
           },
           "bgcolor": "#E5ECF6",
           "caxis": {
            "gridcolor": "white",
            "linecolor": "white",
            "ticks": ""
           }
          },
          "title": {
           "x": 0.05
          },
          "xaxis": {
           "automargin": true,
           "gridcolor": "white",
           "linecolor": "white",
           "ticks": "",
           "title": {
            "standoff": 15
           },
           "zerolinecolor": "white",
           "zerolinewidth": 2
          },
          "yaxis": {
           "automargin": true,
           "gridcolor": "white",
           "linecolor": "white",
           "ticks": "",
           "title": {
            "standoff": 15
           },
           "zerolinecolor": "white",
           "zerolinewidth": 2
          }
         }
        },
        "title": {
         "text": "Nodes"
        },
        "width": 1000,
        "xaxis": {
         "title": {
          "text": "km"
         }
        },
        "yaxis": {
         "title": {
          "text": "km"
         }
        }
       }
      }
     },
     "metadata": {},
     "output_type": "display_data"
    }
   ],
   "source": [
    "\n",
    "np.random.seed(1)\n",
    "sim = NetworkSimulator(simulation_rate=10)\n",
    "sim.step()\n",
    "sim.step()\n",
    "sim.step()\n",
    "sim.step()\n",
    "sim.step()\n",
    "\n",
    "\n",
    "fig = go.Figure()\n",
    "\n",
    "nt.visualize_nodes(sim.nodes,fig,'blue')\n",
    "nt.visualize_cmatrix(sim.nodes,sim.current_connectivity,fig,reported_cmatrix=sim.reported_connectivity)\n",
    "    # Update the layout\n",
    "fig.update_layout(\n",
    "    title='Nodes',\n",
    "    xaxis_title='km',\n",
    "    yaxis_title='km',\n",
    "    width=1000,\n",
    "    height=1000\n",
    "    )\n",
    "   \n",
    "    "
   ]
  },
  {
   "cell_type": "code",
   "execution_count": 19,
   "metadata": {},
   "outputs": [
    {
     "name": "stderr",
     "output_type": "stream",
     "text": [
      "Processing: 100%|██████████| 120/120 [00:23<00:00,  5.02it/s, accuracy=0.69] \n"
     ]
    },
    {
     "data": {
      "image/png": "[encoded data removed]",
      "text/plain": [
       "<Figure size 640x480 with 1 Axes>"
      ]
     },
     "metadata": {},
     "output_type": "display_data"
    }
   ],
   "source": [
    "np.random.seed(1)\n",
    "\n",
    "output_filename = 'output.mp4'\n",
    "fps = 8\n",
    "image_size = (640, 480)  # Adjust the size as per your image dimensions\n",
    "fourcc = cv2.VideoWriter_fourcc(*'mp4v')  # For MP4 format, use 'mp4v' or 'avc1'\n",
    "video_writer = cv2.VideoWriter(output_filename, fourcc, fps, image_size)\n",
    "\n",
    "total_time = 120\n",
    "sim = NetworkSimulator(simulation_rate=2,update_rate=15*60)\n",
    "\n",
    "real_plus_reported_edges = 0\n",
    "real_reported_edges = 0\n",
    "\n",
    "# Iterate over the range with tqdm\n",
    "fig = plt.figure()\n",
    "with tqdm(range(total_time), desc=\"Processing\") as pbar:\n",
    "    for i in pbar:\n",
    "        sim.step()\n",
    "        real_plus_reported_edges+= np.sum((sim.current_connectivity | sim.reported_connectivity))\n",
    "        real_reported_edges+= np.sum(sim.current_connectivity & sim.reported_connectivity)\n",
    "        accuracy = real_reported_edges/real_plus_reported_edges\n",
    "        pbar.set_postfix({\"accuracy\":f\"{accuracy:0.3}\"})\n",
    "        fig.clear()\n",
    "        ax=plt.subplot(111)\n",
    "        nt.visualize_nodes(sim.nodes,fig,'blue',is_plotly=False)\n",
    "        nt.visualize_cmatrix(sim.nodes,sim.current_connectivity,fig,reported_cmatrix=sim.reported_connectivity,is_plotly=False)\n",
    "        ax.set_title(f\"time ={sim.current_time}s\")\n",
    "        ax.set_ylim(0,sim.distribution_params.area_size_y)\n",
    "        ax.set_xlim(0,sim.distribution_params.area_size_x)\n",
    "        canvas = fig.canvas\n",
    "        canvas.draw()\n",
    "        image_array = np.array(canvas.renderer.buffer_rgba())\n",
    "        image_array = image_array[:,:,0:3] # to rgb\n",
    "        image_array = image_array[:,:,[2,1,0]]\n",
    "        video_writer.write(image_array)\n",
    "\n",
    "video_writer.release()\n"
   ]
  },
  {
   "cell_type": "code",
   "execution_count": null,
   "metadata": {},
   "outputs": [
    {
     "ename": "ModuleNotFoundError",
     "evalue": "No module named 'scipy'",
     "output_type": "error",
     "traceback": [
      "\u001b[1;31m---------------------------------------------------------------------------\u001b[0m",
      "\u001b[1;31mModuleNotFoundError\u001b[0m                       Traceback (most recent call last)",
      "Cell \u001b[1;32mIn[6], line 1\u001b[0m\n\u001b[1;32m----> 1\u001b[0m \u001b[39mimport\u001b[39;00m \u001b[39mscipy\u001b[39;00m\u001b[39m.\u001b[39;00m\u001b[39mndimage\u001b[39;00m \u001b[39mas\u001b[39;00m \u001b[39mndimage\u001b[39;00m\n\u001b[0;32m      5\u001b[0m \u001b[39mdef\u001b[39;00m \u001b[39mgenerate_terrain_height_map\u001b[39m(size, max_elevation, smoothness):\n\u001b[0;32m      6\u001b[0m \u001b[39m    \u001b[39m\u001b[39m\"\"\"\u001b[39;00m\n\u001b[0;32m      7\u001b[0m \u001b[39m    Generates a randomized terrain height map for a rural area.\u001b[39;00m\n\u001b[0;32m      8\u001b[0m \n\u001b[1;32m   (...)\u001b[0m\n\u001b[0;32m     15\u001b[0m \u001b[39m        numpy.ndarray: 2D array representing the terrain height map.\u001b[39;00m\n\u001b[0;32m     16\u001b[0m \u001b[39m    \"\"\"\u001b[39;00m\n",
      "\u001b[1;31mModuleNotFoundError\u001b[0m: No module named 'scipy'"
     ]
    }
   ],
   "source": [
    "import scipy.ndimage as ndimage\n",
    "\n",
    "\n",
    "\n",
    "def generate_terrain_height_map(size, max_elevation, smoothness):\n",
    "    \"\"\"\n",
    "    Generates a randomized terrain height map for a rural area.\n",
    "\n",
    "    Args:\n",
    "        size (tuple): Size of the height map (rows, columns).\n",
    "        max_elevation (float): Maximum elevation value for the terrain.\n",
    "        smoothness (float): Controls the smoothness of the terrain. Higher values result in smoother terrain.\n",
    "\n",
    "    Returns:\n",
    "        numpy.ndarray: 2D array representing the terrain height map.\n",
    "    \"\"\"\n",
    "    # Generate a random noise map\n",
    "    noise_map = np.random.uniform(low=0.0, high=1.0, size=size)\n",
    "\n",
    "    # Smooth the noise map using a Gaussian filter\n",
    "    smoothed_map = ndimage.gaussian_filter(noise_map, sigma=smoothness)\n",
    "\n",
    "    # Normalize the smoothed map to the desired elevation range\n",
    "    normalized_map = max_elevation * (smoothed_map - np.min(smoothed_map)) / (np.max(smoothed_map) - np.min(smoothed_map))\n",
    "\n",
    "    return normalized_map"
   ]
  },
  {
   "cell_type": "code",
   "execution_count": null,
   "metadata": {},
   "outputs": [],
   "source": [
    "x = generate_terrain_height_map((1000,1000),150,10)"
   ]
  },
  {
   "cell_type": "code",
   "execution_count": null,
   "metadata": {},
   "outputs": [],
   "source": [
    "import matplotlib.pyplot as plt\n",
    "\n",
    "def visualize_terrain_height_map(terrain_height_map):\n",
    "    \"\"\"\n",
    "    Visualizes a terrain height map.\n",
    "\n",
    "    Args:\n",
    "        terrain_height_map (numpy.ndarray): 2D array representing the terrain height map.\n",
    "    \"\"\"\n",
    "    plt.figure(figsize=(8, 6))\n",
    "    plt.imshow(terrain_height_map, cmap='terrain', origin='lower')\n",
    "    plt.colorbar(label='Elevation (m)')\n",
    "    plt.xlabel('Columns')\n",
    "    plt.ylabel('Rows')\n",
    "    plt.title('Terrain Height Map')\n",
    "    plt.show()"
   ]
  },
  {
   "cell_type": "code",
   "execution_count": null,
   "metadata": {},
   "outputs": [
    {
     "data": {
      "image/png": "[encoded data removed]",
      "text/plain": [
       "<Figure size 576x432 with 2 Axes>"
      ]
     },
     "metadata": {
      "needs_background": "light"
     },
     "output_type": "display_data"
    }
   ],
   "source": [
    "terrain_map = generate_terrain_height_map(size=(100, 100), max_elevation=160, smoothness=5)\n",
    "visualize_terrain_height_map(terrain_map)"
   ]
  },
  {
   "cell_type": "code",
   "execution_count": 6,
   "metadata": {},
   "outputs": [
    {
     "name": "stdout",
     "output_type": "stream",
     "text": [
      "Image array shape: (480, 640, 4)\n"
     ]
    },
    {
     "data": {
      "image/png": "[encoded data removed]",
      "text/plain": [
       "<Figure size 640x480 with 1 Axes>"
      ]
     },
     "metadata": {},
     "output_type": "display_data"
    }
   ],
   "source": [
    "import matplotlib.pyplot as plt\n",
    "import numpy as np\n",
    "\n",
    "# Create a sample figure\n",
    "fig, ax = plt.subplots()\n",
    "ax.plot([1, 2, 3, 4, 5], [10, 8, 6, 4, 2])\n",
    "ax.set_xlabel('X')\n",
    "ax.set_ylabel('Y')\n",
    "ax.set_title('Sample Plot')\n",
    "ax.axis('off')\n",
    "\n",
    "# Export the figure to a NumPy image array\n",
    "canvas = fig.canvas\n",
    "canvas.draw()\n",
    "image_array = np.array(canvas.renderer.buffer_rgba())\n",
    "\n",
    "# Show the image array shape\n",
    "print(\"Image array shape:\", image_array.shape)"
   ]
  },
  {
   "cell_type": "code",
   "execution_count": 7,
   "metadata": {},
   "outputs": [
    {
     "data": {
      "text/plain": [
       "<matplotlib.image.AxesImage at 0x2318ae91630>"
      ]
     },
     "execution_count": 7,
     "metadata": {},
     "output_type": "execute_result"
    },
    {
     "data": {
      "image/png": "[encoded data removed]",
      "text/plain": [
       "<Figure size 640x480 with 1 Axes>"
      ]
     },
     "metadata": {},
     "output_type": "display_data"
    }
   ],
   "source": [
    "plt.imshow(image_array[:,:,0:3])\n"
   ]
  }
 ],
 "metadata": {
  "kernelspec": {
   "display_name": "Python 3.9.5 64-bit",
   "language": "python",
   "name": "python3"
  },
  "language_info": {
   "codemirror_mode": {
    "name": "ipython",
    "version": 3
   },
   "file_extension": ".py",
   "mimetype": "text/x-python",
   "name": "python",
   "nbconvert_exporter": "python",
   "pygments_lexer": "ipython3",
   "version": "3.10.10"
  },
  "orig_nbformat": 4,
  "vscode": {
   "interpreter": {
    "hash": "1fbcc9a97312d1578c474786306930bb94bab7adedda3770e4e8cb3d7f33bd04"
   }
  }
 },
 "nbformat": 4,
 "nbformat_minor": 2
}
